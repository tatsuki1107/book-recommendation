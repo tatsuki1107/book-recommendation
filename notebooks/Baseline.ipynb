{
 "cells": [
  {
   "cell_type": "markdown",
   "id": "933b3bda-41c5-4973-a1ef-e682821a2a03",
   "metadata": {},
   "source": [
    "# ベースライン指標"
   ]
  },
  {
   "cell_type": "code",
   "execution_count": 85,
   "id": "9f4cb775-5f99-4607-bb70-ead8128cf069",
   "metadata": {},
   "outputs": [],
   "source": [
    "import joblib\n",
    "train_df, test_df = joblib.load(\"../data/train_test_split.pkl\")"
   ]
  },
  {
   "cell_type": "code",
   "execution_count": 93,
   "id": "96d839f8-a4f5-49ec-a7c4-ff13e28f1959",
   "metadata": {},
   "outputs": [],
   "source": [
    "from surprise import Dataset, Reader, BaselineOnly, accuracy"
   ]
  },
  {
   "cell_type": "code",
   "execution_count": 89,
   "id": "9037fded-e725-40ba-a15d-13d7226ecd22",
   "metadata": {},
   "outputs": [],
   "source": [
    "reader = Reader(rating_scale=(1, 10))\n",
    "data_train = Dataset.load_from_df(train_df, reader)\n",
    "data_test = [tuple(e) for e in zip(test_df[\"user_id\"], test_df[\"book_id\"], test_df[\"book_rating\"])]\n",
    "full_data = data_train.build_full_trainset()\n",
    "\n",
    "model = BaselineOnly()\n"
   ]
  },
  {
   "cell_type": "code",
   "execution_count": 91,
   "id": "a03f77da-ca41-4315-abc4-3e4d3d1bb57e",
   "metadata": {},
   "outputs": [
    {
     "name": "stdout",
     "output_type": "stream",
     "text": [
      "Estimating biases using als...\n"
     ]
    }
   ],
   "source": [
    "model.fit(full_data)\n",
    "predictions = model.test(data_test)"
   ]
  },
  {
   "cell_type": "code",
   "execution_count": 97,
   "id": "acb9f1ac-db28-49ed-ac80-69b396a1e88c",
   "metadata": {},
   "outputs": [],
   "source": [
    "from collections import defaultdict\n",
    "\n",
    "def precision_recall_at_k(\n",
    "        predictions,\n",
    "        k: int = 5,\n",
    "        threshold: int = 8\n",
    "    ):\n",
    "        \"\"\"Return precision and recall at k metrics for each user\"\"\"\n",
    "\n",
    "        user_est_true = defaultdict(list)\n",
    "        for uid, _, true_r, est, _ in predictions:\n",
    "            user_est_true[uid].append((est, true_r))\n",
    "\n",
    "        precisions = dict()\n",
    "        recalls = dict()\n",
    "        for uid, user_ratings in user_est_true.items():\n",
    "\n",
    "            user_ratings.sort(key=lambda x: x[0], reverse=True)\n",
    "            n_rel = sum((true_r >= threshold) for (_, true_r) in user_ratings)\n",
    "            n_rec_k = sum((est >= threshold) for (est, _) in user_ratings[:k])\n",
    "            n_rel_and_rec_k = sum(\n",
    "                ((true_r >= threshold) and (est >= threshold))\n",
    "                for (est, true_r) in user_ratings[:k]\n",
    "            )\n",
    "            precisions[uid] = n_rel_and_rec_k / n_rec_k if n_rec_k != 0 else 0\n",
    "            recalls[uid] = n_rel_and_rec_k / n_rel if n_rel != 0 else 0\n",
    "\n",
    "        precision = sum(prec for prec in precisions.values()) / len(precisions)\n",
    "        recall = sum(rec for rec in recalls.values()) / len(recalls)\n",
    "\n",
    "        return precision, recall\n"
   ]
  },
  {
   "cell_type": "code",
   "execution_count": 98,
   "id": "fd8fb4b6-5096-44a2-8864-988119fdcdc3",
   "metadata": {},
   "outputs": [],
   "source": [
    "rmse = accuracy.rmse(predictions, verbose=False)\n",
    "precision, recall = precision_recall_at_k(predictions)"
   ]
  },
  {
   "cell_type": "code",
   "execution_count": 99,
   "id": "4ad174bd-9d0c-4e2d-b54d-f0beb924d54d",
   "metadata": {},
   "outputs": [
    {
     "name": "stdout",
     "output_type": "stream",
     "text": [
      "RMSE: 1.6\n",
      "precision: 0.52\n",
      "recall: 0.50\n"
     ]
    }
   ],
   "source": [
    "print(f\"RMSE: {rmse:.2}\")\n",
    "print(f'precision: {precision:.2f}')\n",
    "print(f\"recall: {recall:.2f}\")"
   ]
  },
  {
   "cell_type": "code",
   "execution_count": 100,
   "id": "43654326-f0c2-42c0-9daf-76fe935b0b8b",
   "metadata": {},
   "outputs": [],
   "source": [
    "# 評価値の中央値、平均値が8.0なので、precision, recallが0.5になるのは納得"
   ]
  },
  {
   "cell_type": "code",
   "execution_count": null,
   "id": "edc567f1-ba80-4680-a382-5d93d579c2d0",
   "metadata": {},
   "outputs": [],
   "source": []
  }
 ],
 "metadata": {
  "kernelspec": {
   "display_name": "Python 3 (ipykernel)",
   "language": "python",
   "name": "python3"
  },
  "language_info": {
   "codemirror_mode": {
    "name": "ipython",
    "version": 3
   },
   "file_extension": ".py",
   "mimetype": "text/x-python",
   "name": "python",
   "nbconvert_exporter": "python",
   "pygments_lexer": "ipython3",
   "version": "3.7.8"
  }
 },
 "nbformat": 4,
 "nbformat_minor": 5
}
