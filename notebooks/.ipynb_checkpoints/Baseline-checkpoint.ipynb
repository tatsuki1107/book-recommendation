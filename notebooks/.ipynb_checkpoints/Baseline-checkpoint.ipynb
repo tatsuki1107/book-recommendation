{
 "cells": [
  {
   "cell_type": "code",
   "execution_count": 120,
   "id": "443d4f5c-1589-4916-8a04-1941e7dc49ea",
   "metadata": {},
   "outputs": [],
   "source": [
    "import joblib\n",
    "\n",
    "user_df, book_df, rating_df = joblib.load('../data/mf-api.pkl')"
   ]
  },
  {
   "cell_type": "code",
   "execution_count": 121,
   "id": "c8d4d65b-8b41-4538-a90e-c327f264ccf2",
   "metadata": {},
   "outputs": [],
   "source": [
    "rating_df = rating_df.merge(book_df, on=\"book_id\")"
   ]
  },
  {
   "cell_type": "code",
   "execution_count": 113,
   "id": "fdadb44c-44f5-4c89-9ece-13e78e7f9d3b",
   "metadata": {},
   "outputs": [],
   "source": [
    "rating_df = rating_df[(rating_df[\"book_rating\"]>=8.0) & (rating_df[\"user_id\"]==254)]\n",
    "rating_df = rating_df.groupby(\"book_author\")[\"book_rating\"].agg({\"mean\", \"count\"}).sort_values(by=[\"mean\", \"count\"], ascending=False)"
   ]
  },
  {
   "cell_type": "code",
   "execution_count": null,
   "id": "0f1ef845-e5f5-42cc-b37a-10c80925ed4c",
   "metadata": {},
   "outputs": [],
   "source": [
    "rating_df"
   ]
  },
  {
   "cell_type": "code",
   "execution_count": 118,
   "id": "391bcd02-c1be-4e37-a13f-3988f8e45915",
   "metadata": {},
   "outputs": [],
   "source": [
    "authors = rating_df.index.to_list()\n",
    "count_mean = rating_df[[\"count\", \"mean\"]].values\n",
    "output = []\n",
    "for i, author, values in enumerate(zip(authors, count_mean)):\n",
    "    output[i] = {}\n",
    "    output[i][\"\"]\n",
    "    output[i][\"count\"] = int(values[0])\n",
    "    output[i][\"mean\"] = values[1]"
   ]
  },
  {
   "cell_type": "code",
   "execution_count": 119,
   "id": "b06e74bd-3ae5-4f36-972f-0be16c0ae10b",
   "metadata": {},
   "outputs": [
    {
     "data": {
      "text/plain": [
       "{'Neil Gaiman': {'count': 1, 'mean': 10.0},\n",
       " 'J. K. Rowling': {'count': 6, 'mean': 9.0},\n",
       " 'Amy Tan': {'count': 1, 'mean': 9.0},\n",
       " 'J.R.R. Tolkien': {'count': 1, 'mean': 9.0},\n",
       " 'Sue Monk Kidd': {'count': 1, 'mean': 9.0},\n",
       " 'George Orwell': {'count': 2, 'mean': 8.5},\n",
       " 'J. R. R. Tolkien': {'count': 1, 'mean': 8.0},\n",
       " 'PHILIP PULLMAN': {'count': 1, 'mean': 8.0},\n",
       " 'Stephen King': {'count': 1, 'mean': 8.0}}"
      ]
     },
     "execution_count": 119,
     "metadata": {},
     "output_type": "execute_result"
    }
   ],
   "source": [
    "output"
   ]
  },
  {
   "cell_type": "code",
   "execution_count": 123,
   "id": "43c1b11a-350a-4807-b83e-d4c41ea6066f",
   "metadata": {},
   "outputs": [
    {
     "data": {
      "text/html": [
       "<div>\n",
       "<style scoped>\n",
       "    .dataframe tbody tr th:only-of-type {\n",
       "        vertical-align: middle;\n",
       "    }\n",
       "\n",
       "    .dataframe tbody tr th {\n",
       "        vertical-align: top;\n",
       "    }\n",
       "\n",
       "    .dataframe thead th {\n",
       "        text-align: right;\n",
       "    }\n",
       "</style>\n",
       "<table border=\"1\" class=\"dataframe\">\n",
       "  <thead>\n",
       "    <tr style=\"text-align: right;\">\n",
       "      <th></th>\n",
       "      <th>count</th>\n",
       "      <th>mean</th>\n",
       "    </tr>\n",
       "    <tr>\n",
       "      <th>publisher</th>\n",
       "      <th></th>\n",
       "      <th></th>\n",
       "    </tr>\n",
       "  </thead>\n",
       "  <tbody>\n",
       "    <tr>\n",
       "      <th>HarperTorch</th>\n",
       "      <td>1</td>\n",
       "      <td>10.0</td>\n",
       "    </tr>\n",
       "    <tr>\n",
       "      <th>Scholastic</th>\n",
       "      <td>6</td>\n",
       "      <td>9.0</td>\n",
       "    </tr>\n",
       "    <tr>\n",
       "      <th>Penguin Books</th>\n",
       "      <td>1</td>\n",
       "      <td>9.0</td>\n",
       "    </tr>\n",
       "    <tr>\n",
       "      <th>Putnam Publishing Group</th>\n",
       "      <td>1</td>\n",
       "      <td>9.0</td>\n",
       "    </tr>\n",
       "    <tr>\n",
       "      <th>Houghton Mifflin Company</th>\n",
       "      <td>2</td>\n",
       "      <td>8.5</td>\n",
       "    </tr>\n",
       "    <tr>\n",
       "      <th>Signet Book</th>\n",
       "      <td>2</td>\n",
       "      <td>8.5</td>\n",
       "    </tr>\n",
       "    <tr>\n",
       "      <th>Knopf Books for Young Readers</th>\n",
       "      <td>1</td>\n",
       "      <td>8.0</td>\n",
       "    </tr>\n",
       "    <tr>\n",
       "      <th>Signet</th>\n",
       "      <td>1</td>\n",
       "      <td>8.0</td>\n",
       "    </tr>\n",
       "  </tbody>\n",
       "</table>\n",
       "</div>"
      ],
      "text/plain": [
       "                               count  mean\n",
       "publisher                                 \n",
       "HarperTorch                        1  10.0\n",
       "Scholastic                         6   9.0\n",
       "Penguin Books                      1   9.0\n",
       "Putnam Publishing Group            1   9.0\n",
       "Houghton Mifflin Company           2   8.5\n",
       "Signet Book                        2   8.5\n",
       "Knopf Books for Young Readers      1   8.0\n",
       "Signet                             1   8.0"
      ]
     },
     "execution_count": 123,
     "metadata": {},
     "output_type": "execute_result"
    }
   ],
   "source": [
    "rating_df = rating_df[(rating_df[\"book_rating\"]>=8.0) & (rating_df[\"user_id\"]==254)]\n",
    "rating_df.groupby('publisher')[\"book_rating\"].agg({\"mean\", \"count\"}).sort_values(by=[\"mean\", \"count\"], ascending=False)\n"
   ]
  },
  {
   "cell_type": "code",
   "execution_count": null,
   "id": "c17dc85b-4f38-464b-ada0-66a597531e67",
   "metadata": {},
   "outputs": [],
   "source": []
  }
 ],
 "metadata": {
  "kernelspec": {
   "display_name": "Python 3 (ipykernel)",
   "language": "python",
   "name": "python3"
  },
  "language_info": {
   "codemirror_mode": {
    "name": "ipython",
    "version": 3
   },
   "file_extension": ".py",
   "mimetype": "text/x-python",
   "name": "python",
   "nbconvert_exporter": "python",
   "pygments_lexer": "ipython3",
   "version": "3.7.8"
  }
 },
 "nbformat": 4,
 "nbformat_minor": 5
}
