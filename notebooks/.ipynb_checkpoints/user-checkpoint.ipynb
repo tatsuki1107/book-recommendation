{
 "cells": [
  {
   "cell_type": "code",
   "execution_count": 1,
   "id": "e5e25c62-d38f-4e01-a20b-1fe79f01cb29",
   "metadata": {},
   "outputs": [],
   "source": [
    "import sys; sys.path.append('..')\n",
    "import warnings; warnings.simplefilter(\"ignore\")\n",
    "import pandas as pd\n",
    "import matplotlib.pyplot as plt\n",
    "import seaborn as sns; sns.set()\n",
    "%matplotlib inline"
   ]
  },
  {
   "cell_type": "code",
   "execution_count": 2,
   "id": "72d4a629-87b2-4a1f-9cb6-178246ad9da6",
   "metadata": {},
   "outputs": [],
   "source": [
    "user_df = pd.read_csv('../data/Users.csv')"
   ]
  },
  {
   "cell_type": "code",
   "execution_count": 3,
   "id": "a0832669-1cdb-41cb-9355-adf5c9f00dc9",
   "metadata": {},
   "outputs": [
    {
     "data": {
      "text/html": [
       "<div>\n",
       "<style scoped>\n",
       "    .dataframe tbody tr th:only-of-type {\n",
       "        vertical-align: middle;\n",
       "    }\n",
       "\n",
       "    .dataframe tbody tr th {\n",
       "        vertical-align: top;\n",
       "    }\n",
       "\n",
       "    .dataframe thead th {\n",
       "        text-align: right;\n",
       "    }\n",
       "</style>\n",
       "<table border=\"1\" class=\"dataframe\">\n",
       "  <thead>\n",
       "    <tr style=\"text-align: right;\">\n",
       "      <th></th>\n",
       "      <th>User-ID</th>\n",
       "      <th>Location</th>\n",
       "      <th>Age</th>\n",
       "    </tr>\n",
       "  </thead>\n",
       "  <tbody>\n",
       "    <tr>\n",
       "      <th>0</th>\n",
       "      <td>1</td>\n",
       "      <td>nyc, new york, usa</td>\n",
       "      <td>NaN</td>\n",
       "    </tr>\n",
       "    <tr>\n",
       "      <th>1</th>\n",
       "      <td>2</td>\n",
       "      <td>stockton, california, usa</td>\n",
       "      <td>18.0</td>\n",
       "    </tr>\n",
       "    <tr>\n",
       "      <th>2</th>\n",
       "      <td>3</td>\n",
       "      <td>moscow, yukon territory, russia</td>\n",
       "      <td>NaN</td>\n",
       "    </tr>\n",
       "    <tr>\n",
       "      <th>3</th>\n",
       "      <td>4</td>\n",
       "      <td>porto, v.n.gaia, portugal</td>\n",
       "      <td>17.0</td>\n",
       "    </tr>\n",
       "    <tr>\n",
       "      <th>4</th>\n",
       "      <td>5</td>\n",
       "      <td>farnborough, hants, united kingdom</td>\n",
       "      <td>NaN</td>\n",
       "    </tr>\n",
       "  </tbody>\n",
       "</table>\n",
       "</div>"
      ],
      "text/plain": [
       "   User-ID                            Location   Age\n",
       "0        1                  nyc, new york, usa   NaN\n",
       "1        2           stockton, california, usa  18.0\n",
       "2        3     moscow, yukon territory, russia   NaN\n",
       "3        4           porto, v.n.gaia, portugal  17.0\n",
       "4        5  farnborough, hants, united kingdom   NaN"
      ]
     },
     "execution_count": 3,
     "metadata": {},
     "output_type": "execute_result"
    }
   ],
   "source": [
    "user_df.head()"
   ]
  },
  {
   "cell_type": "code",
   "execution_count": 4,
   "id": "a70b8b56-8367-4428-8145-2bb128683d94",
   "metadata": {},
   "outputs": [],
   "source": [
    "user_df.rename(columns={\"User-ID\": \"user_id\", \"Age\": \"age\" }, inplace=True)"
   ]
  },
  {
   "cell_type": "code",
   "execution_count": 5,
   "id": "54a5077c-eb69-45a8-9f0c-74cf45576358",
   "metadata": {},
   "outputs": [
    {
     "data": {
      "text/html": [
       "<div>\n",
       "<style scoped>\n",
       "    .dataframe tbody tr th:only-of-type {\n",
       "        vertical-align: middle;\n",
       "    }\n",
       "\n",
       "    .dataframe tbody tr th {\n",
       "        vertical-align: top;\n",
       "    }\n",
       "\n",
       "    .dataframe thead th {\n",
       "        text-align: right;\n",
       "    }\n",
       "</style>\n",
       "<table border=\"1\" class=\"dataframe\">\n",
       "  <thead>\n",
       "    <tr style=\"text-align: right;\">\n",
       "      <th></th>\n",
       "      <th>user_id</th>\n",
       "      <th>age</th>\n",
       "      <th>city</th>\n",
       "      <th>state</th>\n",
       "      <th>country</th>\n",
       "    </tr>\n",
       "  </thead>\n",
       "  <tbody>\n",
       "    <tr>\n",
       "      <th>0</th>\n",
       "      <td>1</td>\n",
       "      <td>NaN</td>\n",
       "      <td>nyc</td>\n",
       "      <td>new york</td>\n",
       "      <td>usa</td>\n",
       "    </tr>\n",
       "    <tr>\n",
       "      <th>1</th>\n",
       "      <td>2</td>\n",
       "      <td>18.0</td>\n",
       "      <td>stockton</td>\n",
       "      <td>california</td>\n",
       "      <td>usa</td>\n",
       "    </tr>\n",
       "    <tr>\n",
       "      <th>2</th>\n",
       "      <td>3</td>\n",
       "      <td>NaN</td>\n",
       "      <td>moscow</td>\n",
       "      <td>yukon territory</td>\n",
       "      <td>russia</td>\n",
       "    </tr>\n",
       "    <tr>\n",
       "      <th>3</th>\n",
       "      <td>4</td>\n",
       "      <td>17.0</td>\n",
       "      <td>porto</td>\n",
       "      <td>v.n.gaia</td>\n",
       "      <td>portugal</td>\n",
       "    </tr>\n",
       "    <tr>\n",
       "      <th>4</th>\n",
       "      <td>5</td>\n",
       "      <td>NaN</td>\n",
       "      <td>farnborough</td>\n",
       "      <td>hants</td>\n",
       "      <td>united kingdom</td>\n",
       "    </tr>\n",
       "  </tbody>\n",
       "</table>\n",
       "</div>"
      ],
      "text/plain": [
       "   user_id   age         city            state         country\n",
       "0        1   NaN          nyc         new york             usa\n",
       "1        2  18.0     stockton       california             usa\n",
       "2        3   NaN       moscow  yukon territory          russia\n",
       "3        4  17.0        porto         v.n.gaia        portugal\n",
       "4        5   NaN  farnborough            hants  united kingdom"
      ]
     },
     "execution_count": 5,
     "metadata": {},
     "output_type": "execute_result"
    }
   ],
   "source": [
    "user_df = pd.concat([user_df, user_df[\"Location\"].str.split(', ', expand=True)], axis=1)\n",
    "drop_cols = [\"Location\", 3,4,5,6,7,8]\n",
    "user_df = user_df.drop(drop_cols, axis=1)\n",
    "user_df = user_df.rename(columns={0: \"city\", 1: \"state\", 2: \"country\"})\n",
    "user_df.head()"
   ]
  },
  {
   "cell_type": "code",
   "execution_count": 6,
   "id": "da456cc3-3797-419b-9b29-4254f40a3155",
   "metadata": {},
   "outputs": [
    {
     "data": {
      "text/plain": [
       "['../data/user.pkl']"
      ]
     },
     "execution_count": 6,
     "metadata": {},
     "output_type": "execute_result"
    }
   ],
   "source": [
    "import joblib\n",
    "joblib.dump(user_df, filename=\"../data/user.pkl\")"
   ]
  },
  {
   "cell_type": "code",
   "execution_count": 8,
   "id": "320955b6-1fb4-4aa4-b9b7-67f3b8e6cf33",
   "metadata": {},
   "outputs": [
    {
     "data": {
      "text/plain": [
       "<AxesSubplot:>"
      ]
     },
     "execution_count": 8,
     "metadata": {},
     "output_type": "execute_result"
    },
    {
     "data": {
      "image/png": "[encoded data removed]",
      "text/plain": [
       "<Figure size 432x288 with 1 Axes>"
      ]
     },
     "metadata": {
      "needs_background": "light"
     },
     "output_type": "display_data"
    }
   ],
   "source": [
    "user_df.boxplot(column=\"age\", vert=False, patch_artist=True)"
   ]
  },
  {
   "cell_type": "code",
   "execution_count": 9,
   "id": "9fa8e971-e0ad-471a-a1e2-322bf59b6b02",
   "metadata": {},
   "outputs": [
    {
     "name": "stdout",
     "output_type": "stream",
     "text": [
      "ユーザの数:　　278858\n",
      "100歳以上のレコード数: 366\n",
      "AgeがNanのレコード数: 110762\n",
      "正しくAgeが入力されているとされるレコードの割合: 0.60\n"
     ]
    }
   ],
   "source": [
    "# 年齢がえらいことになっている。登録時の打ち間違え？\n",
    "import numpy as np\n",
    "\n",
    "len_user = len(user_df)\n",
    "len_user_over_100 =  len(user_df[user_df[\"age\"] > 100])\n",
    "len_user_age_is_nan = user_df[\"age\"].isnull().sum()\n",
    "\n",
    "print(f\"ユーザの数:　　{len_user}\")\n",
    "print(f'100歳以上のレコード数: {len_user_over_100}')\n",
    "\n",
    "print(f'AgeがNanのレコード数: {len_user_age_is_nan}')\n",
    "print(f'正しくAgeが入力されているとされるレコードの割合: {(len_user-(len_user_over_100+len_user_age_is_nan))/len_user:.2f}')\n"
   ]
  },
  {
   "cell_type": "code",
   "execution_count": 10,
   "id": "879a3bfd-cc35-46b7-82d9-c5e274da9506",
   "metadata": {},
   "outputs": [
    {
     "data": {
      "text/html": [
       "<div>\n",
       "<style scoped>\n",
       "    .dataframe tbody tr th:only-of-type {\n",
       "        vertical-align: middle;\n",
       "    }\n",
       "\n",
       "    .dataframe tbody tr th {\n",
       "        vertical-align: top;\n",
       "    }\n",
       "\n",
       "    .dataframe thead th {\n",
       "        text-align: right;\n",
       "    }\n",
       "</style>\n",
       "<table border=\"1\" class=\"dataframe\">\n",
       "  <thead>\n",
       "    <tr style=\"text-align: right;\">\n",
       "      <th></th>\n",
       "      <th>user_id</th>\n",
       "    </tr>\n",
       "    <tr>\n",
       "      <th>country</th>\n",
       "      <th></th>\n",
       "    </tr>\n",
       "  </thead>\n",
       "  <tbody>\n",
       "    <tr>\n",
       "      <th></th>\n",
       "      <td>440721</td>\n",
       "    </tr>\n",
       "    <tr>\n",
       "      <th>australia</th>\n",
       "      <td>275708</td>\n",
       "    </tr>\n",
       "    <tr>\n",
       "      <th>england</th>\n",
       "      <td>227693</td>\n",
       "    </tr>\n",
       "    <tr>\n",
       "      <th>pasig city.</th>\n",
       "      <td>261732</td>\n",
       "    </tr>\n",
       "    <tr>\n",
       "      <th>&amp;#20013;&amp;#22269;</th>\n",
       "      <td>272827</td>\n",
       "    </tr>\n",
       "    <tr>\n",
       "      <th>...</th>\n",
       "      <td>...</td>\n",
       "    </tr>\n",
       "    <tr>\n",
       "      <th>zhengjiang</th>\n",
       "      <td>23884</td>\n",
       "    </tr>\n",
       "    <tr>\n",
       "      <th>zimbabwe</th>\n",
       "      <td>3481123</td>\n",
       "    </tr>\n",
       "    <tr>\n",
       "      <th>álava</th>\n",
       "      <td>23325</td>\n",
       "    </tr>\n",
       "    <tr>\n",
       "      <th>ä¸­å?½</th>\n",
       "      <td>198587</td>\n",
       "    </tr>\n",
       "    <tr>\n",
       "      <th>öð¹ú</th>\n",
       "      <td>953975</td>\n",
       "    </tr>\n",
       "  </tbody>\n",
       "</table>\n",
       "<p>1014 rows × 1 columns</p>\n",
       "</div>"
      ],
      "text/plain": [
       "                  user_id\n",
       "country                  \n",
       "                   440721\n",
       " australia         275708\n",
       " england           227693\n",
       " pasig city.       261732\n",
       "&#20013;&#22269;   272827\n",
       "...                   ...\n",
       "zhengjiang          23884\n",
       "zimbabwe          3481123\n",
       "álava               23325\n",
       "ä¸­å?½             198587\n",
       "öð¹ú               953975\n",
       "\n",
       "[1014 rows x 1 columns]"
      ]
     },
     "execution_count": 10,
     "metadata": {},
     "output_type": "execute_result"
    }
   ],
   "source": [
    "# 国ごとのユーザ数\n",
    "user_df.groupby(\"country\").agg({\"user_id\": np.sum})"
   ]
  },
  {
   "cell_type": "code",
   "execution_count": 8,
   "id": "f71828a1-3f86-4be0-879d-ec10636856ce",
   "metadata": {},
   "outputs": [
    {
     "name": "stdout",
     "output_type": "stream",
     "text": [
      "欠損値の数\n",
      "state: 12421\n",
      "city: 439\n",
      "country: 78\n"
     ]
    }
   ],
   "source": [
    "len_state_nan = len(user_df[user_df[\"state\"]== \"n/a\"])\n",
    "len_city_nan = len(user_df[user_df[\"city\"]== \"n/a\"])\n",
    "len_country_nan = len(user_df[user_df[\"country\"]== \"n/a\"])\n",
    "\n",
    "print(f\"欠損値の数\")\n",
    "print(f'state: {len_state_nan}')\n",
    "print(f'city: {len_city_nan}')\n",
    "print(f'country: {len_country_nan}')"
   ]
  },
  {
   "cell_type": "code",
   "execution_count": 9,
   "id": "acc9a6cc-8bb7-483f-8860-a4895d0e2ae7",
   "metadata": {},
   "outputs": [
    {
     "name": "stdout",
     "output_type": "stream",
     "text": [
      "cityはわかるがstateがわからないレコード数: 12150\n",
      "cityまたは、stateがわかっていてcountryがわからないレコード数: 67\n",
      "すべてがわからないレコード数: 11\n",
      "stateはnew yorkなのにcountryはusaではないレコード数: 82\n"
     ]
    }
   ],
   "source": [
    "# stateがわかっていてcountryがわからない場合などは場合によって欠損値を埋めれる??\n",
    "temp_df = user_df[~((user_df[\"city\"]==\"n/a\") & (user_df[\"state\"]==\"n/a\"))]\n",
    "city_state_country = len(temp_df[temp_df[\"country\"]==\"n/a\"])\n",
    "\n",
    "# cityはわかるがstateがわからない場合\n",
    "city_state = len(user_df[(user_df[\"city\"]!=\"n/a\") & (user_df[\"state\"]==\"n/a\")])\n",
    "\n",
    "# すべてがわからない\n",
    "temp_df = user_df[(user_df[\"city\"]==\"n/a\") & (user_df[\"state\"]==\"n/a\")]\n",
    "all_na = len(temp_df[temp_df[\"country\"]==\"n/a\"])\n",
    "\n",
    "# stateはnew yorkなのにcountryはusaではないレコードが存在するから、countryだけを考慮すればいいかな\n",
    "error_recode = len(user_df[(user_df[\"state\"]==\"new york\") & (user_df[\"country\"]!=\"usa\")])\n",
    "\n",
    "print(f\"cityはわかるがstateがわからないレコード数: {city_state}\")\n",
    "print(f'cityまたは、stateがわかっていてcountryがわからないレコード数: {city_state_country}')\n",
    "print(f'すべてがわからないレコード数: {all_na}')\n",
    "print(f'stateはnew yorkなのにcountryはusaではないレコード数: {error_recode}')"
   ]
  },
  {
   "cell_type": "code",
   "execution_count": null,
   "id": "90245c49-dfcb-4165-a0fc-fb52cfee4a80",
   "metadata": {},
   "outputs": [],
   "source": []
  }
 ],
 "metadata": {
  "kernelspec": {
   "display_name": "Python 3 (ipykernel)",
   "language": "python",
   "name": "python3"
  },
  "language_info": {
   "codemirror_mode": {
    "name": "ipython",
    "version": 3
   },
   "file_extension": ".py",
   "mimetype": "text/x-python",
   "name": "python",
   "nbconvert_exporter": "python",
   "pygments_lexer": "ipython3",
   "version": "3.7.8"
  }
 },
 "nbformat": 4,
 "nbformat_minor": 5
}
