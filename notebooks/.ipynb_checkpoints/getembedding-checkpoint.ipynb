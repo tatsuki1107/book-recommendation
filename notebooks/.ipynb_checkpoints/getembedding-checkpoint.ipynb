{
 "cells": [
  {
   "cell_type": "code",
   "execution_count": 3,
   "id": "42770496-64d6-48dd-b234-8eb76d0cdab8",
   "metadata": {},
   "outputs": [],
   "source": [
    "import joblib\n",
    "import sys; sys.path.append('..')\n",
    "from util.embedding import CreateEmbedding\n",
    "\n",
    "#CreateEmbedding().create_embeddings()\n"
   ]
  },
  {
   "cell_type": "code",
   "execution_count": 4,
   "id": "f8b1d9ec-bdab-4f41-a073-8f54b816a61e",
   "metadata": {},
   "outputs": [],
   "source": [
    "user_df, book_df, rating_df = joblib.load('../data/mf-api.pkl')"
   ]
  },
  {
   "cell_type": "code",
   "execution_count": null,
   "id": "2581ac72-612a-4767-be40-89d53c554683",
   "metadata": {},
   "outputs": [],
   "source": [
    "user_df"
   ]
  },
  {
   "cell_type": "code",
   "execution_count": 5,
   "id": "89fde676-7893-4f8b-b6d1-091d519ee70c",
   "metadata": {},
   "outputs": [],
   "source": [
    "from typing import List\n",
    "import openai\n",
    "import os\n",
    "from tenacity import retry, stop_after_attempt, wait_random_exponential\n",
    "\n",
    "openai.api_key = os.environ[\"OPENAI_API_KEY\"]\n",
    "\n",
    "#@retry(wait=wait_random_exponential(min=1, max=60), stop=stop_after_attempt(30))\n",
    "def get_embedding(\n",
    "  text:str, \n",
    "  model:str = \"text-embedding-ada-002\"\n",
    ") -> List[float]:\n",
    "    embedding =  openai.Embedding.create(input=text, model=model)[\"data\"][0][\"embedding\"]\n",
    "    return embedding\n"
   ]
  },
  {
   "cell_type": "code",
   "execution_count": 4,
   "id": "1a4f9c45-996d-40d9-af56-3f04e42cf984",
   "metadata": {},
   "outputs": [],
   "source": [
    "#embeddings = book_df[\"book_title\"].apply(lambda x: get_embedding(x))"
   ]
  },
  {
   "cell_type": "code",
   "execution_count": 6,
   "id": "7ea862be-9338-4bd2-9b15-5ea6b200e6f5",
   "metadata": {},
   "outputs": [],
   "source": [
    "#book_df[\"title_embedding\"] = embeddings"
   ]
  },
  {
   "cell_type": "code",
   "execution_count": 6,
   "id": "acb5693b-7522-483d-989f-d6a28fe686e3",
   "metadata": {},
   "outputs": [
    {
     "data": {
      "text/html": [
       "<div>\n",
       "<style scoped>\n",
       "    .dataframe tbody tr th:only-of-type {\n",
       "        vertical-align: middle;\n",
       "    }\n",
       "\n",
       "    .dataframe tbody tr th {\n",
       "        vertical-align: top;\n",
       "    }\n",
       "\n",
       "    .dataframe thead th {\n",
       "        text-align: right;\n",
       "    }\n",
       "</style>\n",
       "<table border=\"1\" class=\"dataframe\">\n",
       "  <thead>\n",
       "    <tr style=\"text-align: right;\">\n",
       "      <th></th>\n",
       "      <th>book_id</th>\n",
       "      <th>book_title</th>\n",
       "      <th>book_author</th>\n",
       "      <th>year_of_publication</th>\n",
       "      <th>publisher</th>\n",
       "      <th>image</th>\n",
       "      <th>title_embedding</th>\n",
       "    </tr>\n",
       "  </thead>\n",
       "  <tbody>\n",
       "    <tr>\n",
       "      <th>0</th>\n",
       "      <td>0440234743</td>\n",
       "      <td>The Testament</td>\n",
       "      <td>John Grisham</td>\n",
       "      <td>1999</td>\n",
       "      <td>Dell</td>\n",
       "      <td>http://images.amazon.com/images/P/0440234743.0...</td>\n",
       "      <td>[-0.0035347945522516966, -0.03365958482027054,...</td>\n",
       "    </tr>\n",
       "    <tr>\n",
       "      <th>1</th>\n",
       "      <td>0452264464</td>\n",
       "      <td>Beloved (Plume Contemporary Fiction)</td>\n",
       "      <td>Toni Morrison</td>\n",
       "      <td>1994</td>\n",
       "      <td>Plume</td>\n",
       "      <td>http://images.amazon.com/images/P/0452264464.0...</td>\n",
       "      <td>[-0.01696661487221718, -0.024439029395580292, ...</td>\n",
       "    </tr>\n",
       "    <tr>\n",
       "      <th>2</th>\n",
       "      <td>0971880107</td>\n",
       "      <td>Wild Animus</td>\n",
       "      <td>Rich Shapero</td>\n",
       "      <td>2004</td>\n",
       "      <td>Too Far</td>\n",
       "      <td>http://images.amazon.com/images/P/0971880107.0...</td>\n",
       "      <td>[-0.011642393656075, -0.024704918265342712, -0...</td>\n",
       "    </tr>\n",
       "    <tr>\n",
       "      <th>3</th>\n",
       "      <td>0345417623</td>\n",
       "      <td>Timeline</td>\n",
       "      <td>MICHAEL CRICHTON</td>\n",
       "      <td>2000</td>\n",
       "      <td>Ballantine Books</td>\n",
       "      <td>http://images.amazon.com/images/P/0345417623.0...</td>\n",
       "      <td>[-0.0015527659561485052, -0.02424408495426178,...</td>\n",
       "    </tr>\n",
       "    <tr>\n",
       "      <th>4</th>\n",
       "      <td>0446310786</td>\n",
       "      <td>To Kill a Mockingbird</td>\n",
       "      <td>Harper Lee</td>\n",
       "      <td>1988</td>\n",
       "      <td>Little Brown &amp;amp; Company</td>\n",
       "      <td>http://images.amazon.com/images/P/0446310786.0...</td>\n",
       "      <td>[-0.012490134686231613, -0.016244838014245033,...</td>\n",
       "    </tr>\n",
       "  </tbody>\n",
       "</table>\n",
       "</div>"
      ],
      "text/plain": [
       "      book_id                            book_title       book_author  \\\n",
       "0  0440234743                         The Testament      John Grisham   \n",
       "1  0452264464  Beloved (Plume Contemporary Fiction)     Toni Morrison   \n",
       "2  0971880107                           Wild Animus      Rich Shapero   \n",
       "3  0345417623                              Timeline  MICHAEL CRICHTON   \n",
       "4  0446310786                 To Kill a Mockingbird        Harper Lee   \n",
       "\n",
       "  year_of_publication                   publisher  \\\n",
       "0                1999                        Dell   \n",
       "1                1994                       Plume   \n",
       "2                2004                     Too Far   \n",
       "3                2000            Ballantine Books   \n",
       "4                1988  Little Brown &amp; Company   \n",
       "\n",
       "                                               image  \\\n",
       "0  http://images.amazon.com/images/P/0440234743.0...   \n",
       "1  http://images.amazon.com/images/P/0452264464.0...   \n",
       "2  http://images.amazon.com/images/P/0971880107.0...   \n",
       "3  http://images.amazon.com/images/P/0345417623.0...   \n",
       "4  http://images.amazon.com/images/P/0446310786.0...   \n",
       "\n",
       "                                     title_embedding  \n",
       "0  [-0.0035347945522516966, -0.03365958482027054,...  \n",
       "1  [-0.01696661487221718, -0.024439029395580292, ...  \n",
       "2  [-0.011642393656075, -0.024704918265342712, -0...  \n",
       "3  [-0.0015527659561485052, -0.02424408495426178,...  \n",
       "4  [-0.012490134686231613, -0.016244838014245033,...  "
      ]
     },
     "execution_count": 6,
     "metadata": {},
     "output_type": "execute_result"
    }
   ],
   "source": [
    "book_df.head()"
   ]
  },
  {
   "cell_type": "code",
   "execution_count": 7,
   "id": "83e97619-e049-4647-9d49-adf690e9b544",
   "metadata": {},
   "outputs": [],
   "source": [
    "import numpy as np\n",
    "\n",
    "#book_df[\"title_embedding\"] = book_df[\"title_embedding\"].apply(np.array)"
   ]
  },
  {
   "cell_type": "code",
   "execution_count": 11,
   "id": "69d49a1a-c493-4c0c-b6fc-7fd34bd84c0b",
   "metadata": {},
   "outputs": [
    {
     "data": {
      "text/plain": [
       "['../data/mf-api.pkl']"
      ]
     },
     "execution_count": 11,
     "metadata": {},
     "output_type": "execute_result"
    }
   ],
   "source": [
    "#joblib.dump([user_df, book_df, rating_df], \"../data/mf-api.pkl\")"
   ]
  },
  {
   "cell_type": "code",
   "execution_count": 8,
   "id": "6debc7a5-7d5b-4eba-997e-c6a51a771753",
   "metadata": {},
   "outputs": [],
   "source": [
    "def cosine_similarity(a: np.ndarray, b: np.ndarray) -> float:\n",
    "    return np.dot(a, b) / (np.linalg.norm(a) * np.linalg.norm(b))"
   ]
  },
  {
   "cell_type": "code",
   "execution_count": 71,
   "id": "8a9f3405-c74b-45c0-87ec-47e4405c97b6",
   "metadata": {},
   "outputs": [],
   "source": [
    "from tqdm import tqdm\n",
    "\n",
    "def vector_search(\n",
    "  query_embedding:np.ndarray, \n",
    "  embeddings:List[np.ndarray], \n",
    "  k:int=30,\n",
    "  distance_metric: str = \"cosine\"\n",
    ") -> List[int]:\n",
    "    #query_embedding = np.array(get_embedding(query))\n",
    "  \n",
    "    distances = []\n",
    "    for i, item_embedding in tqdm(enumerate(embeddings), total=len(embeddings)):\n",
    "        if distance_metric == \"cosine\":\n",
    "            cosine_distance = cosine_similarity(query_embedding, item_embedding)\n",
    "            distances.append((i, cosine_distance))\n",
    "  \n",
    "    distances = sorted(distances, key=lambda x: x[1], reverse=True)[:k]\n",
    "    top_k = [k[0] for k in distances if k[1] >= 0.8]\n",
    "  \n",
    "    return top_k  "
   ]
  },
  {
   "cell_type": "code",
   "execution_count": 76,
   "id": "d20c43a8-e91a-4390-ac19-63a10fbe73df",
   "metadata": {},
   "outputs": [],
   "source": [
    "query_embedding = np.array(get_embedding(text=\"baseball\"))"
   ]
  },
  {
   "cell_type": "code",
   "execution_count": 77,
   "id": "92144cc6-cf85-4c1f-b249-9abbfda8a49c",
   "metadata": {},
   "outputs": [
    {
     "data": {
      "text/plain": [
       "array([-0.00865601, -0.01642727,  0.01551611, ...,  0.00470765,\n",
       "       -0.01501431, -0.00671154])"
      ]
     },
     "execution_count": 77,
     "metadata": {},
     "output_type": "execute_result"
    }
   ],
   "source": [
    "query_embedding"
   ]
  },
  {
   "cell_type": "code",
   "execution_count": 44,
   "id": "87a7e0e2-3c0e-4cd5-bd5a-c46e1ec33540",
   "metadata": {},
   "outputs": [],
   "source": [
    "import pandas as pd\n",
    "pd.set_option('display.max_rows', None)"
   ]
  },
  {
   "cell_type": "code",
   "execution_count": 53,
   "id": "e843ae99-0cd1-43a4-bf92-c65d487b7c84",
   "metadata": {},
   "outputs": [
    {
     "data": {
      "text/html": [
       "<div>\n",
       "<style scoped>\n",
       "    .dataframe tbody tr th:only-of-type {\n",
       "        vertical-align: middle;\n",
       "    }\n",
       "\n",
       "    .dataframe tbody tr th {\n",
       "        vertical-align: top;\n",
       "    }\n",
       "\n",
       "    .dataframe thead th {\n",
       "        text-align: right;\n",
       "    }\n",
       "</style>\n",
       "<table border=\"1\" class=\"dataframe\">\n",
       "  <thead>\n",
       "    <tr style=\"text-align: right;\">\n",
       "      <th></th>\n",
       "      <th>book_id</th>\n",
       "      <th>book_title</th>\n",
       "      <th>book_author</th>\n",
       "      <th>year_of_publication</th>\n",
       "      <th>publisher</th>\n",
       "      <th>image</th>\n",
       "      <th>title_embedding</th>\n",
       "    </tr>\n",
       "  </thead>\n",
       "  <tbody>\n",
       "    <tr>\n",
       "      <th>0</th>\n",
       "      <td>0440234743</td>\n",
       "      <td>The Testament</td>\n",
       "      <td>John Grisham</td>\n",
       "      <td>1999</td>\n",
       "      <td>Dell</td>\n",
       "      <td>http://images.amazon.com/images/P/0440234743.0...</td>\n",
       "      <td>[-0.0035347945522516966, -0.03365958482027054,...</td>\n",
       "    </tr>\n",
       "    <tr>\n",
       "      <th>1</th>\n",
       "      <td>0452264464</td>\n",
       "      <td>Beloved (Plume Contemporary Fiction)</td>\n",
       "      <td>Toni Morrison</td>\n",
       "      <td>1994</td>\n",
       "      <td>Plume</td>\n",
       "      <td>http://images.amazon.com/images/P/0452264464.0...</td>\n",
       "      <td>[-0.01696661487221718, -0.024439029395580292, ...</td>\n",
       "    </tr>\n",
       "    <tr>\n",
       "      <th>2</th>\n",
       "      <td>0971880107</td>\n",
       "      <td>Wild Animus</td>\n",
       "      <td>Rich Shapero</td>\n",
       "      <td>2004</td>\n",
       "      <td>Too Far</td>\n",
       "      <td>http://images.amazon.com/images/P/0971880107.0...</td>\n",
       "      <td>[-0.011642393656075, -0.024704918265342712, -0...</td>\n",
       "    </tr>\n",
       "    <tr>\n",
       "      <th>3</th>\n",
       "      <td>0345417623</td>\n",
       "      <td>Timeline</td>\n",
       "      <td>MICHAEL CRICHTON</td>\n",
       "      <td>2000</td>\n",
       "      <td>Ballantine Books</td>\n",
       "      <td>http://images.amazon.com/images/P/0345417623.0...</td>\n",
       "      <td>[-0.0015527659561485052, -0.02424408495426178,...</td>\n",
       "    </tr>\n",
       "    <tr>\n",
       "      <th>4</th>\n",
       "      <td>0446310786</td>\n",
       "      <td>To Kill a Mockingbird</td>\n",
       "      <td>Harper Lee</td>\n",
       "      <td>1988</td>\n",
       "      <td>Little Brown &amp;amp; Company</td>\n",
       "      <td>http://images.amazon.com/images/P/0446310786.0...</td>\n",
       "      <td>[-0.012490134686231613, -0.016244838014245033,...</td>\n",
       "    </tr>\n",
       "  </tbody>\n",
       "</table>\n",
       "</div>"
      ],
      "text/plain": [
       "      book_id                            book_title       book_author  \\\n",
       "0  0440234743                         The Testament      John Grisham   \n",
       "1  0452264464  Beloved (Plume Contemporary Fiction)     Toni Morrison   \n",
       "2  0971880107                           Wild Animus      Rich Shapero   \n",
       "3  0345417623                              Timeline  MICHAEL CRICHTON   \n",
       "4  0446310786                 To Kill a Mockingbird        Harper Lee   \n",
       "\n",
       "  year_of_publication                   publisher  \\\n",
       "0                1999                        Dell   \n",
       "1                1994                       Plume   \n",
       "2                2004                     Too Far   \n",
       "3                2000            Ballantine Books   \n",
       "4                1988  Little Brown &amp; Company   \n",
       "\n",
       "                                               image  \\\n",
       "0  http://images.amazon.com/images/P/0440234743.0...   \n",
       "1  http://images.amazon.com/images/P/0452264464.0...   \n",
       "2  http://images.amazon.com/images/P/0971880107.0...   \n",
       "3  http://images.amazon.com/images/P/0345417623.0...   \n",
       "4  http://images.amazon.com/images/P/0446310786.0...   \n",
       "\n",
       "                                     title_embedding  \n",
       "0  [-0.0035347945522516966, -0.03365958482027054,...  \n",
       "1  [-0.01696661487221718, -0.024439029395580292, ...  \n",
       "2  [-0.011642393656075, -0.024704918265342712, -0...  \n",
       "3  [-0.0015527659561485052, -0.02424408495426178,...  \n",
       "4  [-0.012490134686231613, -0.016244838014245033,...  "
      ]
     },
     "execution_count": 53,
     "metadata": {},
     "output_type": "execute_result"
    }
   ],
   "source": [
    "book_df.head()"
   ]
  },
  {
   "cell_type": "code",
   "execution_count": 51,
   "id": "b5beab67-2053-4080-9ea6-7f7d8aeba404",
   "metadata": {},
   "outputs": [
    {
     "data": {
      "text/plain": [
       "book_id                                                       0679721037\n",
       "book_title                                                     Hiroshima\n",
       "book_author                                                  John Hersey\n",
       "year_of_publication                                                 1989\n",
       "publisher                                              Vintage Books USA\n",
       "image                  http://images.amazon.com/images/P/0679721037.0...\n",
       "title_embedding        [-0.017385615035891533, 0.00401332089677453, -...\n",
       "Name: 568, dtype: object"
      ]
     },
     "execution_count": 51,
     "metadata": {},
     "output_type": "execute_result"
    }
   ],
   "source": [
    "book_df.iloc[568]"
   ]
  },
  {
   "cell_type": "code",
   "execution_count": 78,
   "id": "406791d4-7838-45c0-8c3a-166d5b7b9b18",
   "metadata": {},
   "outputs": [
    {
     "name": "stderr",
     "output_type": "stream",
     "text": [
      "100% 1121/1121 [00:00<00:00, 6657.16it/s]\n"
     ]
    },
    {
     "data": {
      "text/html": [
       "<div>\n",
       "<style scoped>\n",
       "    .dataframe tbody tr th:only-of-type {\n",
       "        vertical-align: middle;\n",
       "    }\n",
       "\n",
       "    .dataframe tbody tr th {\n",
       "        vertical-align: top;\n",
       "    }\n",
       "\n",
       "    .dataframe thead th {\n",
       "        text-align: right;\n",
       "    }\n",
       "</style>\n",
       "<table border=\"1\" class=\"dataframe\">\n",
       "  <thead>\n",
       "    <tr style=\"text-align: right;\">\n",
       "      <th></th>\n",
       "      <th>book_id</th>\n",
       "      <th>book_title</th>\n",
       "      <th>book_author</th>\n",
       "      <th>year_of_publication</th>\n",
       "      <th>publisher</th>\n",
       "      <th>image</th>\n",
       "      <th>title_embedding</th>\n",
       "    </tr>\n",
       "  </thead>\n",
       "  <tbody>\n",
       "    <tr>\n",
       "      <th>43</th>\n",
       "      <td>0385511612</td>\n",
       "      <td>Bleachers</td>\n",
       "      <td>John Grisham</td>\n",
       "      <td>2003</td>\n",
       "      <td>Doubleday</td>\n",
       "      <td>http://images.amazon.com/images/P/0385511612.0...</td>\n",
       "      <td>[-0.010944600217044353, -0.014994758181273937,...</td>\n",
       "    </tr>\n",
       "    <tr>\n",
       "      <th>16</th>\n",
       "      <td>0316769487</td>\n",
       "      <td>The Catcher in the Rye</td>\n",
       "      <td>J.D. Salinger</td>\n",
       "      <td>1991</td>\n",
       "      <td>Little, Brown</td>\n",
       "      <td>http://images.amazon.com/images/P/0316769487.0...</td>\n",
       "      <td>[-0.020090889185667038, -0.018103187903761864,...</td>\n",
       "    </tr>\n",
       "    <tr>\n",
       "      <th>290</th>\n",
       "      <td>0425115801</td>\n",
       "      <td>Lightning</td>\n",
       "      <td>Dean R. Koontz</td>\n",
       "      <td>1996</td>\n",
       "      <td>Berkley Publishing Group</td>\n",
       "      <td>http://images.amazon.com/images/P/0425115801.0...</td>\n",
       "      <td>[-0.012875005602836609, 0.00704357773065567, -...</td>\n",
       "    </tr>\n",
       "    <tr>\n",
       "      <th>141</th>\n",
       "      <td>0743211383</td>\n",
       "      <td>Dreamcatcher</td>\n",
       "      <td>Stephen King</td>\n",
       "      <td>2001</td>\n",
       "      <td>Scribner</td>\n",
       "      <td>http://images.amazon.com/images/P/0743211383.0...</td>\n",
       "      <td>[-0.028148062527179718, -0.015452278777956963,...</td>\n",
       "    </tr>\n",
       "    <tr>\n",
       "      <th>482</th>\n",
       "      <td>074343627X</td>\n",
       "      <td>Dreamcatcher</td>\n",
       "      <td>Stephen King</td>\n",
       "      <td>2001</td>\n",
       "      <td>Pocket</td>\n",
       "      <td>http://images.amazon.com/images/P/074343627X.0...</td>\n",
       "      <td>[-0.0282867681235075, -0.015508677810430527, 0...</td>\n",
       "    </tr>\n",
       "    <tr>\n",
       "      <th>664</th>\n",
       "      <td>0743467523</td>\n",
       "      <td>Dreamcatcher</td>\n",
       "      <td>Stephen King</td>\n",
       "      <td>2003</td>\n",
       "      <td>Pocket</td>\n",
       "      <td>http://images.amazon.com/images/P/0743467523.0...</td>\n",
       "      <td>[-0.0282867681235075, -0.015508677810430527, 0...</td>\n",
       "    </tr>\n",
       "    <tr>\n",
       "      <th>332</th>\n",
       "      <td>0345353145</td>\n",
       "      <td>Sphere</td>\n",
       "      <td>MICHAEL CRICHTON</td>\n",
       "      <td>1988</td>\n",
       "      <td>Ballantine Books</td>\n",
       "      <td>http://images.amazon.com/images/P/0345353145.0...</td>\n",
       "      <td>[0.005084851756691933, -0.0032117548398673534,...</td>\n",
       "    </tr>\n",
       "  </tbody>\n",
       "</table>\n",
       "</div>"
      ],
      "text/plain": [
       "        book_id              book_title       book_author year_of_publication  \\\n",
       "43   0385511612               Bleachers      John Grisham                2003   \n",
       "16   0316769487  The Catcher in the Rye     J.D. Salinger                1991   \n",
       "290  0425115801               Lightning    Dean R. Koontz                1996   \n",
       "141  0743211383            Dreamcatcher      Stephen King                2001   \n",
       "482  074343627X            Dreamcatcher      Stephen King                2001   \n",
       "664  0743467523            Dreamcatcher      Stephen King                2003   \n",
       "332  0345353145                  Sphere  MICHAEL CRICHTON                1988   \n",
       "\n",
       "                    publisher  \\\n",
       "43                  Doubleday   \n",
       "16              Little, Brown   \n",
       "290  Berkley Publishing Group   \n",
       "141                  Scribner   \n",
       "482                    Pocket   \n",
       "664                    Pocket   \n",
       "332          Ballantine Books   \n",
       "\n",
       "                                                 image  \\\n",
       "43   http://images.amazon.com/images/P/0385511612.0...   \n",
       "16   http://images.amazon.com/images/P/0316769487.0...   \n",
       "290  http://images.amazon.com/images/P/0425115801.0...   \n",
       "141  http://images.amazon.com/images/P/0743211383.0...   \n",
       "482  http://images.amazon.com/images/P/074343627X.0...   \n",
       "664  http://images.amazon.com/images/P/0743467523.0...   \n",
       "332  http://images.amazon.com/images/P/0345353145.0...   \n",
       "\n",
       "                                       title_embedding  \n",
       "43   [-0.010944600217044353, -0.014994758181273937,...  \n",
       "16   [-0.020090889185667038, -0.018103187903761864,...  \n",
       "290  [-0.012875005602836609, 0.00704357773065567, -...  \n",
       "141  [-0.028148062527179718, -0.015452278777956963,...  \n",
       "482  [-0.0282867681235075, -0.015508677810430527, 0...  \n",
       "664  [-0.0282867681235075, -0.015508677810430527, 0...  \n",
       "332  [0.005084851756691933, -0.0032117548398673534,...  "
      ]
     },
     "execution_count": 78,
     "metadata": {},
     "output_type": "execute_result"
    }
   ],
   "source": [
    "#i = 788\n",
    "#query_embedding = book_df[\"title_embedding\"].iloc[i]\n",
    "#item_embeddings = book_df.iloc[book_df.index != i][\"title_embedding\"].tolist()\n",
    "top_k_index = vector_search(\n",
    "    query_embedding=query_embedding,\n",
    "    embeddings=book_df[\"title_embedding\"].tolist()\n",
    ")\n",
    "book_df.iloc[top_k_index]"
   ]
  },
  {
   "cell_type": "code",
   "execution_count": 10,
   "id": "7154bc17-dc12-4adf-86a5-e7796c5aed52",
   "metadata": {},
   "outputs": [
    {
     "data": {
      "text/plain": [
       "array([-0.00353479, -0.03365958, -0.01304948, ..., -0.01985673,\n",
       "        0.01144856, -0.02655636])"
      ]
     },
     "execution_count": 10,
     "metadata": {},
     "output_type": "execute_result"
    }
   ],
   "source": [
    "book_df[\"title_embedding\"][0]"
   ]
  },
  {
   "cell_type": "code",
   "execution_count": null,
   "id": "39047936-b395-4ace-b488-58f57103549c",
   "metadata": {},
   "outputs": [],
   "source": []
  }
 ],
 "metadata": {
  "kernelspec": {
   "display_name": "Python 3 (ipykernel)",
   "language": "python",
   "name": "python3"
  },
  "language_info": {
   "codemirror_mode": {
    "name": "ipython",
    "version": 3
   },
   "file_extension": ".py",
   "mimetype": "text/x-python",
   "name": "python",
   "nbconvert_exporter": "python",
   "pygments_lexer": "ipython3",
   "version": "3.7.8"
  }
 },
 "nbformat": 4,
 "nbformat_minor": 5
}
