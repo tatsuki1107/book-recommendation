{
 "cells": [
  {
   "cell_type": "code",
   "execution_count": 14,
   "id": "465f5b44-d891-467a-957e-29bb54d27f27",
   "metadata": {},
   "outputs": [],
   "source": [
    "import sys; sys.path.append('..')\n",
    "import warnings; warnings.simplefilter(\"ignore\")\n",
    "import pandas as pd\n",
    "import numpy as np\n",
    "import matplotlib.pyplot as plt\n",
    "import seaborn as sns; sns.set()\n",
    "%matplotlib inline"
   ]
  },
  {
   "cell_type": "code",
   "execution_count": 2,
   "id": "52637687-1f78-40eb-9adf-681cacb7e48f",
   "metadata": {},
   "outputs": [
    {
     "data": {
      "text/html": [
       "<div>\n",
       "<style scoped>\n",
       "    .dataframe tbody tr th:only-of-type {\n",
       "        vertical-align: middle;\n",
       "    }\n",
       "\n",
       "    .dataframe tbody tr th {\n",
       "        vertical-align: top;\n",
       "    }\n",
       "\n",
       "    .dataframe thead th {\n",
       "        text-align: right;\n",
       "    }\n",
       "</style>\n",
       "<table border=\"1\" class=\"dataframe\">\n",
       "  <thead>\n",
       "    <tr style=\"text-align: right;\">\n",
       "      <th></th>\n",
       "      <th>User-ID</th>\n",
       "      <th>ISBN</th>\n",
       "      <th>Book-Rating</th>\n",
       "    </tr>\n",
       "  </thead>\n",
       "  <tbody>\n",
       "    <tr>\n",
       "      <th>0</th>\n",
       "      <td>276725</td>\n",
       "      <td>034545104X</td>\n",
       "      <td>0</td>\n",
       "    </tr>\n",
       "    <tr>\n",
       "      <th>1</th>\n",
       "      <td>276726</td>\n",
       "      <td>0155061224</td>\n",
       "      <td>5</td>\n",
       "    </tr>\n",
       "    <tr>\n",
       "      <th>2</th>\n",
       "      <td>276727</td>\n",
       "      <td>0446520802</td>\n",
       "      <td>0</td>\n",
       "    </tr>\n",
       "    <tr>\n",
       "      <th>3</th>\n",
       "      <td>276729</td>\n",
       "      <td>052165615X</td>\n",
       "      <td>3</td>\n",
       "    </tr>\n",
       "    <tr>\n",
       "      <th>4</th>\n",
       "      <td>276729</td>\n",
       "      <td>0521795028</td>\n",
       "      <td>6</td>\n",
       "    </tr>\n",
       "  </tbody>\n",
       "</table>\n",
       "</div>"
      ],
      "text/plain": [
       "   User-ID        ISBN  Book-Rating\n",
       "0   276725  034545104X            0\n",
       "1   276726  0155061224            5\n",
       "2   276727  0446520802            0\n",
       "3   276729  052165615X            3\n",
       "4   276729  0521795028            6"
      ]
     },
     "execution_count": 2,
     "metadata": {},
     "output_type": "execute_result"
    }
   ],
   "source": [
    "rating_df = pd.read_csv('../data/Ratings.csv')\n",
    "rating_df.head()"
   ]
  },
  {
   "cell_type": "code",
   "execution_count": 3,
   "id": "10589e4d-323a-4999-9a32-f4a50ef95867",
   "metadata": {},
   "outputs": [],
   "source": [
    "# 存在しないISBNがあるのでdrop\n",
    "dosent_k = list(rating_df.groupby('ISBN').size().sort_values(ascending=False)[-1:].to_dict().keys())[0]\n",
    "drop_index = rating_df[rating_df[\"ISBN\"]==dosent_k].index\n",
    "rating_df.drop(drop_index, inplace=True)"
   ]
  },
  {
   "cell_type": "code",
   "execution_count": 5,
   "id": "9cd8b699-9c54-4dce-8a91-01a2529390fa",
   "metadata": {},
   "outputs": [],
   "source": [
    "import joblib\n",
    "\n",
    "user_df = joblib.load('../data/user.pkl')\n",
    "book_df = joblib.load('../data/book.pkl')"
   ]
  },
  {
   "cell_type": "code",
   "execution_count": 6,
   "id": "1a54ffe9-78bb-4076-9c84-445fb6309d97",
   "metadata": {},
   "outputs": [
    {
     "name": "stdout",
     "output_type": "stream",
     "text": [
      "book_dfのユニークなISBNの数: 271357\n",
      "rating_dfのユニークなISBNの数: 340555\n"
     ]
    }
   ],
   "source": [
    "print(f'book_dfのユニークなISBNの数: {len(book_df[\"ISBN\"].unique())}')\n",
    "print(f'rating_dfのユニークなISBNの数: {len(rating_df[\"ISBN\"].unique())}')"
   ]
  },
  {
   "cell_type": "code",
   "execution_count": 8,
   "id": "e551ffd0-7922-41bc-ae2a-f7ecc33fc3e3",
   "metadata": {},
   "outputs": [
    {
     "name": "stdout",
     "output_type": "stream",
     "text": [
      "book_dfにはないISBNがrating_dfにある数: 70407\n"
     ]
    }
   ],
   "source": [
    "# 登録されている本のうち、評価されたことのある本の割合がおかしくなる原因\n",
    "#廃番になった本が履歴に混ざっていると見当がつく。強調系のtrainデータとしては使えるのでとりあえず残しておく\n",
    "rating_isbn = set(rating_df[\"ISBN\"].unique())\n",
    "book_isbn = set(book_df[\"ISBN\"].to_list())\n",
    "diff_isbn = list(rating_isbn.difference(book_isbn))\n",
    "print(f\"book_dfにはないISBNがrating_dfにある数: {len(diff_isbn)}\")"
   ]
  },
  {
   "cell_type": "code",
   "execution_count": 9,
   "id": "a9a5445d-67af-4443-a6e2-59e152172a33",
   "metadata": {},
   "outputs": [
    {
     "name": "stdout",
     "output_type": "stream",
     "text": [
      "レコード数: 1149779\n",
      "評価したユーザー数: 105283\n",
      "評価されたアイテム数: 340555\n",
      "----------------------------------------------\n",
      "登録されているユーザのうち、評価をしたことがあるユーザの割合: 0.38\n",
      "登録されている本のうち、評価されたことのある本の割合: 1.26\n"
     ]
    }
   ],
   "source": [
    "print(f'レコード数: {len(rating_df)}')\n",
    "print(f'評価したユーザー数: {len(rating_df[\"User-ID\"].unique())}')\n",
    "print(f'評価されたアイテム数: {len(rating_df[\"ISBN\"].unique())}')\n",
    "print('----------------------------------------------')\n",
    "print(f'登録されているユーザのうち、評価をしたことがあるユーザの割合: {len(rating_df[\"User-ID\"].unique())/len(user_df):.2f}')\n",
    "print(f'登録されている本のうち、評価されたことのある本の割合: {len(rating_df[\"ISBN\"].unique())/len(book_df):.2f}')\n"
   ]
  },
  {
   "cell_type": "code",
   "execution_count": 10,
   "id": "ed599e91-af8a-4547-9877-cdf20309fde7",
   "metadata": {},
   "outputs": [
    {
     "name": "stdout",
     "output_type": "stream",
     "text": [
      "Implicit FeedBackの割合: 0.62\n"
     ]
    },
    {
     "data": {
      "text/plain": [
       "Text(0, 0.5, '数')"
      ]
     },
     "execution_count": 10,
     "metadata": {},
     "output_type": "execute_result"
    },
    {
     "data": {
      "image/png": "[encoded data removed]",
      "text/plain": [
       "<Figure size 432x288 with 1 Axes>"
      ]
     },
     "metadata": {
      "needs_background": "light"
     },
     "output_type": "display_data"
    }
   ],
   "source": [
    "rating_count_dict = rating_df.groupby('Book-Rating').size().to_dict()\n",
    "\n",
    "print(f'Implicit FeedBackの割合: {rating_count_dict[0]/len(rating_df):.2f}')\n",
    "\n",
    "fig, ax = plt.subplots()\n",
    "ax.bar(rating_count_dict.keys(), rating_count_dict.values())\n",
    "ax.set_title('評価値の分布')\n",
    "ax.set_xlabel('評価値')\n",
    "ax.set_ylabel('数')"
   ]
  },
  {
   "cell_type": "code",
   "execution_count": 11,
   "id": "674034c6-af43-4b10-8748-dd913e7199af",
   "metadata": {},
   "outputs": [
    {
     "data": {
      "text/plain": [
       "Text(0.5, 1.0, 'explicit feedback確率変数に従う離散分布')"
      ]
     },
     "execution_count": 11,
     "metadata": {},
     "output_type": "execute_result"
    },
    {
     "data": {
      "image/png": "[encoded data removed]",
      "text/plain": [
       "<Figure size 432x288 with 2 Axes>"
      ]
     },
     "metadata": {
      "needs_background": "light"
     },
     "output_type": "display_data"
    }
   ],
   "source": [
    "explicit_list = rating_df[rating_df[\"Book-Rating\"]!=0][\"Book-Rating\"].to_list()\n",
    "fig = plt.figure()\n",
    "fig.subplots_adjust(hspace=0.6, wspace=0.4)\n",
    "\n",
    "ax1 = fig.add_subplot(2, 1, 1)\n",
    "ax2 = fig.add_subplot(2, 1, 2)\n",
    "\n",
    "ax1.boxplot(explicit_list, vert=False)\n",
    "ax2.hist(explicit_list, density=True, rwidth=0.8)\n",
    "ax2.set_xlabel('評価値')\n",
    "ax2.set_ylabel('評価値に従う確率')\n",
    "ax2.set_title('explicit feedback確率変数に従う離散分布')"
   ]
  },
  {
   "cell_type": "code",
   "execution_count": 12,
   "id": "a8ab1fa9-838a-44c9-93e5-3273a26058eb",
   "metadata": {},
   "outputs": [],
   "source": [
    "# ユーザが能動的に評価値を与えるときは高いスコアをつける傾向がある。"
   ]
  },
  {
   "cell_type": "code",
   "execution_count": 15,
   "id": "615e83a6-5455-4100-bcd7-9d71591cfb73",
   "metadata": {},
   "outputs": [
    {
     "data": {
      "text/html": [
       "<div>\n",
       "<style scoped>\n",
       "    .dataframe tbody tr th:only-of-type {\n",
       "        vertical-align: middle;\n",
       "    }\n",
       "\n",
       "    .dataframe tbody tr th {\n",
       "        vertical-align: top;\n",
       "    }\n",
       "\n",
       "    .dataframe thead th {\n",
       "        text-align: right;\n",
       "    }\n",
       "</style>\n",
       "<table border=\"1\" class=\"dataframe\">\n",
       "  <thead>\n",
       "    <tr style=\"text-align: right;\">\n",
       "      <th></th>\n",
       "      <th>User-ID</th>\n",
       "      <th>ISBN</th>\n",
       "      <th>Book-Rating</th>\n",
       "      <th>Age</th>\n",
       "      <th>city</th>\n",
       "      <th>state</th>\n",
       "      <th>country</th>\n",
       "      <th>Book-Title</th>\n",
       "      <th>Book-Author</th>\n",
       "      <th>Year-Of-Publication</th>\n",
       "      <th>Publisher</th>\n",
       "    </tr>\n",
       "  </thead>\n",
       "  <tbody>\n",
       "    <tr>\n",
       "      <th>0</th>\n",
       "      <td>2954</td>\n",
       "      <td>0060973129</td>\n",
       "      <td>8.0</td>\n",
       "      <td>71.0</td>\n",
       "      <td>wichita</td>\n",
       "      <td>kansas</td>\n",
       "      <td>usa</td>\n",
       "      <td>Decision in Normandy</td>\n",
       "      <td>Carlo D'Este</td>\n",
       "      <td>1991</td>\n",
       "      <td>HarperPerennial</td>\n",
       "    </tr>\n",
       "    <tr>\n",
       "      <th>1</th>\n",
       "      <td>35704</td>\n",
       "      <td>0374157065</td>\n",
       "      <td>6.0</td>\n",
       "      <td>53.0</td>\n",
       "      <td>kansas city</td>\n",
       "      <td>missouri</td>\n",
       "      <td>usa</td>\n",
       "      <td>Flu: The Story of the Great Influenza Pandemic...</td>\n",
       "      <td>Gina Bari Kolata</td>\n",
       "      <td>1999</td>\n",
       "      <td>Farrar Straus Giroux</td>\n",
       "    </tr>\n",
       "    <tr>\n",
       "      <th>2</th>\n",
       "      <td>110912</td>\n",
       "      <td>0374157065</td>\n",
       "      <td>10.0</td>\n",
       "      <td>36.0</td>\n",
       "      <td>milpitas</td>\n",
       "      <td>california</td>\n",
       "      <td>usa</td>\n",
       "      <td>Flu: The Story of the Great Influenza Pandemic...</td>\n",
       "      <td>Gina Bari Kolata</td>\n",
       "      <td>1999</td>\n",
       "      <td>Farrar Straus Giroux</td>\n",
       "    </tr>\n",
       "    <tr>\n",
       "      <th>3</th>\n",
       "      <td>157969</td>\n",
       "      <td>0374157065</td>\n",
       "      <td>8.0</td>\n",
       "      <td>30.0</td>\n",
       "      <td>denver</td>\n",
       "      <td>colorado</td>\n",
       "      <td>usa</td>\n",
       "      <td>Flu: The Story of the Great Influenza Pandemic...</td>\n",
       "      <td>Gina Bari Kolata</td>\n",
       "      <td>1999</td>\n",
       "      <td>Farrar Straus Giroux</td>\n",
       "    </tr>\n",
       "    <tr>\n",
       "      <th>4</th>\n",
       "      <td>192665</td>\n",
       "      <td>0374157065</td>\n",
       "      <td>8.0</td>\n",
       "      <td>47.0</td>\n",
       "      <td>vacaville</td>\n",
       "      <td>california</td>\n",
       "      <td>usa</td>\n",
       "      <td>Flu: The Story of the Great Influenza Pandemic...</td>\n",
       "      <td>Gina Bari Kolata</td>\n",
       "      <td>1999</td>\n",
       "      <td>Farrar Straus Giroux</td>\n",
       "    </tr>\n",
       "  </tbody>\n",
       "</table>\n",
       "</div>"
      ],
      "text/plain": [
       "   User-ID        ISBN  Book-Rating   Age         city       state country  \\\n",
       "0     2954  0060973129          8.0  71.0      wichita      kansas     usa   \n",
       "1    35704  0374157065          6.0  53.0  kansas city    missouri     usa   \n",
       "2   110912  0374157065         10.0  36.0     milpitas  california     usa   \n",
       "3   157969  0374157065          8.0  30.0       denver    colorado     usa   \n",
       "4   192665  0374157065          8.0  47.0    vacaville  california     usa   \n",
       "\n",
       "                                          Book-Title       Book-Author  \\\n",
       "0                               Decision in Normandy      Carlo D'Este   \n",
       "1  Flu: The Story of the Great Influenza Pandemic...  Gina Bari Kolata   \n",
       "2  Flu: The Story of the Great Influenza Pandemic...  Gina Bari Kolata   \n",
       "3  Flu: The Story of the Great Influenza Pandemic...  Gina Bari Kolata   \n",
       "4  Flu: The Story of the Great Influenza Pandemic...  Gina Bari Kolata   \n",
       "\n",
       "  Year-Of-Publication             Publisher  \n",
       "0                1991       HarperPerennial  \n",
       "1                1999  Farrar Straus Giroux  \n",
       "2                1999  Farrar Straus Giroux  \n",
       "3                1999  Farrar Straus Giroux  \n",
       "4                1999  Farrar Straus Giroux  "
      ]
     },
     "execution_count": 15,
     "metadata": {},
     "output_type": "execute_result"
    }
   ],
   "source": [
    "# user, bookの情報を加えてexplicit feedbackを分析してみる。\n",
    "# 廃番になったとされる本とuser_dfでnanがあるレコードはとりあえず省く\n",
    "# Ageが100以降のレコードもdrop\n",
    "\n",
    "# yearがおかしいレコードも評価がないので落とす\n",
    "\n",
    "\n",
    "explicit_df = pd.merge(rating_df, user_df, on=\"User-ID\")\n",
    "explicit_df = pd.merge(explicit_df, book_df, on=\"ISBN\", how=\"right\")\n",
    "explicit_df = explicit_df[(~explicit_df[\"Age\"].isnull()) & (explicit_df[\"Age\"] < 100)]\n",
    "explicit_df = explicit_df[(explicit_df[\"city\"]!=\"n/a\") & (explicit_df[\"state\"]!=\"n/a\") & (explicit_df[\"country\"]!=\"n/a\")]\n",
    "\n",
    "explicit_df = explicit_df[explicit_df[\"Year-Of-Publication\"]!=\"Gallimard\"]\n",
    "\n",
    "explicit_df = explicit_df.astype({\"User-ID\": np.int64})\n",
    "explicit_df = explicit_df[explicit_df[\"Book-Rating\"]!=0]\n",
    "\n",
    "# 国数が膨大すぎるので、英語圏だけに絞ってレコメンドしたい（英語のわからない日本人に英語の本をオススメしてもしょうがないから）\n",
    "explicit_df = explicit_df[explicit_df[\"country\"]==\"usa\"].reset_index(drop=True)\n",
    "explicit_df.head()"
   ]
  },
  {
   "cell_type": "code",
   "execution_count": 16,
   "id": "aac2afb8-fd2b-41c0-9387-987b6f0134b7",
   "metadata": {},
   "outputs": [
    {
     "data": {
      "text/plain": [
       "['../data/explicit.pkl']"
      ]
     },
     "execution_count": 16,
     "metadata": {},
     "output_type": "execute_result"
    }
   ],
   "source": [
    "joblib.dump(explicit_df, \"../data/explicit.pkl\")"
   ]
  },
  {
   "cell_type": "code",
   "execution_count": null,
   "id": "32693b59-d9e1-43f9-a226-b3187fd20aa9",
   "metadata": {},
   "outputs": [],
   "source": []
  }
 ],
 "metadata": {
  "kernelspec": {
   "display_name": "Python 3 (ipykernel)",
   "language": "python",
   "name": "python3"
  },
  "language_info": {
   "codemirror_mode": {
    "name": "ipython",
    "version": 3
   },
   "file_extension": ".py",
   "mimetype": "text/x-python",
   "name": "python",
   "nbconvert_exporter": "python",
   "pygments_lexer": "ipython3",
   "version": "3.7.8"
  }
 },
 "nbformat": 4,
 "nbformat_minor": 5
}
