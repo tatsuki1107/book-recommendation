{
 "cells": [
  {
   "cell_type": "code",
   "execution_count": 1,
   "id": "be667dce-2166-4dbf-b208-c2ab392c33be",
   "metadata": {},
   "outputs": [],
   "source": [
    "import sys; sys.path.append('..')\n",
    "import warnings; warnings.simplefilter(\"ignore\")\n",
    "import pandas as pd"
   ]
  },
  {
   "cell_type": "code",
   "execution_count": 2,
   "id": "e73def12-1bbf-44ae-b941-420c4c5c24df",
   "metadata": {},
   "outputs": [],
   "source": [
    "user_df = pd.read_csv('../data/Users.csv')"
   ]
  },
  {
   "cell_type": "code",
   "execution_count": 3,
   "id": "d80b85f0-806d-480e-8a07-9550ec309b50",
   "metadata": {},
   "outputs": [
    {
     "data": {
      "text/html": [
       "<div>\n",
       "<style scoped>\n",
       "    .dataframe tbody tr th:only-of-type {\n",
       "        vertical-align: middle;\n",
       "    }\n",
       "\n",
       "    .dataframe tbody tr th {\n",
       "        vertical-align: top;\n",
       "    }\n",
       "\n",
       "    .dataframe thead th {\n",
       "        text-align: right;\n",
       "    }\n",
       "</style>\n",
       "<table border=\"1\" class=\"dataframe\">\n",
       "  <thead>\n",
       "    <tr style=\"text-align: right;\">\n",
       "      <th></th>\n",
       "      <th>User-ID</th>\n",
       "      <th>Location</th>\n",
       "      <th>Age</th>\n",
       "    </tr>\n",
       "  </thead>\n",
       "  <tbody>\n",
       "    <tr>\n",
       "      <th>0</th>\n",
       "      <td>1</td>\n",
       "      <td>nyc, new york, usa</td>\n",
       "      <td>NaN</td>\n",
       "    </tr>\n",
       "    <tr>\n",
       "      <th>1</th>\n",
       "      <td>2</td>\n",
       "      <td>stockton, california, usa</td>\n",
       "      <td>18.0</td>\n",
       "    </tr>\n",
       "    <tr>\n",
       "      <th>2</th>\n",
       "      <td>3</td>\n",
       "      <td>moscow, yukon territory, russia</td>\n",
       "      <td>NaN</td>\n",
       "    </tr>\n",
       "    <tr>\n",
       "      <th>3</th>\n",
       "      <td>4</td>\n",
       "      <td>porto, v.n.gaia, portugal</td>\n",
       "      <td>17.0</td>\n",
       "    </tr>\n",
       "    <tr>\n",
       "      <th>4</th>\n",
       "      <td>5</td>\n",
       "      <td>farnborough, hants, united kingdom</td>\n",
       "      <td>NaN</td>\n",
       "    </tr>\n",
       "  </tbody>\n",
       "</table>\n",
       "</div>"
      ],
      "text/plain": [
       "   User-ID                            Location   Age\n",
       "0        1                  nyc, new york, usa   NaN\n",
       "1        2           stockton, california, usa  18.0\n",
       "2        3     moscow, yukon territory, russia   NaN\n",
       "3        4           porto, v.n.gaia, portugal  17.0\n",
       "4        5  farnborough, hants, united kingdom   NaN"
      ]
     },
     "execution_count": 3,
     "metadata": {},
     "output_type": "execute_result"
    }
   ],
   "source": [
    "user_df.head()"
   ]
  },
  {
   "cell_type": "code",
   "execution_count": 4,
   "id": "b9c99e24-4599-4209-adcd-a70b48617341",
   "metadata": {},
   "outputs": [
    {
     "data": {
      "text/html": [
       "<div>\n",
       "<style scoped>\n",
       "    .dataframe tbody tr th:only-of-type {\n",
       "        vertical-align: middle;\n",
       "    }\n",
       "\n",
       "    .dataframe tbody tr th {\n",
       "        vertical-align: top;\n",
       "    }\n",
       "\n",
       "    .dataframe thead th {\n",
       "        text-align: right;\n",
       "    }\n",
       "</style>\n",
       "<table border=\"1\" class=\"dataframe\">\n",
       "  <thead>\n",
       "    <tr style=\"text-align: right;\">\n",
       "      <th></th>\n",
       "      <th>User-ID</th>\n",
       "      <th>Age</th>\n",
       "      <th>city</th>\n",
       "      <th>state</th>\n",
       "      <th>country</th>\n",
       "    </tr>\n",
       "  </thead>\n",
       "  <tbody>\n",
       "    <tr>\n",
       "      <th>0</th>\n",
       "      <td>1</td>\n",
       "      <td>NaN</td>\n",
       "      <td>nyc</td>\n",
       "      <td>new york</td>\n",
       "      <td>usa</td>\n",
       "    </tr>\n",
       "    <tr>\n",
       "      <th>1</th>\n",
       "      <td>2</td>\n",
       "      <td>18.0</td>\n",
       "      <td>stockton</td>\n",
       "      <td>california</td>\n",
       "      <td>usa</td>\n",
       "    </tr>\n",
       "    <tr>\n",
       "      <th>2</th>\n",
       "      <td>3</td>\n",
       "      <td>NaN</td>\n",
       "      <td>moscow</td>\n",
       "      <td>yukon territory</td>\n",
       "      <td>russia</td>\n",
       "    </tr>\n",
       "    <tr>\n",
       "      <th>3</th>\n",
       "      <td>4</td>\n",
       "      <td>17.0</td>\n",
       "      <td>porto</td>\n",
       "      <td>v.n.gaia</td>\n",
       "      <td>portugal</td>\n",
       "    </tr>\n",
       "    <tr>\n",
       "      <th>4</th>\n",
       "      <td>5</td>\n",
       "      <td>NaN</td>\n",
       "      <td>farnborough</td>\n",
       "      <td>hants</td>\n",
       "      <td>united kingdom</td>\n",
       "    </tr>\n",
       "  </tbody>\n",
       "</table>\n",
       "</div>"
      ],
      "text/plain": [
       "   User-ID   Age         city            state         country\n",
       "0        1   NaN          nyc         new york             usa\n",
       "1        2  18.0     stockton       california             usa\n",
       "2        3   NaN       moscow  yukon territory          russia\n",
       "3        4  17.0        porto         v.n.gaia        portugal\n",
       "4        5   NaN  farnborough            hants  united kingdom"
      ]
     },
     "execution_count": 4,
     "metadata": {},
     "output_type": "execute_result"
    }
   ],
   "source": [
    "user_df = pd.concat([user_df, user_df[\"Location\"].str.split(', ', expand=True)], axis=1)\n",
    "drop_cols = [\"Location\", 3,4,5,6,7,8]\n",
    "user_df = user_df.drop(drop_cols, axis=1)\n",
    "user_df = user_df.rename(columns={0: \"city\", 1: \"state\", 2: \"country\"})\n",
    "user_df.head()"
   ]
  },
  {
   "cell_type": "code",
   "execution_count": 5,
   "id": "489e33f1-2e4a-48a0-bd7c-714760f52632",
   "metadata": {},
   "outputs": [
    {
     "data": {
      "text/plain": [
       "<AxesSubplot:>"
      ]
     },
     "execution_count": 5,
     "metadata": {},
     "output_type": "execute_result"
    },
    {
     "data": {
      "image/png": "[encoded data removed]",
      "text/plain": [
       "<Figure size 432x288 with 1 Axes>"
      ]
     },
     "metadata": {
      "needs_background": "light"
     },
     "output_type": "display_data"
    }
   ],
   "source": [
    "user_df.boxplot(column=\"Age\", vert=False, patch_artist=True)"
   ]
  },
  {
   "cell_type": "code",
   "execution_count": 6,
   "id": "e7c6ef19-cfe8-40c5-93f2-c31b59b0c5e8",
   "metadata": {},
   "outputs": [
    {
     "name": "stdout",
     "output_type": "stream",
     "text": [
      "ユーザの数:　　278858\n",
      "100歳以上のレコード数: 366\n",
      "AgeがNanのレコード数: 110762\n",
      "正しくAgeが入力されているとされるレコードの割合: 0.60\n"
     ]
    }
   ],
   "source": [
    "# 年齢がえらいことになっている。登録時の打ち間違え？\n",
    "import numpy as np\n",
    "\n",
    "len_user = len(user_df)\n",
    "len_user_over_100 =  len(user_df[user_df[\"Age\"] > 100])\n",
    "len_user_age_is_nan = user_df[\"Age\"].isnull().sum()\n",
    "\n",
    "print(f\"ユーザの数:　　{len_user}\")\n",
    "print(f'100歳以上のレコード数: {len_user_over_100}')\n",
    "\n",
    "print(f'AgeがNanのレコード数: {len_user_age_is_nan}')\n",
    "print(f'正しくAgeが入力されているとされるレコードの割合: {(len_user-(len_user_over_100+len_user_age_is_nan))/len_user:.2f}')\n"
   ]
  },
  {
   "cell_type": "code",
   "execution_count": 7,
   "id": "14a043ac-9770-4a24-9169-2527c34f2acd",
   "metadata": {},
   "outputs": [
    {
     "data": {
      "text/html": [
       "<div>\n",
       "<style scoped>\n",
       "    .dataframe tbody tr th:only-of-type {\n",
       "        vertical-align: middle;\n",
       "    }\n",
       "\n",
       "    .dataframe tbody tr th {\n",
       "        vertical-align: top;\n",
       "    }\n",
       "\n",
       "    .dataframe thead th {\n",
       "        text-align: right;\n",
       "    }\n",
       "</style>\n",
       "<table border=\"1\" class=\"dataframe\">\n",
       "  <thead>\n",
       "    <tr style=\"text-align: right;\">\n",
       "      <th></th>\n",
       "      <th>User-ID</th>\n",
       "    </tr>\n",
       "    <tr>\n",
       "      <th>country</th>\n",
       "      <th></th>\n",
       "    </tr>\n",
       "  </thead>\n",
       "  <tbody>\n",
       "    <tr>\n",
       "      <th></th>\n",
       "      <td>440721</td>\n",
       "    </tr>\n",
       "    <tr>\n",
       "      <th>australia</th>\n",
       "      <td>275708</td>\n",
       "    </tr>\n",
       "    <tr>\n",
       "      <th>england</th>\n",
       "      <td>227693</td>\n",
       "    </tr>\n",
       "    <tr>\n",
       "      <th>pasig city.</th>\n",
       "      <td>261732</td>\n",
       "    </tr>\n",
       "    <tr>\n",
       "      <th>&amp;#20013;&amp;#22269;</th>\n",
       "      <td>272827</td>\n",
       "    </tr>\n",
       "    <tr>\n",
       "      <th>...</th>\n",
       "      <td>...</td>\n",
       "    </tr>\n",
       "    <tr>\n",
       "      <th>zhengjiang</th>\n",
       "      <td>23884</td>\n",
       "    </tr>\n",
       "    <tr>\n",
       "      <th>zimbabwe</th>\n",
       "      <td>3481123</td>\n",
       "    </tr>\n",
       "    <tr>\n",
       "      <th>álava</th>\n",
       "      <td>23325</td>\n",
       "    </tr>\n",
       "    <tr>\n",
       "      <th>ä¸­å?½</th>\n",
       "      <td>198587</td>\n",
       "    </tr>\n",
       "    <tr>\n",
       "      <th>öð¹ú</th>\n",
       "      <td>953975</td>\n",
       "    </tr>\n",
       "  </tbody>\n",
       "</table>\n",
       "<p>1014 rows × 1 columns</p>\n",
       "</div>"
      ],
      "text/plain": [
       "                  User-ID\n",
       "country                  \n",
       "                   440721\n",
       " australia         275708\n",
       " england           227693\n",
       " pasig city.       261732\n",
       "&#20013;&#22269;   272827\n",
       "...                   ...\n",
       "zhengjiang          23884\n",
       "zimbabwe          3481123\n",
       "álava               23325\n",
       "ä¸­å?½             198587\n",
       "öð¹ú               953975\n",
       "\n",
       "[1014 rows x 1 columns]"
      ]
     },
     "execution_count": 7,
     "metadata": {},
     "output_type": "execute_result"
    }
   ],
   "source": [
    "# 国ごとのユーザ数\n",
    "user_df.groupby(\"country\").agg({\"User-ID\": np.sum})"
   ]
  },
  {
   "cell_type": "code",
   "execution_count": 8,
   "id": "35254461-8a4f-4c34-90de-9eea03d00832",
   "metadata": {},
   "outputs": [
    {
     "data": {
      "text/plain": [
       "['n/a']"
      ]
     },
     "execution_count": 8,
     "metadata": {},
     "output_type": "execute_result"
    }
   ],
   "source": [
    "user_df[-1:][\"state\"].to_list()"
   ]
  },
  {
   "cell_type": "code",
   "execution_count": 9,
   "id": "8ea4c0c6-9ef5-4287-8999-2cec4487d500",
   "metadata": {},
   "outputs": [
    {
     "name": "stdout",
     "output_type": "stream",
     "text": [
      "欠損値の数\n",
      "state: 12421\n",
      "city: 439\n",
      "country: 78\n"
     ]
    }
   ],
   "source": [
    "len_state_nan = len(user_df[user_df[\"state\"]== \"n/a\"])\n",
    "len_city_nan = len(user_df[user_df[\"city\"]== \"n/a\"])\n",
    "len_country_nan = len(user_df[user_df[\"country\"]== \"n/a\"])\n",
    "\n",
    "print(f\"欠損値の数\")\n",
    "print(f'state: {len_state_nan}')\n",
    "print(f'city: {len_city_nan}')\n",
    "print(f'country: {len_country_nan}')"
   ]
  },
  {
   "cell_type": "code",
   "execution_count": 10,
   "id": "bbb45739-4321-4150-8753-77e3068be00d",
   "metadata": {},
   "outputs": [
    {
     "name": "stdout",
     "output_type": "stream",
     "text": [
      "cityはわかるがstateがわからないレコード数: 12150\n",
      "cityまたは、stateがわかっていてcountryがわからないレコード数: 67\n",
      "すべてがわからないレコード数: 11\n",
      "stateはnew yorkなのにcountryはusaではないレコード数: 82\n"
     ]
    }
   ],
   "source": [
    "# stateがわかっていてcountryがわからない場合などは場合によって欠損値を埋めれる??\n",
    "temp_df = user_df[~((user_df[\"city\"]==\"n/a\") & (user_df[\"state\"]==\"n/a\"))]\n",
    "city_state_country = len(temp_df[temp_df[\"country\"]==\"n/a\"])\n",
    "\n",
    "# cityはわかるがstateがわからない場合\n",
    "city_state = len(user_df[(user_df[\"city\"]!=\"n/a\") & (user_df[\"state\"]==\"n/a\")])\n",
    "\n",
    "# すべてがわからない\n",
    "temp_df = user_df[(user_df[\"city\"]==\"n/a\") & (user_df[\"state\"]==\"n/a\")]\n",
    "all_na = len(temp_df[temp_df[\"country\"]==\"n/a\"])\n",
    "\n",
    "# stateはnew yorkなのにcountryはusaではないレコードが存在するから、countryだけを考慮すればいいかな\n",
    "error_recode = len(user_df[(user_df[\"state\"]==\"new york\") & (user_df[\"country\"]!=\"usa\")])\n",
    "\n",
    "print(f\"cityはわかるがstateがわからないレコード数: {city_state}\")\n",
    "print(f'cityまたは、stateがわかっていてcountryがわからないレコード数: {city_state_country}')\n",
    "print(f'すべてがわからないレコード数: {all_na}')\n",
    "print(f'stateはnew yorkなのにcountryはusaではないレコード数: {error_recode}')\n"
   ]
  },
  {
   "cell_type": "code",
   "execution_count": 11,
   "id": "d90a5c03-b477-4419-b867-764af172e2e7",
   "metadata": {},
   "outputs": [],
   "source": [
    "# Locationは欠損値を埋めれる？？"
   ]
  },
  {
   "cell_type": "code",
   "execution_count": 12,
   "id": "91c9db7f-a52d-499b-ac01-5f521d6c59cf",
   "metadata": {},
   "outputs": [
    {
     "data": {
      "text/html": [
       "<div>\n",
       "<style scoped>\n",
       "    .dataframe tbody tr th:only-of-type {\n",
       "        vertical-align: middle;\n",
       "    }\n",
       "\n",
       "    .dataframe tbody tr th {\n",
       "        vertical-align: top;\n",
       "    }\n",
       "\n",
       "    .dataframe thead th {\n",
       "        text-align: right;\n",
       "    }\n",
       "</style>\n",
       "<table border=\"1\" class=\"dataframe\">\n",
       "  <thead>\n",
       "    <tr style=\"text-align: right;\">\n",
       "      <th></th>\n",
       "      <th>ISBN</th>\n",
       "      <th>Book-Title</th>\n",
       "      <th>Book-Author</th>\n",
       "      <th>Year-Of-Publication</th>\n",
       "      <th>Publisher</th>\n",
       "      <th>Image-URL-S</th>\n",
       "      <th>Image-URL-M</th>\n",
       "      <th>Image-URL-L</th>\n",
       "    </tr>\n",
       "  </thead>\n",
       "  <tbody>\n",
       "    <tr>\n",
       "      <th>0</th>\n",
       "      <td>0195153448</td>\n",
       "      <td>Classical Mythology</td>\n",
       "      <td>Mark P. O. Morford</td>\n",
       "      <td>2002</td>\n",
       "      <td>Oxford University Press</td>\n",
       "      <td>http://images.amazon.com/images/P/0195153448.0...</td>\n",
       "      <td>http://images.amazon.com/images/P/0195153448.0...</td>\n",
       "      <td>http://images.amazon.com/images/P/0195153448.0...</td>\n",
       "    </tr>\n",
       "    <tr>\n",
       "      <th>1</th>\n",
       "      <td>0002005018</td>\n",
       "      <td>Clara Callan</td>\n",
       "      <td>Richard Bruce Wright</td>\n",
       "      <td>2001</td>\n",
       "      <td>HarperFlamingo Canada</td>\n",
       "      <td>http://images.amazon.com/images/P/0002005018.0...</td>\n",
       "      <td>http://images.amazon.com/images/P/0002005018.0...</td>\n",
       "      <td>http://images.amazon.com/images/P/0002005018.0...</td>\n",
       "    </tr>\n",
       "    <tr>\n",
       "      <th>2</th>\n",
       "      <td>0060973129</td>\n",
       "      <td>Decision in Normandy</td>\n",
       "      <td>Carlo D'Este</td>\n",
       "      <td>1991</td>\n",
       "      <td>HarperPerennial</td>\n",
       "      <td>http://images.amazon.com/images/P/0060973129.0...</td>\n",
       "      <td>http://images.amazon.com/images/P/0060973129.0...</td>\n",
       "      <td>http://images.amazon.com/images/P/0060973129.0...</td>\n",
       "    </tr>\n",
       "    <tr>\n",
       "      <th>3</th>\n",
       "      <td>0374157065</td>\n",
       "      <td>Flu: The Story of the Great Influenza Pandemic...</td>\n",
       "      <td>Gina Bari Kolata</td>\n",
       "      <td>1999</td>\n",
       "      <td>Farrar Straus Giroux</td>\n",
       "      <td>http://images.amazon.com/images/P/0374157065.0...</td>\n",
       "      <td>http://images.amazon.com/images/P/0374157065.0...</td>\n",
       "      <td>http://images.amazon.com/images/P/0374157065.0...</td>\n",
       "    </tr>\n",
       "    <tr>\n",
       "      <th>4</th>\n",
       "      <td>0393045218</td>\n",
       "      <td>The Mummies of Urumchi</td>\n",
       "      <td>E. J. W. Barber</td>\n",
       "      <td>1999</td>\n",
       "      <td>W. W. Norton &amp;amp; Company</td>\n",
       "      <td>http://images.amazon.com/images/P/0393045218.0...</td>\n",
       "      <td>http://images.amazon.com/images/P/0393045218.0...</td>\n",
       "      <td>http://images.amazon.com/images/P/0393045218.0...</td>\n",
       "    </tr>\n",
       "  </tbody>\n",
       "</table>\n",
       "</div>"
      ],
      "text/plain": [
       "         ISBN                                         Book-Title  \\\n",
       "0  0195153448                                Classical Mythology   \n",
       "1  0002005018                                       Clara Callan   \n",
       "2  0060973129                               Decision in Normandy   \n",
       "3  0374157065  Flu: The Story of the Great Influenza Pandemic...   \n",
       "4  0393045218                             The Mummies of Urumchi   \n",
       "\n",
       "            Book-Author Year-Of-Publication                   Publisher  \\\n",
       "0    Mark P. O. Morford                2002     Oxford University Press   \n",
       "1  Richard Bruce Wright                2001       HarperFlamingo Canada   \n",
       "2          Carlo D'Este                1991             HarperPerennial   \n",
       "3      Gina Bari Kolata                1999        Farrar Straus Giroux   \n",
       "4       E. J. W. Barber                1999  W. W. Norton &amp; Company   \n",
       "\n",
       "                                         Image-URL-S  \\\n",
       "0  http://images.amazon.com/images/P/0195153448.0...   \n",
       "1  http://images.amazon.com/images/P/0002005018.0...   \n",
       "2  http://images.amazon.com/images/P/0060973129.0...   \n",
       "3  http://images.amazon.com/images/P/0374157065.0...   \n",
       "4  http://images.amazon.com/images/P/0393045218.0...   \n",
       "\n",
       "                                         Image-URL-M  \\\n",
       "0  http://images.amazon.com/images/P/0195153448.0...   \n",
       "1  http://images.amazon.com/images/P/0002005018.0...   \n",
       "2  http://images.amazon.com/images/P/0060973129.0...   \n",
       "3  http://images.amazon.com/images/P/0374157065.0...   \n",
       "4  http://images.amazon.com/images/P/0393045218.0...   \n",
       "\n",
       "                                         Image-URL-L  \n",
       "0  http://images.amazon.com/images/P/0195153448.0...  \n",
       "1  http://images.amazon.com/images/P/0002005018.0...  \n",
       "2  http://images.amazon.com/images/P/0060973129.0...  \n",
       "3  http://images.amazon.com/images/P/0374157065.0...  \n",
       "4  http://images.amazon.com/images/P/0393045218.0...  "
      ]
     },
     "execution_count": 12,
     "metadata": {},
     "output_type": "execute_result"
    }
   ],
   "source": [
    "book_df = pd.read_csv('../data/Books.csv')\n",
    "book_df.head()"
   ]
  },
  {
   "cell_type": "code",
   "execution_count": 13,
   "id": "223ec7ee-8789-4bbb-84aa-6f85fee5cc40",
   "metadata": {},
   "outputs": [
    {
     "name": "stdout",
     "output_type": "stream",
     "text": [
      "レコード数: 271360\n"
     ]
    }
   ],
   "source": [
    "print(f\"レコード数: {len(book_df)}\")"
   ]
  },
  {
   "cell_type": "code",
   "execution_count": 14,
   "id": "e3472ad4-5415-41c2-ae40-d483ab736a8f",
   "metadata": {},
   "outputs": [
    {
     "data": {
      "text/plain": [
       "Book-Title\n",
       "Selected Poems                             27\n",
       "Little Women                               24\n",
       "Wuthering Heights                          21\n",
       "Dracula                                    20\n",
       "Adventures of Huckleberry Finn             20\n",
       "                                           ..\n",
       "Hinds Feet On High Places                   1\n",
       "Hinds Feet on High Places                   1\n",
       "Hinds Feet on High Places Women             1\n",
       "Hindsight: A Novel of the Class of 1972     1\n",
       "Ã?Â?thique en toc                           1\n",
       "Length: 242135, dtype: int64"
      ]
     },
     "execution_count": 14,
     "metadata": {},
     "output_type": "execute_result"
    }
   ],
   "source": [
    "# 同じ名前の本があるという紛らわしいこと\n",
    "book_df.groupby('Book-Title').size().sort_values(ascending=False)"
   ]
  },
  {
   "cell_type": "code",
   "execution_count": 15,
   "id": "36176ed2-dfb0-496a-9c5a-0ce12d51910d",
   "metadata": {},
   "outputs": [
    {
     "data": {
      "text/plain": [
       "Year-Of-Publication\n",
       "0                    3570\n",
       "1806                    1\n",
       "1900                    1\n",
       "1901                    7\n",
       "1902                    2\n",
       "                     ... \n",
       "2024                    1\n",
       "2030                    3\n",
       "2037                    1\n",
       "DK Publishing Inc       2\n",
       "Gallimard               1\n",
       "Length: 202, dtype: int64"
      ]
     },
     "execution_count": 15,
     "metadata": {},
     "output_type": "execute_result"
    }
   ],
   "source": [
    "book_df.groupby(\"Year-Of-Publication\").size()"
   ]
  },
  {
   "cell_type": "code",
   "execution_count": 16,
   "id": "ab280f04-6408-4ff3-b52c-29542ce97468",
   "metadata": {},
   "outputs": [
    {
     "data": {
      "text/plain": [
       "(1960.0, 2006.0)"
      ]
     },
     "execution_count": 16,
     "metadata": {},
     "output_type": "execute_result"
    },
    {
     "data": {
      "image/png": "[encoded data removed]",
      "text/plain": [
       "<Figure size 432x288 with 1 Axes>"
      ]
     },
     "metadata": {
      "needs_background": "light"
     },
     "output_type": "display_data"
    }
   ],
   "source": [
    "# 西暦ではない後ろの２つは、履歴と一緒にあとで消す、とする。0もどうにかする。\n",
    "import matplotlib.pyplot as plt\n",
    "import seaborn as sns; sns.set()\n",
    "#import japanize_matplotlib\n",
    "%matplotlib inline\n",
    "\n",
    "temp_df = book_df[(book_df[\"Year-Of-Publication\"]!=\"DK Publishing Inc\") & (book_df[\"Year-Of-Publication\"]!=\"Gallimard\")]\n",
    "temp_df = temp_df.astype({\"Year-Of-Publication\": int})\n",
    "temp_df = temp_df[temp_df[\"Year-Of-Publication\"]!=0]\n",
    "\n",
    "pub_dict = temp_df.groupby(\"Year-Of-Publication\").size().to_dict()\n",
    "\n",
    "sns.histplot(temp_df[\"Year-Of-Publication\"])\n",
    "plt.xlim(1960,2006)\n",
    "\n",
    "#figure, ax = plt.subplots()\n",
    "#x = pub_dict.keys()\n",
    "#y = pub_dict.values()\n",
    "\n",
    "#ax.hist(x,y, bins=10)\n",
    "#ax.set_xlim([1970,2005])\n",
    "#ax.set_title('年度ごとの本の出版数')\n",
    "#ax.set_xlabel('西暦')\n",
    "#ax.set_ylabel('出版数')\n",
    "                                               "
   ]
  },
  {
   "cell_type": "code",
   "execution_count": 17,
   "id": "d0693155-b778-4564-8d3b-30df268e4771",
   "metadata": {},
   "outputs": [],
   "source": [
    "# nullなauthorレコードは一件しかないのでdropする\n",
    "nan_author_index = book_df[book_df[\"Book-Author\"].isnull()].index\n",
    "book_df.drop(nan_author_index, inplace=True)"
   ]
  },
  {
   "cell_type": "code",
   "execution_count": 18,
   "id": "185726a0-5ae8-41ca-824f-e18596c950a9",
   "metadata": {},
   "outputs": [
    {
     "name": "stdout",
     "output_type": "stream",
     "text": [
      "著者の数: 102023\n"
     ]
    }
   ],
   "source": [
    "author_size = len(book_df.groupby('Book-Author').size())\n",
    "print(f\"著者の数: {author_size}\")"
   ]
  },
  {
   "cell_type": "code",
   "execution_count": 19,
   "id": "de3657bb-78e8-4f3a-a389-d52665737257",
   "metadata": {},
   "outputs": [
    {
     "data": {
      "text/plain": [
       "count    102023.000000\n",
       "mean          2.659783\n",
       "std           7.908872\n",
       "min           1.000000\n",
       "25%           1.000000\n",
       "50%           1.000000\n",
       "75%           2.000000\n",
       "max         632.000000\n",
       "dtype: float64"
      ]
     },
     "execution_count": 19,
     "metadata": {},
     "output_type": "execute_result"
    }
   ],
   "source": [
    "book_df.groupby('Book-Author').size().describe()"
   ]
  },
  {
   "cell_type": "code",
   "execution_count": 20,
   "id": "f26d8f6d-3ac5-453e-af34-3d0e6c97a797",
   "metadata": {},
   "outputs": [
    {
     "data": {
      "text/plain": [
       "Book-Author\n",
       "Agatha Christie        632\n",
       "William Shakespeare    567\n",
       "Stephen King           524\n",
       "Ann M. Martin          423\n",
       "Carolyn Keene          373\n",
       "Francine Pascal        372\n",
       "Isaac Asimov           330\n",
       "Nora Roberts           315\n",
       "Barbara Cartland       307\n",
       "Charles Dickens        302\n",
       "dtype: int64"
      ]
     },
     "execution_count": 20,
     "metadata": {},
     "output_type": "execute_result"
    }
   ],
   "source": [
    "# 最も本を出した著者トップ１０人\n",
    "book_df.groupby('Book-Author').size().sort_values(ascending=False)[:10]"
   ]
  },
  {
   "cell_type": "code",
   "execution_count": 21,
   "id": "250bcf0c-1ad7-45a1-bf95-96d0766fc453",
   "metadata": {},
   "outputs": [
    {
     "data": {
      "text/plain": [
       "Text(0.5, 1.0, '著者の出版数\\u3000箱ひげ図')"
      ]
     },
     "execution_count": 21,
     "metadata": {},
     "output_type": "execute_result"
    },
    {
     "data": {
      "image/png": "[encoded data removed]",
      "text/plain": [
       "<Figure size 432x288 with 1 Axes>"
      ]
     },
     "metadata": {
      "needs_background": "light"
     },
     "output_type": "display_data"
    }
   ],
   "source": [
    "publish_count_list = book_df.groupby('Book-Author').size().to_list()\n",
    "\n",
    "fig, ax = plt.subplots()\n",
    "\n",
    "ax.boxplot(publish_count_list, sym=\"\")\n",
    "ax.set_title('著者の出版数　箱ひげ図')"
   ]
  },
  {
   "cell_type": "code",
   "execution_count": 22,
   "id": "c6e0e949-6694-4bf4-aa9b-0effee6130b3",
   "metadata": {},
   "outputs": [
    {
     "data": {
      "text/plain": [
       "Text(0, 0.5, '著者の数')"
      ]
     },
     "execution_count": 22,
     "metadata": {},
     "output_type": "execute_result"
    },
    {
     "data": {
      "image/png": "[encoded data removed]",
      "text/plain": [
       "<Figure size 432x288 with 1 Axes>"
      ]
     },
     "metadata": {
      "needs_background": "light"
     },
     "output_type": "display_data"
    }
   ],
   "source": [
    "fig, ax = plt.subplots()\n",
    "ax.hist(x=publish_count_list, bins=1000)\n",
    "ax.set_xlim(0,15)\n",
    "ax.set_ylim(0,70000)\n",
    "ax.set_title('著者ごとの出版数(７割の著者は1回しか本を出していない)')\n",
    "ax.set_xlabel('本を出した回数')\n",
    "ax.set_ylabel('著者の数')\n"
   ]
  },
  {
   "cell_type": "code",
   "execution_count": 23,
   "id": "8c8e77ea-33e0-4ef6-92ac-6b65807aece8",
   "metadata": {},
   "outputs": [
    {
     "name": "stdout",
     "output_type": "stream",
     "text": [
      "出版社が不明の数: 2\n"
     ]
    }
   ],
   "source": [
    "nan_publisher_count = len(book_df[book_df[\"Publisher\"].isnull()])\n",
    "print(f'出版社が不明の数: {nan_publisher_count}')"
   ]
  },
  {
   "cell_type": "code",
   "execution_count": 24,
   "id": "ac5754da-624f-457d-b0bd-482417e9d75f",
   "metadata": {},
   "outputs": [],
   "source": [
    "# nanのレコードは落としておく\n",
    "nan_publisher_index_list = book_df[book_df[\"Publisher\"].isnull()].index\n",
    "book_df.drop(nan_publisher_index_list, inplace=True)"
   ]
  },
  {
   "cell_type": "code",
   "execution_count": 25,
   "id": "8c339bd5-c008-48ec-924e-07c6f6abd4e2",
   "metadata": {},
   "outputs": [
    {
     "name": "stdout",
     "output_type": "stream",
     "text": [
      "出版社数:　16806\n"
     ]
    }
   ],
   "source": [
    "publisher_count = len(book_df.groupby(\"Publisher\").size())\n",
    "print(f\"出版社数:　{publisher_count}\")"
   ]
  },
  {
   "cell_type": "code",
   "execution_count": 26,
   "id": "311f6805-fcb0-4986-9173-2bdf5b7b9647",
   "metadata": {},
   "outputs": [
    {
     "data": {
      "text/plain": [
       "Publisher\n",
       "Harlequin                   7535\n",
       "Silhouette                  4220\n",
       "Pocket                      3905\n",
       "Ballantine Books            3783\n",
       "Bantam Books                3646\n",
       "Scholastic                  3160\n",
       "Simon &amp; Schuster        2971\n",
       "Penguin Books               2844\n",
       "Berkley Publishing Group    2771\n",
       "Warner Books                2727\n",
       "dtype: int64"
      ]
     },
     "execution_count": 26,
     "metadata": {},
     "output_type": "execute_result"
    }
   ],
   "source": [
    "# 最も本を出した出版社トップ１０\n",
    "book_df.groupby(\"Publisher\").size().sort_values(ascending=False)[:10]"
   ]
  },
  {
   "cell_type": "code",
   "execution_count": 27,
   "id": "380a2a14-7def-45e6-b60d-e3c3b7428c02",
   "metadata": {},
   "outputs": [
    {
     "data": {
      "text/plain": [
       "count    16806.000000\n",
       "mean        16.146436\n",
       "std        127.884518\n",
       "min          1.000000\n",
       "25%          1.000000\n",
       "50%          1.000000\n",
       "75%          4.000000\n",
       "max       7535.000000\n",
       "dtype: float64"
      ]
     },
     "execution_count": 27,
     "metadata": {},
     "output_type": "execute_result"
    }
   ],
   "source": [
    "# 著者と同じくほとんどの出版社は4回しか本を出していない。大企業はごくわずか\n",
    "book_df.groupby(\"Publisher\").size().describe()"
   ]
  },
  {
   "cell_type": "code",
   "execution_count": 28,
   "id": "cf998e3e-c6c1-4276-a519-2f46a35d910e",
   "metadata": {},
   "outputs": [
    {
     "data": {
      "text/plain": [
       "Text(0, 0.5, '出版社の数')"
      ]
     },
     "execution_count": 28,
     "metadata": {},
     "output_type": "execute_result"
    },
    {
     "data": {
      "image/png": "[encoded data removed]",
      "text/plain": [
       "<Figure size 432x288 with 1 Axes>"
      ]
     },
     "metadata": {
      "needs_background": "light"
     },
     "output_type": "display_data"
    }
   ],
   "source": [
    "#大企業を分析\n",
    "publisher_count_list = book_df.groupby('Publisher').size().to_list()\n",
    "\n",
    "fig, ax = plt.subplots()\n",
    "ax.hist(x=publisher_count_list, bins=30)\n",
    "ax.set_xlim(0,8000)\n",
    "ax.set_ylim(0,100)\n",
    "ax.set_title('出版社ごとの出版数(７割の出版社は1~4回しか本を出していない)')\n",
    "ax.set_xlabel('本を出した回数')\n",
    "ax.set_ylabel('出版社の数')"
   ]
  },
  {
   "cell_type": "code",
   "execution_count": 29,
   "id": "440b39e1-32a9-45c4-90db-b29c8c2eca40",
   "metadata": {},
   "outputs": [
    {
     "data": {
      "text/html": [
       "<div>\n",
       "<style scoped>\n",
       "    .dataframe tbody tr th:only-of-type {\n",
       "        vertical-align: middle;\n",
       "    }\n",
       "\n",
       "    .dataframe tbody tr th {\n",
       "        vertical-align: top;\n",
       "    }\n",
       "\n",
       "    .dataframe thead th {\n",
       "        text-align: right;\n",
       "    }\n",
       "</style>\n",
       "<table border=\"1\" class=\"dataframe\">\n",
       "  <thead>\n",
       "    <tr style=\"text-align: right;\">\n",
       "      <th></th>\n",
       "      <th>User-ID</th>\n",
       "      <th>ISBN</th>\n",
       "      <th>Book-Rating</th>\n",
       "    </tr>\n",
       "  </thead>\n",
       "  <tbody>\n",
       "    <tr>\n",
       "      <th>0</th>\n",
       "      <td>276725</td>\n",
       "      <td>034545104X</td>\n",
       "      <td>0</td>\n",
       "    </tr>\n",
       "    <tr>\n",
       "      <th>1</th>\n",
       "      <td>276726</td>\n",
       "      <td>0155061224</td>\n",
       "      <td>5</td>\n",
       "    </tr>\n",
       "    <tr>\n",
       "      <th>2</th>\n",
       "      <td>276727</td>\n",
       "      <td>0446520802</td>\n",
       "      <td>0</td>\n",
       "    </tr>\n",
       "    <tr>\n",
       "      <th>3</th>\n",
       "      <td>276729</td>\n",
       "      <td>052165615X</td>\n",
       "      <td>3</td>\n",
       "    </tr>\n",
       "    <tr>\n",
       "      <th>4</th>\n",
       "      <td>276729</td>\n",
       "      <td>0521795028</td>\n",
       "      <td>6</td>\n",
       "    </tr>\n",
       "  </tbody>\n",
       "</table>\n",
       "</div>"
      ],
      "text/plain": [
       "   User-ID        ISBN  Book-Rating\n",
       "0   276725  034545104X            0\n",
       "1   276726  0155061224            5\n",
       "2   276727  0446520802            0\n",
       "3   276729  052165615X            3\n",
       "4   276729  0521795028            6"
      ]
     },
     "execution_count": 29,
     "metadata": {},
     "output_type": "execute_result"
    }
   ],
   "source": [
    "rating_df = pd.read_csv('../data/Ratings.csv')\n",
    "rating_df.head()"
   ]
  },
  {
   "cell_type": "code",
   "execution_count": 30,
   "id": "766294fc-3b91-493d-a99f-26ddbcb63fec",
   "metadata": {},
   "outputs": [],
   "source": [
    "# 存在しないISBNがあるのでdrop\n",
    "dosent_k = list(rating_df.groupby('ISBN').size().sort_values(ascending=False)[-1:].to_dict().keys())[0]\n",
    "drop_index = rating_df[rating_df[\"ISBN\"]==dosent_k].index\n",
    "rating_df.drop(drop_index, inplace=True)\n",
    "\n"
   ]
  },
  {
   "cell_type": "code",
   "execution_count": 31,
   "id": "342226a6-8f96-4263-8647-368255d8dad3",
   "metadata": {},
   "outputs": [
    {
     "data": {
      "text/plain": [
       "271357"
      ]
     },
     "execution_count": 31,
     "metadata": {},
     "output_type": "execute_result"
    }
   ],
   "source": [
    "len(book_df[\"ISBN\"].unique())"
   ]
  },
  {
   "cell_type": "code",
   "execution_count": 32,
   "id": "0d6e4844-91e6-4c0e-b267-44c56bed4b8d",
   "metadata": {},
   "outputs": [
    {
     "data": {
      "text/plain": [
       "340555"
      ]
     },
     "execution_count": 32,
     "metadata": {},
     "output_type": "execute_result"
    }
   ],
   "source": [
    "len(rating_df[\"ISBN\"].unique())"
   ]
  },
  {
   "cell_type": "code",
   "execution_count": 33,
   "id": "c7cf33cc-5556-461a-8651-221508839107",
   "metadata": {},
   "outputs": [
    {
     "name": "stdout",
     "output_type": "stream",
     "text": [
      "book_dfにはないISBNがrating_dfにある数: 70407\n"
     ]
    }
   ],
   "source": [
    "# 登録されている本のうち、評価されたことのある本の割合がおかしくなる原因\n",
    "rating_isbn = set(rating_df[\"ISBN\"].unique())\n",
    "book_isbn = set(book_df[\"ISBN\"].to_list())\n",
    "diff_isbn = list(rating_isbn.difference(book_isbn))\n",
    "print(f\"book_dfにはないISBNがrating_dfにある数: {len(diff_isbn)}\")\n"
   ]
  },
  {
   "cell_type": "code",
   "execution_count": 34,
   "id": "873dfd23-c732-42c5-9c2f-c9011ba5beee",
   "metadata": {},
   "outputs": [],
   "source": [
    "#廃番になった本が履歴に混ざっていると見当がつく。強調系のtrainデータとしては使えるのでとりあえず残しておく"
   ]
  },
  {
   "cell_type": "code",
   "execution_count": 35,
   "id": "b272c3e9-bb3e-4bbc-840b-e1850d13a30f",
   "metadata": {},
   "outputs": [
    {
     "name": "stdout",
     "output_type": "stream",
     "text": [
      "レコード数: 1149779\n",
      "評価したユーザー数: 105283\n",
      "評価されたアイテム数: 340555\n",
      "----------------------------------------------\n",
      "登録されているユーザのうち、評価をしたことがあるユーザの割合: 0.38\n",
      "登録されている本のうち、評価されたことのある本の割合: 1.26\n"
     ]
    }
   ],
   "source": [
    "print(f'レコード数: {len(rating_df)}')\n",
    "print(f'評価したユーザー数: {len(rating_df[\"User-ID\"].unique())}')\n",
    "print(f'評価されたアイテム数: {len(rating_df[\"ISBN\"].unique())}')\n",
    "print('----------------------------------------------')\n",
    "print(f'登録されているユーザのうち、評価をしたことがあるユーザの割合: {len(rating_df[\"User-ID\"].unique())/len(user_df):.2f}')\n",
    "print(f'登録されている本のうち、評価されたことのある本の割合: {len(rating_df[\"ISBN\"].unique())/len(book_df):.2f}')\n"
   ]
  },
  {
   "cell_type": "code",
   "execution_count": 36,
   "id": "d807b9b2-7684-4cc5-9b56-03512156a319",
   "metadata": {},
   "outputs": [
    {
     "data": {
      "text/html": [
       "<div>\n",
       "<style scoped>\n",
       "    .dataframe tbody tr th:only-of-type {\n",
       "        vertical-align: middle;\n",
       "    }\n",
       "\n",
       "    .dataframe tbody tr th {\n",
       "        vertical-align: top;\n",
       "    }\n",
       "\n",
       "    .dataframe thead th {\n",
       "        text-align: right;\n",
       "    }\n",
       "</style>\n",
       "<table border=\"1\" class=\"dataframe\">\n",
       "  <thead>\n",
       "    <tr style=\"text-align: right;\">\n",
       "      <th></th>\n",
       "      <th>User-ID</th>\n",
       "      <th>ISBN</th>\n",
       "      <th>Book-Rating</th>\n",
       "    </tr>\n",
       "  </thead>\n",
       "  <tbody>\n",
       "  </tbody>\n",
       "</table>\n",
       "</div>"
      ],
      "text/plain": [
       "Empty DataFrame\n",
       "Columns: [User-ID, ISBN, Book-Rating]\n",
       "Index: []"
      ]
     },
     "execution_count": 36,
     "metadata": {},
     "output_type": "execute_result"
    }
   ],
   "source": [
    "rating_df[rating_df[\"Book-Rating\"].isnull()]"
   ]
  },
  {
   "cell_type": "code",
   "execution_count": 37,
   "id": "c2a8ac2e-bdd5-48ba-be28-19a6bf9208f4",
   "metadata": {},
   "outputs": [
    {
     "name": "stdout",
     "output_type": "stream",
     "text": [
      "Implicit FeedBackの割合: 0.62\n"
     ]
    },
    {
     "data": {
      "text/plain": [
       "Text(0, 0.5, '数')"
      ]
     },
     "execution_count": 37,
     "metadata": {},
     "output_type": "execute_result"
    },
    {
     "data": {
      "image/png": "[encoded data removed]",
      "text/plain": [
       "<Figure size 432x288 with 1 Axes>"
      ]
     },
     "metadata": {
      "needs_background": "light"
     },
     "output_type": "display_data"
    }
   ],
   "source": [
    "rating_count_dict = rating_df.groupby('Book-Rating').size().to_dict()\n",
    "\n",
    "print(f'Implicit FeedBackの割合: {rating_count_dict[0]/len(rating_df):.2f}')\n",
    "\n",
    "fig, ax = plt.subplots()\n",
    "ax.bar(rating_count_dict.keys(), rating_count_dict.values())\n",
    "ax.set_title('評価値の分布')\n",
    "ax.set_xlabel('評価値')\n",
    "ax.set_ylabel('数')"
   ]
  },
  {
   "cell_type": "code",
   "execution_count": 38,
   "id": "89292d4b-349c-4310-8a43-32d957852021",
   "metadata": {},
   "outputs": [],
   "source": [
    "# implicitとexplicitを分けて考える必要がある\n",
    "# implicit(評価値0)はclickなのか、nanがアノテーションされたのか、後で調査"
   ]
  },
  {
   "cell_type": "code",
   "execution_count": 39,
   "id": "6c8202a5-a3d9-4726-8f40-6e2e779e4328",
   "metadata": {},
   "outputs": [
    {
     "data": {
      "text/plain": [
       "Text(0.5, 1.0, 'explicit feedback確率変数に従う離散分布')"
      ]
     },
     "execution_count": 39,
     "metadata": {},
     "output_type": "execute_result"
    },
    {
     "data": {
      "image/png": "[encoded data removed]",
      "text/plain": [
       "<Figure size 432x288 with 2 Axes>"
      ]
     },
     "metadata": {
      "needs_background": "light"
     },
     "output_type": "display_data"
    }
   ],
   "source": [
    "explicit_list = rating_df[rating_df[\"Book-Rating\"]!=0][\"Book-Rating\"].to_list()\n",
    "fig = plt.figure()\n",
    "fig.subplots_adjust(hspace=0.6, wspace=0.4)\n",
    "\n",
    "ax1 = fig.add_subplot(2, 1, 1)\n",
    "ax2 = fig.add_subplot(2, 1, 2)\n",
    "\n",
    "ax1.boxplot(explicit_list, vert=False)\n",
    "ax2.hist(explicit_list, density=True, rwidth=0.8)\n",
    "ax2.set_xlabel('評価値')\n",
    "ax2.set_ylabel('評価値に従う確率')\n",
    "ax2.set_title('explicit feedback確率変数に従う離散分布')"
   ]
  },
  {
   "cell_type": "code",
   "execution_count": 40,
   "id": "a876487e-fe96-4782-9346-e0833bf551a4",
   "metadata": {},
   "outputs": [],
   "source": [
    "# ユーザが能動的に評価値を与えるときは高いスコアをつける傾向がある。"
   ]
  },
  {
   "cell_type": "code",
   "execution_count": 41,
   "id": "a25e9997-39ca-480e-be73-456ccba3c528",
   "metadata": {},
   "outputs": [
    {
     "data": {
      "text/html": [
       "<div>\n",
       "<style scoped>\n",
       "    .dataframe tbody tr th:only-of-type {\n",
       "        vertical-align: middle;\n",
       "    }\n",
       "\n",
       "    .dataframe tbody tr th {\n",
       "        vertical-align: top;\n",
       "    }\n",
       "\n",
       "    .dataframe thead th {\n",
       "        text-align: right;\n",
       "    }\n",
       "</style>\n",
       "<table border=\"1\" class=\"dataframe\">\n",
       "  <thead>\n",
       "    <tr style=\"text-align: right;\">\n",
       "      <th></th>\n",
       "      <th>User-ID</th>\n",
       "      <th>ISBN</th>\n",
       "      <th>Book-Rating</th>\n",
       "      <th>Age</th>\n",
       "      <th>city</th>\n",
       "      <th>state</th>\n",
       "      <th>country</th>\n",
       "      <th>Book-Title</th>\n",
       "      <th>Book-Author</th>\n",
       "      <th>Year-Of-Publication</th>\n",
       "      <th>Publisher</th>\n",
       "      <th>Image-URL-S</th>\n",
       "      <th>Image-URL-M</th>\n",
       "      <th>Image-URL-L</th>\n",
       "    </tr>\n",
       "  </thead>\n",
       "  <tbody>\n",
       "    <tr>\n",
       "      <th>0</th>\n",
       "      <td>67544</td>\n",
       "      <td>0002005018</td>\n",
       "      <td>8.0</td>\n",
       "      <td>30.0</td>\n",
       "      <td>toronto</td>\n",
       "      <td>ontario</td>\n",
       "      <td>canada</td>\n",
       "      <td>Clara Callan</td>\n",
       "      <td>Richard Bruce Wright</td>\n",
       "      <td>2001</td>\n",
       "      <td>HarperFlamingo Canada</td>\n",
       "      <td>http://images.amazon.com/images/P/0002005018.0...</td>\n",
       "      <td>http://images.amazon.com/images/P/0002005018.0...</td>\n",
       "      <td>http://images.amazon.com/images/P/0002005018.0...</td>\n",
       "    </tr>\n",
       "    <tr>\n",
       "      <th>1</th>\n",
       "      <td>219008</td>\n",
       "      <td>0002005018</td>\n",
       "      <td>7.0</td>\n",
       "      <td>60.0</td>\n",
       "      <td>halifax</td>\n",
       "      <td>nova scotia</td>\n",
       "      <td>canada</td>\n",
       "      <td>Clara Callan</td>\n",
       "      <td>Richard Bruce Wright</td>\n",
       "      <td>2001</td>\n",
       "      <td>HarperFlamingo Canada</td>\n",
       "      <td>http://images.amazon.com/images/P/0002005018.0...</td>\n",
       "      <td>http://images.amazon.com/images/P/0002005018.0...</td>\n",
       "      <td>http://images.amazon.com/images/P/0002005018.0...</td>\n",
       "    </tr>\n",
       "    <tr>\n",
       "      <th>2</th>\n",
       "      <td>263325</td>\n",
       "      <td>0002005018</td>\n",
       "      <td>6.0</td>\n",
       "      <td>27.0</td>\n",
       "      <td>fredericton</td>\n",
       "      <td>new brunswick</td>\n",
       "      <td>canada</td>\n",
       "      <td>Clara Callan</td>\n",
       "      <td>Richard Bruce Wright</td>\n",
       "      <td>2001</td>\n",
       "      <td>HarperFlamingo Canada</td>\n",
       "      <td>http://images.amazon.com/images/P/0002005018.0...</td>\n",
       "      <td>http://images.amazon.com/images/P/0002005018.0...</td>\n",
       "      <td>http://images.amazon.com/images/P/0002005018.0...</td>\n",
       "    </tr>\n",
       "    <tr>\n",
       "      <th>3</th>\n",
       "      <td>2954</td>\n",
       "      <td>0060973129</td>\n",
       "      <td>8.0</td>\n",
       "      <td>71.0</td>\n",
       "      <td>wichita</td>\n",
       "      <td>kansas</td>\n",
       "      <td>usa</td>\n",
       "      <td>Decision in Normandy</td>\n",
       "      <td>Carlo D'Este</td>\n",
       "      <td>1991</td>\n",
       "      <td>HarperPerennial</td>\n",
       "      <td>http://images.amazon.com/images/P/0060973129.0...</td>\n",
       "      <td>http://images.amazon.com/images/P/0060973129.0...</td>\n",
       "      <td>http://images.amazon.com/images/P/0060973129.0...</td>\n",
       "    </tr>\n",
       "    <tr>\n",
       "      <th>4</th>\n",
       "      <td>152827</td>\n",
       "      <td>0060973129</td>\n",
       "      <td>7.0</td>\n",
       "      <td>40.0</td>\n",
       "      <td>ottawa</td>\n",
       "      <td>ontario</td>\n",
       "      <td>canada</td>\n",
       "      <td>Decision in Normandy</td>\n",
       "      <td>Carlo D'Este</td>\n",
       "      <td>1991</td>\n",
       "      <td>HarperPerennial</td>\n",
       "      <td>http://images.amazon.com/images/P/0060973129.0...</td>\n",
       "      <td>http://images.amazon.com/images/P/0060973129.0...</td>\n",
       "      <td>http://images.amazon.com/images/P/0060973129.0...</td>\n",
       "    </tr>\n",
       "  </tbody>\n",
       "</table>\n",
       "</div>"
      ],
      "text/plain": [
       "   User-ID        ISBN  Book-Rating   Age         city          state country  \\\n",
       "0    67544  0002005018          8.0  30.0      toronto        ontario  canada   \n",
       "1   219008  0002005018          7.0  60.0      halifax    nova scotia  canada   \n",
       "2   263325  0002005018          6.0  27.0  fredericton  new brunswick  canada   \n",
       "3     2954  0060973129          8.0  71.0      wichita         kansas     usa   \n",
       "4   152827  0060973129          7.0  40.0       ottawa        ontario  canada   \n",
       "\n",
       "             Book-Title           Book-Author Year-Of-Publication  \\\n",
       "0          Clara Callan  Richard Bruce Wright                2001   \n",
       "1          Clara Callan  Richard Bruce Wright                2001   \n",
       "2          Clara Callan  Richard Bruce Wright                2001   \n",
       "3  Decision in Normandy          Carlo D'Este                1991   \n",
       "4  Decision in Normandy          Carlo D'Este                1991   \n",
       "\n",
       "               Publisher                                        Image-URL-S  \\\n",
       "0  HarperFlamingo Canada  http://images.amazon.com/images/P/0002005018.0...   \n",
       "1  HarperFlamingo Canada  http://images.amazon.com/images/P/0002005018.0...   \n",
       "2  HarperFlamingo Canada  http://images.amazon.com/images/P/0002005018.0...   \n",
       "3        HarperPerennial  http://images.amazon.com/images/P/0060973129.0...   \n",
       "4        HarperPerennial  http://images.amazon.com/images/P/0060973129.0...   \n",
       "\n",
       "                                         Image-URL-M  \\\n",
       "0  http://images.amazon.com/images/P/0002005018.0...   \n",
       "1  http://images.amazon.com/images/P/0002005018.0...   \n",
       "2  http://images.amazon.com/images/P/0002005018.0...   \n",
       "3  http://images.amazon.com/images/P/0060973129.0...   \n",
       "4  http://images.amazon.com/images/P/0060973129.0...   \n",
       "\n",
       "                                         Image-URL-L  \n",
       "0  http://images.amazon.com/images/P/0002005018.0...  \n",
       "1  http://images.amazon.com/images/P/0002005018.0...  \n",
       "2  http://images.amazon.com/images/P/0002005018.0...  \n",
       "3  http://images.amazon.com/images/P/0060973129.0...  \n",
       "4  http://images.amazon.com/images/P/0060973129.0...  "
      ]
     },
     "execution_count": 41,
     "metadata": {},
     "output_type": "execute_result"
    }
   ],
   "source": [
    "# user, bookの情報を加えてexplicit feedbackを分析してみる。\n",
    "# 廃番になったとされる本とuser_dfでnanがあるレコードはとりあえず省く\n",
    "# Ageが100以降のレコードもdrop\n",
    "\n",
    "# yearがおかしいレコードも評価がないので落とす\n",
    "\n",
    "\n",
    "df = pd.merge(rating_df, user_df, on=\"User-ID\")\n",
    "df = pd.merge(df, book_df, on=\"ISBN\", how=\"right\")\n",
    "df = df[(~df[\"Age\"].isnull()) & (df[\"Age\"] < 100)]\n",
    "df = df[(df[\"city\"]!=\"n/a\") & (df[\"state\"]!=\"n/a\") & (df[\"country\"]!=\"n/a\")]\n",
    "\n",
    "df = df[df[\"Year-Of-Publication\"]!=\"Gallimard\"]\n",
    "\n",
    "df = df.astype({\"User-ID\": np.int64})\n",
    "explicit_df = df[df[\"Book-Rating\"]!=0].reset_index(drop=True)\n",
    "\n",
    "explicit_df.head()"
   ]
  },
  {
   "cell_type": "code",
   "execution_count": 42,
   "id": "34c3c164-74d5-4abb-b332-35183ed92940",
   "metadata": {},
   "outputs": [
    {
     "data": {
      "text/plain": [
       "8.0"
      ]
     },
     "execution_count": 42,
     "metadata": {},
     "output_type": "execute_result"
    }
   ],
   "source": [
    "np.median(explicit_df.groupby(\"ISBN\")[\"Book-Rating\"].median())"
   ]
  },
  {
   "cell_type": "code",
   "execution_count": 43,
   "id": "9743f2c8-ad25-4cc2-b139-c57096e392e4",
   "metadata": {},
   "outputs": [],
   "source": [
    "# 国数が膨大すぎるので、英語圏だけに絞ってレコメンドしたい（英語のわからない日本人に英語の本をオススメしてもしょうがないから）"
   ]
  },
  {
   "cell_type": "code",
   "execution_count": 45,
   "id": "108ac2f5-f3ac-49c1-9343-2b520b08e905",
   "metadata": {},
   "outputs": [],
   "source": [
    "explicit_df[explicit_df[\"country\"]==\"usa\"].reset_index(drop=True).to_csv('../data/explicit_usa.csv')"
   ]
  },
  {
   "cell_type": "code",
   "execution_count": null,
   "id": "507b0ba4-6afc-4034-b868-0e075f3a8be8",
   "metadata": {},
   "outputs": [],
   "source": []
  }
 ],
 "metadata": {
  "kernelspec": {
   "display_name": "Python 3 (ipykernel)",
   "language": "python",
   "name": "python3"
  },
  "language_info": {
   "codemirror_mode": {
    "name": "ipython",
    "version": 3
   },
   "file_extension": ".py",
   "mimetype": "text/x-python",
   "name": "python",
   "nbconvert_exporter": "python",
   "pygments_lexer": "ipython3",
   "version": "3.7.8"
  }
 },
 "nbformat": 4,
 "nbformat_minor": 5
}
