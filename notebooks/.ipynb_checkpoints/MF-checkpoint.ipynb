{
 "cells": [
  {
   "cell_type": "code",
   "execution_count": 1,
   "id": "d7746427-0ff5-4c09-8aa6-2acbcbf3e315",
   "metadata": {},
   "outputs": [
    {
     "data": {
      "text/html": [
       "<div>\n",
       "<style scoped>\n",
       "    .dataframe tbody tr th:only-of-type {\n",
       "        vertical-align: middle;\n",
       "    }\n",
       "\n",
       "    .dataframe tbody tr th {\n",
       "        vertical-align: top;\n",
       "    }\n",
       "\n",
       "    .dataframe thead th {\n",
       "        text-align: right;\n",
       "    }\n",
       "</style>\n",
       "<table border=\"1\" class=\"dataframe\">\n",
       "  <thead>\n",
       "    <tr style=\"text-align: right;\">\n",
       "      <th></th>\n",
       "      <th>user_id</th>\n",
       "      <th>book_id</th>\n",
       "      <th>book_rating</th>\n",
       "    </tr>\n",
       "  </thead>\n",
       "  <tbody>\n",
       "    <tr>\n",
       "      <th>0</th>\n",
       "      <td>2954</td>\n",
       "      <td>0060973129</td>\n",
       "      <td>8.0</td>\n",
       "    </tr>\n",
       "    <tr>\n",
       "      <th>1</th>\n",
       "      <td>35704</td>\n",
       "      <td>0374157065</td>\n",
       "      <td>6.0</td>\n",
       "    </tr>\n",
       "    <tr>\n",
       "      <th>2</th>\n",
       "      <td>110912</td>\n",
       "      <td>0374157065</td>\n",
       "      <td>10.0</td>\n",
       "    </tr>\n",
       "    <tr>\n",
       "      <th>3</th>\n",
       "      <td>157969</td>\n",
       "      <td>0374157065</td>\n",
       "      <td>8.0</td>\n",
       "    </tr>\n",
       "    <tr>\n",
       "      <th>4</th>\n",
       "      <td>192665</td>\n",
       "      <td>0374157065</td>\n",
       "      <td>8.0</td>\n",
       "    </tr>\n",
       "  </tbody>\n",
       "</table>\n",
       "</div>"
      ],
      "text/plain": [
       "   user_id     book_id  book_rating\n",
       "0     2954  0060973129          8.0\n",
       "1    35704  0374157065          6.0\n",
       "2   110912  0374157065         10.0\n",
       "3   157969  0374157065          8.0\n",
       "4   192665  0374157065          8.0"
      ]
     },
     "execution_count": 1,
     "metadata": {},
     "output_type": "execute_result"
    }
   ],
   "source": [
    "import pandas as pd\n",
    "import sys;sys.path.append('..')\n",
    "import warnings; warnings.simplefilter(\"ignore\")\n",
    "from surprise import SVD, Reader, Dataset\n",
    "from collections import defaultdict\n",
    "import numpy as np\n",
    "import joblib\n",
    "\n",
    "df = joblib.load('../data/explicit.pkl')\n",
    "df = df[[\"user_id\", \"book_id\", \"book_rating\"]]\n",
    "df.head()"
   ]
  },
  {
   "cell_type": "code",
   "execution_count": 2,
   "id": "47cc9c5e-bfc2-4ace-9219-9f45ddd7ed68",
   "metadata": {},
   "outputs": [
    {
     "name": "stdout",
     "output_type": "stream",
     "text": [
      "splitは46.47秒かかりました\n"
     ]
    }
   ],
   "source": [
    "from util.train_test_split import split\n",
    "\n",
    "train_df, test_df, user_df, book_df, rating_df = split(df=df)"
   ]
  },
  {
   "cell_type": "code",
   "execution_count": 3,
   "id": "b2cb8e6a-eaed-4bda-baf1-289cada909df",
   "metadata": {},
   "outputs": [],
   "source": [
    "del df"
   ]
  },
  {
   "cell_type": "code",
   "execution_count": 4,
   "id": "ad538c3c-fcab-4bbb-ba94-984219f92cdb",
   "metadata": {},
   "outputs": [
    {
     "name": "stdout",
     "output_type": "stream",
     "text": [
      "trainデータサイズ：　20194\n",
      "testデータサイズ：　2286\n"
     ]
    }
   ],
   "source": [
    "print(f\"trainデータサイズ：　{len(train_df)}\")\n",
    "print(f\"testデータサイズ：　{len(test_df)}\")"
   ]
  },
  {
   "cell_type": "code",
   "execution_count": 5,
   "id": "ae468c96-5b22-432c-9c13-d98b0395aa6a",
   "metadata": {},
   "outputs": [],
   "source": [
    "# train, testデータで観測構造が違う状況を作る。\n",
    "#dummy_rating = np.random.randint(1, 11, len(test_df))\n",
    "#test_df[\"Book-Rating\"] = dummy_rating\n"
   ]
  },
  {
   "cell_type": "code",
   "execution_count": 6,
   "id": "5109258d-2eec-4dbc-bbd8-6354a2c5f3f2",
   "metadata": {},
   "outputs": [
    {
     "data": {
      "image/png": "[encoded data removed]",
      "text/plain": [
       "<Figure size 576x432 with 1 Axes>"
      ]
     },
     "metadata": {
      "needs_background": "light"
     },
     "output_type": "display_data"
    }
   ],
   "source": [
    "import matplotlib.pyplot as plt\n",
    "import seaborn as sns; sns.set()\n",
    "%matplotlib inline\n",
    "\n",
    "train_df[\"data\"] = \"train\"\n",
    "test_df[\"data\"] = \"test\"\n",
    "data_df = pd.concat([train_df, test_df])\n",
    "\n",
    "plt.subplots(1, figsize=(8,6))\n",
    "sns.histplot(\n",
    "    data_df, \n",
    "    x=\"book_rating\",  \n",
    "    stat=\"probability\", \n",
    "    discrete=True,\n",
    "    hue=\"data\",\n",
    "    multiple=\"dodge\",\n",
    "    common_norm=False,\n",
    ")\n",
    "\n",
    "plt.xlabel('Rating Values', fontdict=dict(size=20))\n",
    "plt.ylabel('Probability Mass', fontdict=dict(size=20))\n",
    "plt.tight_layout()\n",
    "plt.show()"
   ]
  },
  {
   "cell_type": "code",
   "execution_count": 7,
   "id": "84367446-1071-4ae6-977b-75422bff4879",
   "metadata": {},
   "outputs": [
    {
     "data": {
      "text/plain": [
       "array([0.3773398 , 1.52014035, 0.56600971, 0.98794421, 1.05126389,\n",
       "       0.85651589, 0.94507449, 1.02163129, 1.08775799, 1.01450128])"
      ]
     },
     "execution_count": 7,
     "metadata": {},
     "output_type": "execute_result"
    }
   ],
   "source": [
    "# 少量の完全ランダムな嗜好度合いデータを用いて傾向スコアを推定する [Schnbel16]\n",
    "numerator = np.unique(train_df[\"book_rating\"].values, return_counts=True)[1]\n",
    "numerator = numerator / numerator.sum() #P(R=r|O=1)の推定\n",
    "denominator = np.unique(test_df[\"book_rating\"].values, return_counts=True)[1]\n",
    "denominator = denominator / denominator.sum() #(擬似的に作った真の) P(R=r)\n",
    "numerator / denominator"
   ]
  },
  {
   "cell_type": "code",
   "execution_count": 8,
   "id": "f5a59b4e-3208-4382-b5fe-eb84461d57dd",
   "metadata": {},
   "outputs": [],
   "source": [
    "train_df.drop(columns='data', inplace=True)\n",
    "test_df.drop(columns='data', inplace=True)"
   ]
  },
  {
   "cell_type": "code",
   "execution_count": 9,
   "id": "051c35d8-85fd-4b98-adba-3f470c88ff62",
   "metadata": {},
   "outputs": [],
   "source": [
    "from src.MF import MF"
   ]
  },
  {
   "cell_type": "code",
   "execution_count": 10,
   "id": "f1bbacf0-893a-497c-baf6-9e0908ca6f52",
   "metadata": {},
   "outputs": [],
   "source": [
    "model = MF(train_df, test_df)"
   ]
  },
  {
   "cell_type": "code",
   "execution_count": 11,
   "id": "3f5c0505-8a99-4fea-a13f-c63c55c98cf9",
   "metadata": {},
   "outputs": [],
   "source": [
    "#model.set_params(n_epochs=100, n_factors=300, reg_all=2.0)\n",
    "#model.cross_validation(k=2)"
   ]
  },
  {
   "cell_type": "code",
   "execution_count": 12,
   "id": "73cd2a13-a50c-4f71-8251-86be619408d9",
   "metadata": {},
   "outputs": [],
   "source": [
    "#model.kfold_score"
   ]
  },
  {
   "cell_type": "code",
   "execution_count": 34,
   "id": "f840d104-1cc9-4a0b-b289-eed5d46fa05b",
   "metadata": {},
   "outputs": [
    {
     "name": "stdout",
     "output_type": "stream",
     "text": [
      "testは146.05秒かかりました\n"
     ]
    }
   ],
   "source": [
    "model.set_params(lr_all=0.00001, reg_all=0.00001, n_factors=250, n_epochs=100)\n",
    "model.test()"
   ]
  },
  {
   "cell_type": "code",
   "execution_count": 35,
   "id": "a0a23bb9-acbb-42c9-99d6-932cf79deb64",
   "metadata": {},
   "outputs": [
    {
     "data": {
      "text/html": [
       "<div>\n",
       "<style scoped>\n",
       "    .dataframe tbody tr th:only-of-type {\n",
       "        vertical-align: middle;\n",
       "    }\n",
       "\n",
       "    .dataframe tbody tr th {\n",
       "        vertical-align: top;\n",
       "    }\n",
       "\n",
       "    .dataframe thead th {\n",
       "        text-align: right;\n",
       "    }\n",
       "</style>\n",
       "<table border=\"1\" class=\"dataframe\">\n",
       "  <thead>\n",
       "    <tr style=\"text-align: right;\">\n",
       "      <th></th>\n",
       "      <th>precision</th>\n",
       "      <th>recall</th>\n",
       "      <th>RMSE</th>\n",
       "    </tr>\n",
       "  </thead>\n",
       "  <tbody>\n",
       "    <tr>\n",
       "      <th>1</th>\n",
       "      <td>0.55</td>\n",
       "      <td>0.55</td>\n",
       "      <td>1.82</td>\n",
       "    </tr>\n",
       "  </tbody>\n",
       "</table>\n",
       "</div>"
      ],
      "text/plain": [
       "   precision  recall  RMSE\n",
       "1       0.55    0.55  1.82"
      ]
     },
     "execution_count": 35,
     "metadata": {},
     "output_type": "execute_result"
    }
   ],
   "source": [
    "model.test_score"
   ]
  },
  {
   "cell_type": "code",
   "execution_count": 36,
   "id": "7f1a8e76-3330-4517-acb6-e5c828c080c4",
   "metadata": {},
   "outputs": [
    {
     "name": "stdout",
     "output_type": "stream",
     "text": [
      "for文のタイム: 12.20秒\n",
      "recommendは136.36秒かかりました\n"
     ]
    }
   ],
   "source": [
    "model.recommend()"
   ]
  },
  {
   "cell_type": "code",
   "execution_count": 37,
   "id": "06af019b-ba36-4002-b10e-5c3d3f462b7d",
   "metadata": {},
   "outputs": [],
   "source": [
    "user_df = model.reclist_to_csv(user_df)"
   ]
  },
  {
   "cell_type": "code",
   "execution_count": 38,
   "id": "cfb68f03-c27f-44ed-b2a5-1c4489c6667f",
   "metadata": {},
   "outputs": [
    {
     "name": "stdout",
     "output_type": "stream",
     "text": [
      "各ユーザにレコメンドされた本のユニーク数: 1117\n"
     ]
    },
    {
     "data": {
      "image/png": "[encoded data removed]",
      "text/plain": [
       "<Figure size 1440x360 with 2 Axes>"
      ]
     },
     "metadata": {},
     "output_type": "display_data"
    }
   ],
   "source": [
    "model.check_over_fit_model(user_df, rating_df)"
   ]
  },
  {
   "cell_type": "code",
   "execution_count": 39,
   "id": "6bc0a99e-cc44-46c3-871f-ebf8a9cf918b",
   "metadata": {},
   "outputs": [
    {
     "data": {
      "text/plain": [
       "['../data/mf-api.pkl']"
      ]
     },
     "execution_count": 39,
     "metadata": {},
     "output_type": "execute_result"
    }
   ],
   "source": [
    "#joblib.dump([user_df, book_df, rating_df], \"../data/mf-api.pkl\")"
   ]
  },
  {
   "cell_type": "code",
   "execution_count": 40,
   "id": "1ce2e571-1acb-42e9-816a-53d903e27218",
   "metadata": {},
   "outputs": [
    {
     "data": {
      "text/html": [
       "<div>\n",
       "<style scoped>\n",
       "    .dataframe tbody tr th:only-of-type {\n",
       "        vertical-align: middle;\n",
       "    }\n",
       "\n",
       "    .dataframe tbody tr th {\n",
       "        vertical-align: top;\n",
       "    }\n",
       "\n",
       "    .dataframe thead th {\n",
       "        text-align: right;\n",
       "    }\n",
       "</style>\n",
       "<table border=\"1\" class=\"dataframe\">\n",
       "  <thead>\n",
       "    <tr style=\"text-align: right;\">\n",
       "      <th></th>\n",
       "      <th>user_id</th>\n",
       "      <th>age</th>\n",
       "      <th>city</th>\n",
       "      <th>state</th>\n",
       "      <th>country</th>\n",
       "      <th>mf_recommend_item</th>\n",
       "    </tr>\n",
       "  </thead>\n",
       "  <tbody>\n",
       "    <tr>\n",
       "      <th>0</th>\n",
       "      <td>254</td>\n",
       "      <td>24.00</td>\n",
       "      <td>minneapolis</td>\n",
       "      <td>minnesota</td>\n",
       "      <td>usa</td>\n",
       "      <td>[0425141233, 067164257X, 0375706410, 006095802...</td>\n",
       "    </tr>\n",
       "    <tr>\n",
       "      <th>1</th>\n",
       "      <td>388</td>\n",
       "      <td>35.00</td>\n",
       "      <td>nashville</td>\n",
       "      <td>tennessee</td>\n",
       "      <td>usa</td>\n",
       "      <td>[0449219461, 0553801376, 0380820293, 034545920...</td>\n",
       "    </tr>\n",
       "    <tr>\n",
       "      <th>2</th>\n",
       "      <td>503</td>\n",
       "      <td>40.00</td>\n",
       "      <td>el centro</td>\n",
       "      <td>california</td>\n",
       "      <td>usa</td>\n",
       "      <td>[0064471063, 0553272535, 0842332278, 042514762...</td>\n",
       "    </tr>\n",
       "    <tr>\n",
       "      <th>3</th>\n",
       "      <td>638</td>\n",
       "      <td>20.00</td>\n",
       "      <td>san diego</td>\n",
       "      <td>california</td>\n",
       "      <td>usa</td>\n",
       "      <td>[0451191013, 0553582755, 0671741187, 045114293...</td>\n",
       "    </tr>\n",
       "    <tr>\n",
       "      <th>4</th>\n",
       "      <td>709</td>\n",
       "      <td>14.00</td>\n",
       "      <td>roanoke</td>\n",
       "      <td>virginia</td>\n",
       "      <td>usa</td>\n",
       "      <td>[0440111498, 0804106304, 0679735909, 074320604...</td>\n",
       "    </tr>\n",
       "    <tr>\n",
       "      <th>...</th>\n",
       "      <td>...</td>\n",
       "      <td>...</td>\n",
       "      <td>...</td>\n",
       "      <td>...</td>\n",
       "      <td>...</td>\n",
       "      <td>...</td>\n",
       "    </tr>\n",
       "    <tr>\n",
       "      <th>2092</th>\n",
       "      <td>278026</td>\n",
       "      <td>56.00</td>\n",
       "      <td>east orange</td>\n",
       "      <td>new jersey</td>\n",
       "      <td>usa</td>\n",
       "      <td>[042510107X, 0451191145, 0451163524, 155166530...</td>\n",
       "    </tr>\n",
       "    <tr>\n",
       "      <th>2093</th>\n",
       "      <td>278137</td>\n",
       "      <td>27.00</td>\n",
       "      <td>san antonio</td>\n",
       "      <td>texas</td>\n",
       "      <td>usa</td>\n",
       "      <td>[0446310786, 0553289411, 1400031354, 006091650...</td>\n",
       "    </tr>\n",
       "    <tr>\n",
       "      <th>2094</th>\n",
       "      <td>278188</td>\n",
       "      <td>34.00</td>\n",
       "      <td>lake george</td>\n",
       "      <td>new york</td>\n",
       "      <td>usa</td>\n",
       "      <td>[0446364800, 0385512104, 0515121843, 045226446...</td>\n",
       "    </tr>\n",
       "    <tr>\n",
       "      <th>2095</th>\n",
       "      <td>278356</td>\n",
       "      <td>57.00</td>\n",
       "      <td>lakeland</td>\n",
       "      <td>tennessee</td>\n",
       "      <td>usa</td>\n",
       "      <td>[0670835382, 0385497466, 0375725784, 006440055...</td>\n",
       "    </tr>\n",
       "    <tr>\n",
       "      <th>2096</th>\n",
       "      <td>278843</td>\n",
       "      <td>28.00</td>\n",
       "      <td>pismo beach</td>\n",
       "      <td>california</td>\n",
       "      <td>usa</td>\n",
       "      <td>[0804117683, 042513525X, 0805036504, 042517630...</td>\n",
       "    </tr>\n",
       "  </tbody>\n",
       "</table>\n",
       "<p>2097 rows × 6 columns</p>\n",
       "</div>"
      ],
      "text/plain": [
       "      user_id   age         city       state country  \\\n",
       "0         254 24.00  minneapolis   minnesota     usa   \n",
       "1         388 35.00    nashville   tennessee     usa   \n",
       "2         503 40.00    el centro  california     usa   \n",
       "3         638 20.00    san diego  california     usa   \n",
       "4         709 14.00      roanoke    virginia     usa   \n",
       "...       ...   ...          ...         ...     ...   \n",
       "2092   278026 56.00  east orange  new jersey     usa   \n",
       "2093   278137 27.00  san antonio       texas     usa   \n",
       "2094   278188 34.00  lake george    new york     usa   \n",
       "2095   278356 57.00     lakeland   tennessee     usa   \n",
       "2096   278843 28.00  pismo beach  california     usa   \n",
       "\n",
       "                                      mf_recommend_item  \n",
       "0     [0425141233, 067164257X, 0375706410, 006095802...  \n",
       "1     [0449219461, 0553801376, 0380820293, 034545920...  \n",
       "2     [0064471063, 0553272535, 0842332278, 042514762...  \n",
       "3     [0451191013, 0553582755, 0671741187, 045114293...  \n",
       "4     [0440111498, 0804106304, 0679735909, 074320604...  \n",
       "...                                                 ...  \n",
       "2092  [042510107X, 0451191145, 0451163524, 155166530...  \n",
       "2093  [0446310786, 0553289411, 1400031354, 006091650...  \n",
       "2094  [0446364800, 0385512104, 0515121843, 045226446...  \n",
       "2095  [0670835382, 0385497466, 0375725784, 006440055...  \n",
       "2096  [0804117683, 042513525X, 0805036504, 042517630...  \n",
       "\n",
       "[2097 rows x 6 columns]"
      ]
     },
     "execution_count": 40,
     "metadata": {},
     "output_type": "execute_result"
    }
   ],
   "source": [
    "user_df"
   ]
  },
  {
   "cell_type": "code",
   "execution_count": null,
   "id": "e7af0989-8dc9-4ed0-8791-6f726b28bbbe",
   "metadata": {},
   "outputs": [],
   "source": []
  }
 ],
 "metadata": {
  "kernelspec": {
   "display_name": "Python 3 (ipykernel)",
   "language": "python",
   "name": "python3"
  },
  "language_info": {
   "codemirror_mode": {
    "name": "ipython",
    "version": 3
   },
   "file_extension": ".py",
   "mimetype": "text/x-python",
   "name": "python",
   "nbconvert_exporter": "python",
   "pygments_lexer": "ipython3",
   "version": "3.7.8"
  }
 },
 "nbformat": 4,
 "nbformat_minor": 5
}
