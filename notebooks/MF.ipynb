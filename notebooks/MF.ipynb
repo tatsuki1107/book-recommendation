{
 "cells": [
  {
   "cell_type": "code",
   "execution_count": 1,
   "id": "d7746427-0ff5-4c09-8aa6-2acbcbf3e315",
   "metadata": {},
   "outputs": [
    {
     "data": {
      "text/html": [
       "<div>\n",
       "<style scoped>\n",
       "    .dataframe tbody tr th:only-of-type {\n",
       "        vertical-align: middle;\n",
       "    }\n",
       "\n",
       "    .dataframe tbody tr th {\n",
       "        vertical-align: top;\n",
       "    }\n",
       "\n",
       "    .dataframe thead th {\n",
       "        text-align: right;\n",
       "    }\n",
       "</style>\n",
       "<table border=\"1\" class=\"dataframe\">\n",
       "  <thead>\n",
       "    <tr style=\"text-align: right;\">\n",
       "      <th></th>\n",
       "      <th>User-ID</th>\n",
       "      <th>ISBN</th>\n",
       "      <th>Book-Rating</th>\n",
       "    </tr>\n",
       "  </thead>\n",
       "  <tbody>\n",
       "    <tr>\n",
       "      <th>0</th>\n",
       "      <td>2954</td>\n",
       "      <td>0060973129</td>\n",
       "      <td>8.0</td>\n",
       "    </tr>\n",
       "    <tr>\n",
       "      <th>1</th>\n",
       "      <td>35704</td>\n",
       "      <td>0374157065</td>\n",
       "      <td>6.0</td>\n",
       "    </tr>\n",
       "    <tr>\n",
       "      <th>2</th>\n",
       "      <td>110912</td>\n",
       "      <td>0374157065</td>\n",
       "      <td>10.0</td>\n",
       "    </tr>\n",
       "    <tr>\n",
       "      <th>3</th>\n",
       "      <td>157969</td>\n",
       "      <td>0374157065</td>\n",
       "      <td>8.0</td>\n",
       "    </tr>\n",
       "    <tr>\n",
       "      <th>4</th>\n",
       "      <td>192665</td>\n",
       "      <td>0374157065</td>\n",
       "      <td>8.0</td>\n",
       "    </tr>\n",
       "  </tbody>\n",
       "</table>\n",
       "</div>"
      ],
      "text/plain": [
       "   User-ID        ISBN  Book-Rating\n",
       "0     2954  0060973129          8.0\n",
       "1    35704  0374157065          6.0\n",
       "2   110912  0374157065         10.0\n",
       "3   157969  0374157065          8.0\n",
       "4   192665  0374157065          8.0"
      ]
     },
     "execution_count": 1,
     "metadata": {},
     "output_type": "execute_result"
    }
   ],
   "source": [
    "import pandas as pd\n",
    "import sys;sys.path.append('..')\n",
    "import warnings; warnings.simplefilter(\"ignore\")\n",
    "from surprise import SVD, Reader, Dataset\n",
    "from collections import defaultdict\n",
    "import numpy as np\n",
    "import joblib\n",
    "\n",
    "df = joblib.load('../data/explicit.pkl')\n",
    "df = df[[\"User-ID\", \"ISBN\", \"Book-Rating\"]]\n",
    "df.head()"
   ]
  },
  {
   "cell_type": "code",
   "execution_count": 2,
   "id": "47cc9c5e-bfc2-4ace-9219-9f45ddd7ed68",
   "metadata": {},
   "outputs": [
    {
     "name": "stdout",
     "output_type": "stream",
     "text": [
      "for文のタイム: 4.53\n",
      "splitは44.185秒かかりました\n"
     ]
    }
   ],
   "source": [
    "from util.train_test_split import split\n",
    "\n",
    "train_df, test_df = split(df=df)"
   ]
  },
  {
   "cell_type": "code",
   "execution_count": 3,
   "id": "b2cb8e6a-eaed-4bda-baf1-289cada909df",
   "metadata": {},
   "outputs": [],
   "source": [
    "#import joblib\n",
    "#joblib.dump([train_df, test_df, test_user_like_books], filename=\"../data/train_test_split.pkl\")\n",
    "#train_df, test_df, test_user_like_books = joblib.load(\"../data/train_test_split.pkl\")\n"
   ]
  },
  {
   "cell_type": "code",
   "execution_count": 4,
   "id": "ad538c3c-fcab-4bbb-ba94-984219f92cdb",
   "metadata": {},
   "outputs": [
    {
     "name": "stdout",
     "output_type": "stream",
     "text": [
      "trainデータサイズ：　20194\n",
      "testデータサイズ：　2286\n"
     ]
    }
   ],
   "source": [
    "print(f\"trainデータサイズ：　{len(train_df)}\")\n",
    "print(f\"testデータサイズ：　{len(test_df)}\")"
   ]
  },
  {
   "cell_type": "code",
   "execution_count": 5,
   "id": "ae468c96-5b22-432c-9c13-d98b0395aa6a",
   "metadata": {},
   "outputs": [],
   "source": [
    "# train, testデータで観測構造が違う状況を作る。\n",
    "#dummy_rating = np.random.randint(1, 11, len(test_df))\n",
    "#test_df[\"Book-Rating\"] = dummy_rating\n"
   ]
  },
  {
   "cell_type": "code",
   "execution_count": 6,
   "id": "5109258d-2eec-4dbc-bbd8-6354a2c5f3f2",
   "metadata": {},
   "outputs": [
    {
     "data": {
      "image/png": "[encoded data removed]",
      "text/plain": [
       "<Figure size 576x432 with 1 Axes>"
      ]
     },
     "metadata": {
      "needs_background": "light"
     },
     "output_type": "display_data"
    }
   ],
   "source": [
    "import matplotlib.pyplot as plt\n",
    "import seaborn as sns; sns.set()\n",
    "%matplotlib inline\n",
    "\n",
    "train_df[\"data\"] = \"train\"\n",
    "test_df[\"data\"] = \"test\"\n",
    "data_df = pd.concat([train_df, test_df])\n",
    "\n",
    "plt.subplots(1, figsize=(8,6))\n",
    "sns.histplot(\n",
    "    data_df, \n",
    "    x=\"Book-Rating\",  \n",
    "    stat=\"probability\", \n",
    "    discrete=True,\n",
    "    hue=\"data\",\n",
    "    multiple=\"dodge\",\n",
    "    common_norm=False,\n",
    ")\n",
    "\n",
    "plt.xlabel('Rating Values', fontdict=dict(size=20))\n",
    "plt.ylabel('Probability Mass', fontdict=dict(size=20))\n",
    "plt.tight_layout()\n",
    "plt.show()"
   ]
  },
  {
   "cell_type": "code",
   "execution_count": 7,
   "id": "84367446-1071-4ae6-977b-75422bff4879",
   "metadata": {},
   "outputs": [
    {
     "data": {
      "text/plain": [
       "array([0.3773398 , 1.52014035, 0.56600971, 0.98794421, 1.05126389,\n",
       "       0.85651589, 0.94507449, 1.02163129, 1.08775799, 1.01450128])"
      ]
     },
     "execution_count": 7,
     "metadata": {},
     "output_type": "execute_result"
    }
   ],
   "source": [
    "# 少量の完全ランダムな嗜好度合いデータを用いて傾向スコアを推定する [Schnbel16]\n",
    "numerator = np.unique(train_df[\"Book-Rating\"].values, return_counts=True)[1]\n",
    "numerator = numerator / numerator.sum() #P(R=r|O=1)の推定\n",
    "denominator = np.unique(test_df[\"Book-Rating\"].values, return_counts=True)[1]\n",
    "denominator = denominator / denominator.sum() #(擬似的に作った真の) P(R=r)\n",
    "numerator / denominator"
   ]
  },
  {
   "cell_type": "code",
   "execution_count": 8,
   "id": "f5a59b4e-3208-4382-b5fe-eb84461d57dd",
   "metadata": {},
   "outputs": [],
   "source": [
    "train_df.drop(columns='data', inplace=True)\n",
    "test_df.drop(columns='data', inplace=True)"
   ]
  },
  {
   "cell_type": "code",
   "execution_count": null,
   "id": "051c35d8-85fd-4b98-adba-3f470c88ff62",
   "metadata": {},
   "outputs": [],
   "source": [
    "from MF import MF"
   ]
  },
  {
   "cell_type": "code",
   "execution_count": 14,
   "id": "f1bbacf0-893a-497c-baf6-9e0908ca6f52",
   "metadata": {},
   "outputs": [
    {
     "name": "stdout",
     "output_type": "stream",
     "text": [
      "_precision_recall_at_kは0.119秒かかりました\n",
      "testは236.836秒かかりました\n"
     ]
    }
   ],
   "source": [
    "model = MF(train_df, test_df)\n",
    "model.set_params()\n",
    "model.test()"
   ]
  },
  {
   "cell_type": "code",
   "execution_count": 15,
   "id": "73cd2a13-a50c-4f71-8251-86be619408d9",
   "metadata": {},
   "outputs": [
    {
     "data": {
      "text/html": [
       "<div>\n",
       "<style scoped>\n",
       "    .dataframe tbody tr th:only-of-type {\n",
       "        vertical-align: middle;\n",
       "    }\n",
       "\n",
       "    .dataframe tbody tr th {\n",
       "        vertical-align: top;\n",
       "    }\n",
       "\n",
       "    .dataframe thead th {\n",
       "        text-align: right;\n",
       "    }\n",
       "</style>\n",
       "<table border=\"1\" class=\"dataframe\">\n",
       "  <thead>\n",
       "    <tr style=\"text-align: right;\">\n",
       "      <th></th>\n",
       "      <th>precision</th>\n",
       "      <th>recall</th>\n",
       "      <th>RMSE</th>\n",
       "    </tr>\n",
       "  </thead>\n",
       "  <tbody>\n",
       "    <tr>\n",
       "      <th>1</th>\n",
       "      <td>0.49</td>\n",
       "      <td>0.49</td>\n",
       "      <td>1.58</td>\n",
       "    </tr>\n",
       "  </tbody>\n",
       "</table>\n",
       "</div>"
      ],
      "text/plain": [
       "   precision  recall  RMSE\n",
       "1       0.49    0.49  1.58"
      ]
     },
     "execution_count": 15,
     "metadata": {},
     "output_type": "execute_result"
    }
   ],
   "source": [
    "score_df = model.test_score\n",
    "score_df"
   ]
  },
  {
   "cell_type": "code",
   "execution_count": 16,
   "id": "f840d104-1cc9-4a0b-b289-eed5d46fa05b",
   "metadata": {},
   "outputs": [
    {
     "name": "stdout",
     "output_type": "stream",
     "text": [
      "recommendは139.786秒かかりました\n"
     ]
    }
   ],
   "source": [
    "model.recommend()"
   ]
  },
  {
   "cell_type": "code",
   "execution_count": 18,
   "id": "a0a23bb9-acbb-42c9-99d6-932cf79deb64",
   "metadata": {},
   "outputs": [],
   "source": [
    "model.save_model()"
   ]
  },
  {
   "cell_type": "code",
   "execution_count": 70,
   "id": "7f1a8e76-3330-4517-acb6-e5c828c080c4",
   "metadata": {},
   "outputs": [],
   "source": [
    "recommend_books = model.recommend_books"
   ]
  },
  {
   "cell_type": "code",
   "execution_count": 36,
   "id": "d62223f6-f710-4fb4-be34-84e867ce6b1e",
   "metadata": {},
   "outputs": [],
   "source": [
    "df = joblib.load('../data/explicit.pkl')"
   ]
  },
  {
   "cell_type": "code",
   "execution_count": 50,
   "id": "f2047eed-03ee-4472-937f-fea7e0ac2e61",
   "metadata": {},
   "outputs": [],
   "source": [
    "user_df = joblib.load('../data/user.pkl')\n",
    "book_df = joblib.load('../data/book.pkl')"
   ]
  },
  {
   "cell_type": "code",
   "execution_count": 51,
   "id": "d1fcceb2-f551-43f7-9d97-2ebe5af7c565",
   "metadata": {},
   "outputs": [],
   "source": [
    "unique_user_ids = train_df[\"User-ID\"].unique()\n",
    "unique_book_ids = train_df[\"ISBN\"].unique()"
   ]
  },
  {
   "cell_type": "code",
   "execution_count": 52,
   "id": "76bf5967-188d-4e10-a050-7d7e372b5c3c",
   "metadata": {},
   "outputs": [],
   "source": [
    "user_df = user_df[user_df[\"User-ID\"].isin(unique_user_ids)]\n",
    "user_df = user_df.reset_index(drop=True)\n",
    "\n",
    "book_df = book_df[book_df[\"ISBN\"].isin(unique_book_ids)]\n",
    "book_df = book_df.reset_index(drop=True)"
   ]
  },
  {
   "cell_type": "code",
   "execution_count": 53,
   "id": "e68e189a-4a6c-4410-b2fc-eaae41b1cccb",
   "metadata": {},
   "outputs": [],
   "source": [
    "df = df[[\"User-ID\", \"ISBN\", \"Book-Rating\"]]\n",
    "df = df[(df[\"User-ID\"].isin(unique_user_ids)) & (df[\"ISBN\"].isin(unique_book_ids))]"
   ]
  },
  {
   "cell_type": "code",
   "execution_count": 66,
   "id": "ff197141-d8ba-4c6b-8f23-ddd991657951",
   "metadata": {},
   "outputs": [],
   "source": [
    "user_df[\"mf_recommend_item\"] = None"
   ]
  },
  {
   "cell_type": "code",
   "execution_count": 69,
   "id": "d74f928b-380b-4475-b11b-c99d8186c97b",
   "metadata": {},
   "outputs": [],
   "source": [
    "user_df = user_df.sort_values('User-ID')"
   ]
  },
  {
   "cell_type": "code",
   "execution_count": 75,
   "id": "ec865621-0bc2-4390-9af7-5d3bef5f3879",
   "metadata": {},
   "outputs": [],
   "source": [
    "recommend_books = dict(sorted(recommend_books.items(), key=lambda x:x[0]))\n"
   ]
  },
  {
   "cell_type": "code",
   "execution_count": 81,
   "id": "cfa4c979-6db0-4a9f-bd0e-85f1a93e8154",
   "metadata": {},
   "outputs": [
    {
     "data": {
      "text/html": [
       "<div>\n",
       "<style scoped>\n",
       "    .dataframe tbody tr th:only-of-type {\n",
       "        vertical-align: middle;\n",
       "    }\n",
       "\n",
       "    .dataframe tbody tr th {\n",
       "        vertical-align: top;\n",
       "    }\n",
       "\n",
       "    .dataframe thead th {\n",
       "        text-align: right;\n",
       "    }\n",
       "</style>\n",
       "<table border=\"1\" class=\"dataframe\">\n",
       "  <thead>\n",
       "    <tr style=\"text-align: right;\">\n",
       "      <th></th>\n",
       "      <th>User-ID</th>\n",
       "      <th>Age</th>\n",
       "      <th>city</th>\n",
       "      <th>state</th>\n",
       "      <th>country</th>\n",
       "      <th>mf_recommend_item</th>\n",
       "    </tr>\n",
       "  </thead>\n",
       "  <tbody>\n",
       "    <tr>\n",
       "      <th>0</th>\n",
       "      <td>254</td>\n",
       "      <td>24.00</td>\n",
       "      <td>minneapolis</td>\n",
       "      <td>minnesota</td>\n",
       "      <td>usa</td>\n",
       "      <td>[0877017883, 0439425220, 0140143505, 006025665...</td>\n",
       "    </tr>\n",
       "    <tr>\n",
       "      <th>1</th>\n",
       "      <td>388</td>\n",
       "      <td>35.00</td>\n",
       "      <td>nashville</td>\n",
       "      <td>tennessee</td>\n",
       "      <td>usa</td>\n",
       "      <td>[0743454529, 0877017883, 0439425220, 034533973...</td>\n",
       "    </tr>\n",
       "    <tr>\n",
       "      <th>2</th>\n",
       "      <td>503</td>\n",
       "      <td>40.00</td>\n",
       "      <td>el centro</td>\n",
       "      <td>california</td>\n",
       "      <td>usa</td>\n",
       "      <td>[0877017883, 0439425220, 0394800168, 014014350...</td>\n",
       "    </tr>\n",
       "    <tr>\n",
       "      <th>3</th>\n",
       "      <td>638</td>\n",
       "      <td>20.00</td>\n",
       "      <td>san diego</td>\n",
       "      <td>california</td>\n",
       "      <td>usa</td>\n",
       "      <td>[0060256656, 0440174643, 0877017883, 039480016...</td>\n",
       "    </tr>\n",
       "    <tr>\n",
       "      <th>4</th>\n",
       "      <td>709</td>\n",
       "      <td>14.00</td>\n",
       "      <td>roanoke</td>\n",
       "      <td>virginia</td>\n",
       "      <td>usa</td>\n",
       "      <td>[0380813815, 0060256737, 0345339711, 006025667...</td>\n",
       "    </tr>\n",
       "    <tr>\n",
       "      <th>...</th>\n",
       "      <td>...</td>\n",
       "      <td>...</td>\n",
       "      <td>...</td>\n",
       "      <td>...</td>\n",
       "      <td>...</td>\n",
       "      <td>...</td>\n",
       "    </tr>\n",
       "    <tr>\n",
       "      <th>2092</th>\n",
       "      <td>278026</td>\n",
       "      <td>56.00</td>\n",
       "      <td>east orange</td>\n",
       "      <td>new jersey</td>\n",
       "      <td>usa</td>\n",
       "      <td>[0877017883, 0439425220, 0394800168, 006025665...</td>\n",
       "    </tr>\n",
       "    <tr>\n",
       "      <th>2093</th>\n",
       "      <td>278137</td>\n",
       "      <td>27.00</td>\n",
       "      <td>san antonio</td>\n",
       "      <td>texas</td>\n",
       "      <td>usa</td>\n",
       "      <td>[0439425220, 0140143505, 0060256672, 087701788...</td>\n",
       "    </tr>\n",
       "    <tr>\n",
       "      <th>2094</th>\n",
       "      <td>278188</td>\n",
       "      <td>34.00</td>\n",
       "      <td>lake george</td>\n",
       "      <td>new york</td>\n",
       "      <td>usa</td>\n",
       "      <td>[0439425220, 0877017883, 0743454529, 006025667...</td>\n",
       "    </tr>\n",
       "    <tr>\n",
       "      <th>2095</th>\n",
       "      <td>278356</td>\n",
       "      <td>57.00</td>\n",
       "      <td>lakeland</td>\n",
       "      <td>tennessee</td>\n",
       "      <td>usa</td>\n",
       "      <td>[0877017883, 0439425220, 0394800168, 014014350...</td>\n",
       "    </tr>\n",
       "    <tr>\n",
       "      <th>2096</th>\n",
       "      <td>278843</td>\n",
       "      <td>28.00</td>\n",
       "      <td>pismo beach</td>\n",
       "      <td>california</td>\n",
       "      <td>usa</td>\n",
       "      <td>[0877017883, 0439425220, 0394800168, 074345452...</td>\n",
       "    </tr>\n",
       "  </tbody>\n",
       "</table>\n",
       "<p>2097 rows × 6 columns</p>\n",
       "</div>"
      ],
      "text/plain": [
       "      User-ID   Age         city       state country  \\\n",
       "0         254 24.00  minneapolis   minnesota     usa   \n",
       "1         388 35.00    nashville   tennessee     usa   \n",
       "2         503 40.00    el centro  california     usa   \n",
       "3         638 20.00    san diego  california     usa   \n",
       "4         709 14.00      roanoke    virginia     usa   \n",
       "...       ...   ...          ...         ...     ...   \n",
       "2092   278026 56.00  east orange  new jersey     usa   \n",
       "2093   278137 27.00  san antonio       texas     usa   \n",
       "2094   278188 34.00  lake george    new york     usa   \n",
       "2095   278356 57.00     lakeland   tennessee     usa   \n",
       "2096   278843 28.00  pismo beach  california     usa   \n",
       "\n",
       "                                      mf_recommend_item  \n",
       "0     [0877017883, 0439425220, 0140143505, 006025665...  \n",
       "1     [0743454529, 0877017883, 0439425220, 034533973...  \n",
       "2     [0877017883, 0439425220, 0394800168, 014014350...  \n",
       "3     [0060256656, 0440174643, 0877017883, 039480016...  \n",
       "4     [0380813815, 0060256737, 0345339711, 006025667...  \n",
       "...                                                 ...  \n",
       "2092  [0877017883, 0439425220, 0394800168, 006025665...  \n",
       "2093  [0439425220, 0140143505, 0060256672, 087701788...  \n",
       "2094  [0439425220, 0877017883, 0743454529, 006025667...  \n",
       "2095  [0877017883, 0439425220, 0394800168, 014014350...  \n",
       "2096  [0877017883, 0439425220, 0394800168, 074345452...  \n",
       "\n",
       "[2097 rows x 6 columns]"
      ]
     },
     "execution_count": 81,
     "metadata": {},
     "output_type": "execute_result"
    }
   ],
   "source": [
    "user_df[\"mf_recommend_item\"] = list(recommend_books.values())\n",
    "user_df"
   ]
  },
  {
   "cell_type": "code",
   "execution_count": 82,
   "id": "6bc0a99e-cc44-46c3-871f-ebf8a9cf918b",
   "metadata": {},
   "outputs": [],
   "source": [
    "#joblib.dump([user_df, book_df, df], \"../data/mf-api.pkl\")\n",
    "del user_df, book_df, df"
   ]
  },
  {
   "cell_type": "code",
   "execution_count": null,
   "id": "1ce2e571-1acb-42e9-816a-53d903e27218",
   "metadata": {},
   "outputs": [],
   "source": []
  }
 ],
 "metadata": {
  "kernelspec": {
   "display_name": "Python 3 (ipykernel)",
   "language": "python",
   "name": "python3"
  },
  "language_info": {
   "codemirror_mode": {
    "name": "ipython",
    "version": 3
   },
   "file_extension": ".py",
   "mimetype": "text/x-python",
   "name": "python",
   "nbconvert_exporter": "python",
   "pygments_lexer": "ipython3",
   "version": "3.7.8"
  }
 },
 "nbformat": 4,
 "nbformat_minor": 5
}
