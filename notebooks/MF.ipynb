{
 "cells": [
  {
   "cell_type": "code",
   "execution_count": 1,
   "id": "d7746427-0ff5-4c09-8aa6-2acbcbf3e315",
   "metadata": {},
   "outputs": [
    {
     "data": {
      "text/html": [
       "<div>\n",
       "<style scoped>\n",
       "    .dataframe tbody tr th:only-of-type {\n",
       "        vertical-align: middle;\n",
       "    }\n",
       "\n",
       "    .dataframe tbody tr th {\n",
       "        vertical-align: top;\n",
       "    }\n",
       "\n",
       "    .dataframe thead th {\n",
       "        text-align: right;\n",
       "    }\n",
       "</style>\n",
       "<table border=\"1\" class=\"dataframe\">\n",
       "  <thead>\n",
       "    <tr style=\"text-align: right;\">\n",
       "      <th></th>\n",
       "      <th>User-ID</th>\n",
       "      <th>ISBN</th>\n",
       "      <th>Book-Rating</th>\n",
       "      <th>Age</th>\n",
       "      <th>city</th>\n",
       "      <th>state</th>\n",
       "      <th>country</th>\n",
       "      <th>Book-Title</th>\n",
       "      <th>Book-Author</th>\n",
       "      <th>Year-Of-Publication</th>\n",
       "      <th>Publisher</th>\n",
       "      <th>Image-URL-S</th>\n",
       "      <th>Image-URL-M</th>\n",
       "      <th>Image-URL-L</th>\n",
       "    </tr>\n",
       "  </thead>\n",
       "  <tbody>\n",
       "    <tr>\n",
       "      <th>0</th>\n",
       "      <td>2954</td>\n",
       "      <td>0060973129</td>\n",
       "      <td>8.0</td>\n",
       "      <td>71.0</td>\n",
       "      <td>wichita</td>\n",
       "      <td>kansas</td>\n",
       "      <td>usa</td>\n",
       "      <td>Decision in Normandy</td>\n",
       "      <td>Carlo D'Este</td>\n",
       "      <td>1991</td>\n",
       "      <td>HarperPerennial</td>\n",
       "      <td>http://images.amazon.com/images/P/0060973129.0...</td>\n",
       "      <td>http://images.amazon.com/images/P/0060973129.0...</td>\n",
       "      <td>http://images.amazon.com/images/P/0060973129.0...</td>\n",
       "    </tr>\n",
       "    <tr>\n",
       "      <th>1</th>\n",
       "      <td>35704</td>\n",
       "      <td>0374157065</td>\n",
       "      <td>6.0</td>\n",
       "      <td>53.0</td>\n",
       "      <td>kansas city</td>\n",
       "      <td>missouri</td>\n",
       "      <td>usa</td>\n",
       "      <td>Flu: The Story of the Great Influenza Pandemic...</td>\n",
       "      <td>Gina Bari Kolata</td>\n",
       "      <td>1999</td>\n",
       "      <td>Farrar Straus Giroux</td>\n",
       "      <td>http://images.amazon.com/images/P/0374157065.0...</td>\n",
       "      <td>http://images.amazon.com/images/P/0374157065.0...</td>\n",
       "      <td>http://images.amazon.com/images/P/0374157065.0...</td>\n",
       "    </tr>\n",
       "    <tr>\n",
       "      <th>2</th>\n",
       "      <td>110912</td>\n",
       "      <td>0374157065</td>\n",
       "      <td>10.0</td>\n",
       "      <td>36.0</td>\n",
       "      <td>milpitas</td>\n",
       "      <td>california</td>\n",
       "      <td>usa</td>\n",
       "      <td>Flu: The Story of the Great Influenza Pandemic...</td>\n",
       "      <td>Gina Bari Kolata</td>\n",
       "      <td>1999</td>\n",
       "      <td>Farrar Straus Giroux</td>\n",
       "      <td>http://images.amazon.com/images/P/0374157065.0...</td>\n",
       "      <td>http://images.amazon.com/images/P/0374157065.0...</td>\n",
       "      <td>http://images.amazon.com/images/P/0374157065.0...</td>\n",
       "    </tr>\n",
       "    <tr>\n",
       "      <th>3</th>\n",
       "      <td>157969</td>\n",
       "      <td>0374157065</td>\n",
       "      <td>8.0</td>\n",
       "      <td>30.0</td>\n",
       "      <td>denver</td>\n",
       "      <td>colorado</td>\n",
       "      <td>usa</td>\n",
       "      <td>Flu: The Story of the Great Influenza Pandemic...</td>\n",
       "      <td>Gina Bari Kolata</td>\n",
       "      <td>1999</td>\n",
       "      <td>Farrar Straus Giroux</td>\n",
       "      <td>http://images.amazon.com/images/P/0374157065.0...</td>\n",
       "      <td>http://images.amazon.com/images/P/0374157065.0...</td>\n",
       "      <td>http://images.amazon.com/images/P/0374157065.0...</td>\n",
       "    </tr>\n",
       "    <tr>\n",
       "      <th>4</th>\n",
       "      <td>192665</td>\n",
       "      <td>0374157065</td>\n",
       "      <td>8.0</td>\n",
       "      <td>47.0</td>\n",
       "      <td>vacaville</td>\n",
       "      <td>california</td>\n",
       "      <td>usa</td>\n",
       "      <td>Flu: The Story of the Great Influenza Pandemic...</td>\n",
       "      <td>Gina Bari Kolata</td>\n",
       "      <td>1999</td>\n",
       "      <td>Farrar Straus Giroux</td>\n",
       "      <td>http://images.amazon.com/images/P/0374157065.0...</td>\n",
       "      <td>http://images.amazon.com/images/P/0374157065.0...</td>\n",
       "      <td>http://images.amazon.com/images/P/0374157065.0...</td>\n",
       "    </tr>\n",
       "  </tbody>\n",
       "</table>\n",
       "</div>"
      ],
      "text/plain": [
       "   User-ID        ISBN  Book-Rating   Age         city       state country  \\\n",
       "0     2954  0060973129          8.0  71.0      wichita      kansas     usa   \n",
       "1    35704  0374157065          6.0  53.0  kansas city    missouri     usa   \n",
       "2   110912  0374157065         10.0  36.0     milpitas  california     usa   \n",
       "3   157969  0374157065          8.0  30.0       denver    colorado     usa   \n",
       "4   192665  0374157065          8.0  47.0    vacaville  california     usa   \n",
       "\n",
       "                                          Book-Title       Book-Author  \\\n",
       "0                               Decision in Normandy      Carlo D'Este   \n",
       "1  Flu: The Story of the Great Influenza Pandemic...  Gina Bari Kolata   \n",
       "2  Flu: The Story of the Great Influenza Pandemic...  Gina Bari Kolata   \n",
       "3  Flu: The Story of the Great Influenza Pandemic...  Gina Bari Kolata   \n",
       "4  Flu: The Story of the Great Influenza Pandemic...  Gina Bari Kolata   \n",
       "\n",
       "   Year-Of-Publication             Publisher  \\\n",
       "0                 1991       HarperPerennial   \n",
       "1                 1999  Farrar Straus Giroux   \n",
       "2                 1999  Farrar Straus Giroux   \n",
       "3                 1999  Farrar Straus Giroux   \n",
       "4                 1999  Farrar Straus Giroux   \n",
       "\n",
       "                                         Image-URL-S  \\\n",
       "0  http://images.amazon.com/images/P/0060973129.0...   \n",
       "1  http://images.amazon.com/images/P/0374157065.0...   \n",
       "2  http://images.amazon.com/images/P/0374157065.0...   \n",
       "3  http://images.amazon.com/images/P/0374157065.0...   \n",
       "4  http://images.amazon.com/images/P/0374157065.0...   \n",
       "\n",
       "                                         Image-URL-M  \\\n",
       "0  http://images.amazon.com/images/P/0060973129.0...   \n",
       "1  http://images.amazon.com/images/P/0374157065.0...   \n",
       "2  http://images.amazon.com/images/P/0374157065.0...   \n",
       "3  http://images.amazon.com/images/P/0374157065.0...   \n",
       "4  http://images.amazon.com/images/P/0374157065.0...   \n",
       "\n",
       "                                         Image-URL-L  \n",
       "0  http://images.amazon.com/images/P/0060973129.0...  \n",
       "1  http://images.amazon.com/images/P/0374157065.0...  \n",
       "2  http://images.amazon.com/images/P/0374157065.0...  \n",
       "3  http://images.amazon.com/images/P/0374157065.0...  \n",
       "4  http://images.amazon.com/images/P/0374157065.0...  "
      ]
     },
     "execution_count": 1,
     "metadata": {},
     "output_type": "execute_result"
    }
   ],
   "source": [
    "import pandas as pd\n",
    "import sys;sys.path.append('..')\n",
    "import warnings; warnings.simplefilter(\"ignore\")\n",
    "from surprise import SVD, Reader, Dataset\n",
    "from collections import defaultdict\n",
    "import numpy as np\n",
    "\n",
    "df = pd.read_csv('../data/explicit_usa.csv')\n",
    "df = df.drop(\"Unnamed: 0\", axis=1)\n",
    "df.head()"
   ]
  },
  {
   "cell_type": "code",
   "execution_count": 36,
   "id": "b2cb8e6a-eaed-4bda-baf1-289cada909df",
   "metadata": {},
   "outputs": [],
   "source": [
    "import joblib\n",
    "train_df, test_df = joblib.load(\"../data/train_test_split.pkl\")"
   ]
  },
  {
   "cell_type": "code",
   "execution_count": 37,
   "id": "bf6bf9c3-b72c-4aef-8d21-b12c96371793",
   "metadata": {},
   "outputs": [],
   "source": [
    "train_user_ids = train_df[\"User-ID\"].unique()\n",
    "train_book_ids = train_df[\"ISBN\"].unique()\n"
   ]
  },
  {
   "cell_type": "code",
   "execution_count": 38,
   "id": "ba2cc0a9-db75-417b-a720-9667665d0348",
   "metadata": {},
   "outputs": [],
   "source": [
    "test_df = test_df[test_df[\"User-ID\"].isin(train_user_ids)]\n",
    "test_df = test_df[test_df[\"ISBN\"].isin(train_book_ids)]\n"
   ]
  },
  {
   "cell_type": "code",
   "execution_count": 39,
   "id": "ad538c3c-fcab-4bbb-ba94-984219f92cdb",
   "metadata": {},
   "outputs": [
    {
     "name": "stdout",
     "output_type": "stream",
     "text": [
      "trainデータサイズ：　17180\n",
      "testデータサイズ：　1562\n"
     ]
    }
   ],
   "source": [
    "print(f\"trainデータサイズ：　{len(train_df)}\")\n",
    "print(f\"testデータサイズ：　{len(test_df)}\")"
   ]
  },
  {
   "cell_type": "code",
   "execution_count": 71,
   "id": "ae468c96-5b22-432c-9c13-d98b0395aa6a",
   "metadata": {},
   "outputs": [],
   "source": [
    "# train, testデータで観測構造が違う状況を作る。\n",
    "dummy_rating = np.random.randint(1, 11, len(test_df))\n",
    "test_df[\"Book-Rating\"] = dummy_rating\n"
   ]
  },
  {
   "cell_type": "code",
   "execution_count": 72,
   "id": "5109258d-2eec-4dbc-bbd8-6354a2c5f3f2",
   "metadata": {},
   "outputs": [
    {
     "data": {
      "image/png": "[encoded data removed]",
      "text/plain": [
       "<Figure size 576x432 with 1 Axes>"
      ]
     },
     "metadata": {
      "needs_background": "light"
     },
     "output_type": "display_data"
    }
   ],
   "source": [
    "import matplotlib.pyplot as plt\n",
    "import seaborn as sns; sns.set()\n",
    "%matplotlib inline\n",
    "\n",
    "train_df[\"data\"] = \"train\"\n",
    "test_df[\"data\"] = \"test\"\n",
    "data_df = pd.concat([train_df, test_df])\n",
    "\n",
    "plt.subplots(1, figsize=(8,6))\n",
    "sns.histplot(\n",
    "    data_df, \n",
    "    x=\"Book-Rating\",  \n",
    "    stat=\"probability\", \n",
    "    discrete=True,\n",
    "    hue=\"data\",\n",
    "    multiple=\"dodge\",\n",
    "    common_norm=False,\n",
    ")\n",
    "\n",
    "plt.xlabel('Rating Values', fontdict=dict(size=20))\n",
    "plt.ylabel('Probability Mass', fontdict=dict(size=20))\n",
    "plt.tight_layout()\n",
    "plt.show()"
   ]
  },
  {
   "cell_type": "code",
   "execution_count": 82,
   "id": "84367446-1071-4ae6-977b-75422bff4879",
   "metadata": {},
   "outputs": [
    {
     "data": {
      "text/plain": [
       "array([0.03194475, 0.04071863, 0.07923726, 0.13377353, 0.70223485,\n",
       "       0.58617777, 1.49144392, 2.53557804, 2.22530671, 2.47466822])"
      ]
     },
     "execution_count": 82,
     "metadata": {},
     "output_type": "execute_result"
    }
   ],
   "source": [
    "# 少量の完全ランダムな嗜好度合いデータを用いて傾向スコアを推定する [Schnbel16]\n",
    "numerator = np.unique(train_df[\"Book-Rating\"].values, return_counts=True)[1]\n",
    "numerator = numerator / numerator.sum() #P(R=r|O=1)の推定\n",
    "denominator = np.unique(test_df[\"Book-Rating\"].values, return_counts=True)[1]\n",
    "denominator = denominator / denominator.sum() #(擬似的に作った真の) P(R=r)\n",
    "numerator / denominator"
   ]
  },
  {
   "cell_type": "code",
   "execution_count": 45,
   "id": "db6b856f-eceb-4a55-93ff-6e1a376cfcbd",
   "metadata": {},
   "outputs": [],
   "source": [
    "from sklearn.metrics import mean_squared_error\n",
    "from surprise.model_selection import cross_validate\n",
    "\n",
    "class MF:\n",
    "    def __init__(self, train_df, test_df):\n",
    "        reader = Reader(rating_scale=(1, 10))\n",
    "        self.data_train = Dataset.load_from_df(\n",
    "            train_df[[\"User-ID\", \"ISBN\", \"Book-Rating\"]], reader\n",
    "        )\n",
    "        self.test_df = test_df\n",
    "    \n",
    "    def cross_validation(self, **kwargs):\n",
    "        self.n_factors = kwargs.get(\"n_factors\", 200)\n",
    "        self.lr_all = kwargs.get(\"lr_all\", 0.005)\n",
    "        self.n_epochs = kwargs.get('n_epochs', 200)\n",
    "        self.reg_all = kwargs.get('reg_all', 0.4)\n",
    "        \n",
    "        self.mf = SVD(\n",
    "            n_factors=self.n_factors,\n",
    "            lr_all=self.lr_all,\n",
    "            n_epochs=self.n_epochs,\n",
    "            reg_all=self.reg_all\n",
    "        )\n",
    "        \n",
    "        result = cross_validate(self.mf, self.data_train, measures=[\"rmse\"], cv=5, n_jobs=-1)\n",
    "        val_score = result[\"test_rmse\"].mean()\n",
    "        return val_score\n",
    "    \n",
    "    def test(self):\n",
    "        full_data = self.data_train.build_full_trainset()\n",
    "        model = self.mf.fit(full_data)\n",
    "        predictions = model.test(full_data.build_anti_testset(None))\n",
    "        \n",
    "        test_data = pd.DataFrame.from_dict(\n",
    "            [{\"User-ID\": p.uid, \"ISBN\": p.iid, \"rating_pred\": p.est}\n",
    "                for p in predictions\n",
    "            ]\n",
    "        )\n",
    "        book_rating_predict = self.test_df.merge(test_data, on=[\"User-ID\", \"ISBN\"])\n",
    "        \n",
    "        test_score = self._calc_rmse(\n",
    "            book_rating_predict[\"Book-Rating\"].to_list(),\n",
    "            book_rating_predict[\"rating_pred\"].to_list()\n",
    "        )\n",
    "        \n",
    "        return test_score\n",
    "     \n",
    "    def _calc_rmse(self, true_rating, pred_rating):\n",
    "        return np.sqrt(mean_squared_error(true_rating, pred_rating))\n",
    "        \n",
    "        \n",
    "        \n",
    "    "
   ]
  },
  {
   "cell_type": "code",
   "execution_count": 46,
   "id": "6066d15d-0524-4efc-9a46-c4ae1a840bed",
   "metadata": {},
   "outputs": [],
   "source": [
    "mf = MF(train_df, test_df)"
   ]
  },
  {
   "cell_type": "code",
   "execution_count": 47,
   "id": "881417ce-ee36-4be8-8003-6379895f01b6",
   "metadata": {},
   "outputs": [],
   "source": [
    "val_score = mf.cross_validation()"
   ]
  },
  {
   "cell_type": "code",
   "execution_count": 49,
   "id": "dc6e17de-3769-48a3-957e-83dbc830f20a",
   "metadata": {},
   "outputs": [
    {
     "name": "stdout",
     "output_type": "stream",
     "text": [
      "validation RMSE = 1.51\n"
     ]
    }
   ],
   "source": [
    "print(f\"validation RMSE = {val_score:.3}\")"
   ]
  },
  {
   "cell_type": "code",
   "execution_count": 50,
   "id": "3469f3f8-db67-430a-a39e-f7ecd4d7171e",
   "metadata": {},
   "outputs": [],
   "source": [
    "test_score = mf.test()"
   ]
  },
  {
   "cell_type": "code",
   "execution_count": 51,
   "id": "5937d0aa-843c-4cd0-b324-886d3cae7d6d",
   "metadata": {},
   "outputs": [
    {
     "name": "stdout",
     "output_type": "stream",
     "text": [
      "test RMSE = 1.61\n"
     ]
    }
   ],
   "source": [
    "print(f\"test RMSE = {test_score:.3}\")"
   ]
  }
 ],
 "metadata": {
  "kernelspec": {
   "display_name": "Python 3 (ipykernel)",
   "language": "python",
   "name": "python3"
  },
  "language_info": {
   "codemirror_mode": {
    "name": "ipython",
    "version": 3
   },
   "file_extension": ".py",
   "mimetype": "text/x-python",
   "name": "python",
   "nbconvert_exporter": "python",
   "pygments_lexer": "ipython3",
   "version": "3.7.8"
  }
 },
 "nbformat": 4,
 "nbformat_minor": 5
}
