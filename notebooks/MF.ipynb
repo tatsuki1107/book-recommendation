{
 "cells": [
  {
   "cell_type": "code",
   "execution_count": 1,
   "id": "d7746427-0ff5-4c09-8aa6-2acbcbf3e315",
   "metadata": {},
   "outputs": [
    {
     "data": {
      "text/html": [
       "<div>\n",
       "<style scoped>\n",
       "    .dataframe tbody tr th:only-of-type {\n",
       "        vertical-align: middle;\n",
       "    }\n",
       "\n",
       "    .dataframe tbody tr th {\n",
       "        vertical-align: top;\n",
       "    }\n",
       "\n",
       "    .dataframe thead th {\n",
       "        text-align: right;\n",
       "    }\n",
       "</style>\n",
       "<table border=\"1\" class=\"dataframe\">\n",
       "  <thead>\n",
       "    <tr style=\"text-align: right;\">\n",
       "      <th></th>\n",
       "      <th>user_id</th>\n",
       "      <th>book_id</th>\n",
       "      <th>book_rating</th>\n",
       "    </tr>\n",
       "  </thead>\n",
       "  <tbody>\n",
       "    <tr>\n",
       "      <th>0</th>\n",
       "      <td>2954</td>\n",
       "      <td>0060973129</td>\n",
       "      <td>8.0</td>\n",
       "    </tr>\n",
       "    <tr>\n",
       "      <th>1</th>\n",
       "      <td>35704</td>\n",
       "      <td>0374157065</td>\n",
       "      <td>6.0</td>\n",
       "    </tr>\n",
       "    <tr>\n",
       "      <th>2</th>\n",
       "      <td>110912</td>\n",
       "      <td>0374157065</td>\n",
       "      <td>10.0</td>\n",
       "    </tr>\n",
       "    <tr>\n",
       "      <th>3</th>\n",
       "      <td>157969</td>\n",
       "      <td>0374157065</td>\n",
       "      <td>8.0</td>\n",
       "    </tr>\n",
       "    <tr>\n",
       "      <th>4</th>\n",
       "      <td>192665</td>\n",
       "      <td>0374157065</td>\n",
       "      <td>8.0</td>\n",
       "    </tr>\n",
       "  </tbody>\n",
       "</table>\n",
       "</div>"
      ],
      "text/plain": [
       "   user_id     book_id  book_rating\n",
       "0     2954  0060973129          8.0\n",
       "1    35704  0374157065          6.0\n",
       "2   110912  0374157065         10.0\n",
       "3   157969  0374157065          8.0\n",
       "4   192665  0374157065          8.0"
      ]
     },
     "execution_count": 1,
     "metadata": {},
     "output_type": "execute_result"
    }
   ],
   "source": [
    "import pandas as pd\n",
    "import sys;sys.path.append('..')\n",
    "import warnings; warnings.simplefilter(\"ignore\")\n",
    "from surprise import SVD, Reader, Dataset\n",
    "from collections import defaultdict\n",
    "import numpy as np\n",
    "import joblib\n",
    "\n",
    "df = joblib.load('../data/explicit.pkl')\n",
    "df = df[[\"user_id\", \"book_id\", \"book_rating\"]]\n",
    "df.head()"
   ]
  },
  {
   "cell_type": "code",
   "execution_count": 2,
   "id": "47cc9c5e-bfc2-4ace-9219-9f45ddd7ed68",
   "metadata": {},
   "outputs": [
    {
     "name": "stdout",
     "output_type": "stream",
     "text": [
      "splitは48.63秒かかりました\n"
     ]
    }
   ],
   "source": [
    "from util.train_test_split import split\n",
    "\n",
    "train_df, test_df, user_df, book_df, rating_df = split(df=df)"
   ]
  },
  {
   "cell_type": "code",
   "execution_count": 3,
   "id": "c3a3a3f6-05f8-4f44-8495-118c6c87fb29",
   "metadata": {},
   "outputs": [],
   "source": [
    "#joblib.dump([train_df, test_df], \"../data/train_test_split.pkl\")"
   ]
  },
  {
   "cell_type": "code",
   "execution_count": 4,
   "id": "b2cb8e6a-eaed-4bda-baf1-289cada909df",
   "metadata": {},
   "outputs": [],
   "source": [
    "del df"
   ]
  },
  {
   "cell_type": "code",
   "execution_count": 5,
   "id": "ad538c3c-fcab-4bbb-ba94-984219f92cdb",
   "metadata": {},
   "outputs": [
    {
     "name": "stdout",
     "output_type": "stream",
     "text": [
      "trainデータサイズ：　20194\n",
      "testデータサイズ：　2286\n"
     ]
    }
   ],
   "source": [
    "print(f\"trainデータサイズ：　{len(train_df)}\")\n",
    "print(f\"testデータサイズ：　{len(test_df)}\")"
   ]
  },
  {
   "cell_type": "code",
   "execution_count": 6,
   "id": "ae468c96-5b22-432c-9c13-d98b0395aa6a",
   "metadata": {},
   "outputs": [],
   "source": [
    "# train, testデータで観測構造が違う状況を作る。\n",
    "#dummy_rating = np.random.randint(1, 11, len(test_df))\n",
    "#test_df[\"Book-Rating\"] = dummy_rating\n"
   ]
  },
  {
   "cell_type": "code",
   "execution_count": 7,
   "id": "5109258d-2eec-4dbc-bbd8-6354a2c5f3f2",
   "metadata": {},
   "outputs": [
    {
     "data": {
      "image/png": "[encoded data removed]",
      "text/plain": [
       "<Figure size 576x432 with 1 Axes>"
      ]
     },
     "metadata": {
      "needs_background": "light"
     },
     "output_type": "display_data"
    }
   ],
   "source": [
    "import matplotlib.pyplot as plt\n",
    "import seaborn as sns; sns.set()\n",
    "%matplotlib inline\n",
    "\n",
    "train_df[\"data\"] = \"train\"\n",
    "test_df[\"data\"] = \"test\"\n",
    "data_df = pd.concat([train_df, test_df])\n",
    "\n",
    "plt.subplots(1, figsize=(8,6))\n",
    "sns.histplot(\n",
    "    data_df, \n",
    "    x=\"book_rating\",  \n",
    "    stat=\"probability\", \n",
    "    discrete=True,\n",
    "    hue=\"data\",\n",
    "    multiple=\"dodge\",\n",
    "    common_norm=False,\n",
    ")\n",
    "\n",
    "plt.xlabel('Rating Values', fontdict=dict(size=20))\n",
    "plt.ylabel('Probability Mass', fontdict=dict(size=20))\n",
    "plt.tight_layout()\n",
    "plt.show()"
   ]
  },
  {
   "cell_type": "code",
   "execution_count": 8,
   "id": "84367446-1071-4ae6-977b-75422bff4879",
   "metadata": {},
   "outputs": [
    {
     "data": {
      "text/plain": [
       "array([0.3773398 , 1.52014035, 0.56600971, 0.98794421, 1.05126389,\n",
       "       0.85651589, 0.94507449, 1.02163129, 1.08775799, 1.01450128])"
      ]
     },
     "execution_count": 8,
     "metadata": {},
     "output_type": "execute_result"
    }
   ],
   "source": [
    "# 少量の完全ランダムな嗜好度合いデータを用いて傾向スコアを推定する [Schnbel16]\n",
    "numerator = np.unique(train_df[\"book_rating\"].values, return_counts=True)[1]\n",
    "numerator = numerator / numerator.sum() #P(R=r|O=1)の推定\n",
    "denominator = np.unique(test_df[\"book_rating\"].values, return_counts=True)[1]\n",
    "denominator = denominator / denominator.sum() #(擬似的に作った真の) P(R=r)\n",
    "numerator / denominator"
   ]
  },
  {
   "cell_type": "code",
   "execution_count": 9,
   "id": "f5a59b4e-3208-4382-b5fe-eb84461d57dd",
   "metadata": {},
   "outputs": [],
   "source": [
    "train_df.drop(columns='data', inplace=True)\n",
    "test_df.drop(columns='data', inplace=True)"
   ]
  },
  {
   "cell_type": "code",
   "execution_count": 10,
   "id": "051c35d8-85fd-4b98-adba-3f470c88ff62",
   "metadata": {},
   "outputs": [],
   "source": [
    "from src.MF import MF"
   ]
  },
  {
   "cell_type": "code",
   "execution_count": 11,
   "id": "f1bbacf0-893a-497c-baf6-9e0908ca6f52",
   "metadata": {},
   "outputs": [],
   "source": [
    "model = MF(train_df, test_df)"
   ]
  },
  {
   "cell_type": "code",
   "execution_count": 18,
   "id": "3f5c0505-8a99-4fea-a13f-c63c55c98cf9",
   "metadata": {},
   "outputs": [],
   "source": [
    "#model.set_params(n_epochs=100, n_factors=300, reg_all=2.0)\n",
    "#model.cross_validation(k=2)"
   ]
  },
  {
   "cell_type": "code",
   "execution_count": 13,
   "id": "73cd2a13-a50c-4f71-8251-86be619408d9",
   "metadata": {},
   "outputs": [],
   "source": [
    "#model.kfold_score"
   ]
  },
  {
   "cell_type": "code",
   "execution_count": 20,
   "id": "f840d104-1cc9-4a0b-b289-eed5d46fa05b",
   "metadata": {},
   "outputs": [
    {
     "name": "stdout",
     "output_type": "stream",
     "text": [
      "testは615.00秒かかりました\n"
     ]
    }
   ],
   "source": [
    "model.set_params(lr_all=0.00005, reg_all=0.00001, n_factors=400, n_epochs=200)\n",
    "model.test()"
   ]
  },
  {
   "cell_type": "code",
   "execution_count": 22,
   "id": "a0a23bb9-acbb-42c9-99d6-932cf79deb64",
   "metadata": {},
   "outputs": [
    {
     "data": {
      "text/html": [
       "<div>\n",
       "<style scoped>\n",
       "    .dataframe tbody tr th:only-of-type {\n",
       "        vertical-align: middle;\n",
       "    }\n",
       "\n",
       "    .dataframe tbody tr th {\n",
       "        vertical-align: top;\n",
       "    }\n",
       "\n",
       "    .dataframe thead th {\n",
       "        text-align: right;\n",
       "    }\n",
       "</style>\n",
       "<table border=\"1\" class=\"dataframe\">\n",
       "  <thead>\n",
       "    <tr style=\"text-align: right;\">\n",
       "      <th></th>\n",
       "      <th>precision</th>\n",
       "      <th>recall</th>\n",
       "      <th>RMSE</th>\n",
       "    </tr>\n",
       "  </thead>\n",
       "  <tbody>\n",
       "    <tr>\n",
       "      <th>1</th>\n",
       "      <td>0.55</td>\n",
       "      <td>0.54</td>\n",
       "      <td>1.75</td>\n",
       "    </tr>\n",
       "  </tbody>\n",
       "</table>\n",
       "</div>"
      ],
      "text/plain": [
       "   precision  recall  RMSE\n",
       "1       0.55    0.54  1.75"
      ]
     },
     "execution_count": 22,
     "metadata": {},
     "output_type": "execute_result"
    }
   ],
   "source": [
    "model.test_score"
   ]
  },
  {
   "cell_type": "code",
   "execution_count": 23,
   "id": "7f1a8e76-3330-4517-acb6-e5c828c080c4",
   "metadata": {},
   "outputs": [
    {
     "name": "stdout",
     "output_type": "stream",
     "text": [
      "for文のタイム: 12.71秒\n",
      "recommendは141.20秒かかりました\n"
     ]
    }
   ],
   "source": [
    "model.recommend()"
   ]
  },
  {
   "cell_type": "code",
   "execution_count": 24,
   "id": "06af019b-ba36-4002-b10e-5c3d3f462b7d",
   "metadata": {},
   "outputs": [],
   "source": [
    "user_df = model.reclist_to_csv(user_df)"
   ]
  },
  {
   "cell_type": "code",
   "execution_count": 25,
   "id": "cfb68f03-c27f-44ed-b2a5-1c4489c6667f",
   "metadata": {},
   "outputs": [
    {
     "name": "stdout",
     "output_type": "stream",
     "text": [
      "各ユーザにレコメンドされた本のユニーク数: 804\n"
     ]
    },
    {
     "data": {
      "image/png": "[encoded data removed]",
      "text/plain": [
       "<Figure size 1440x360 with 2 Axes>"
      ]
     },
     "metadata": {},
     "output_type": "display_data"
    }
   ],
   "source": [
    "from util.modelbehavior import ModelBehavior\n",
    "\n",
    "behavior = ModelBehavior(user_df, book_df, rating_df)\n",
    "behavior.check_over_fit()"
   ]
  },
  {
   "cell_type": "code",
   "execution_count": 21,
   "id": "ccafae2d-a7fd-4976-97e1-ae1845f1de59",
   "metadata": {},
   "outputs": [
    {
     "ename": "TypeError",
     "evalue": "plot_pca() takes 1 positional argument but 2 were given",
     "output_type": "error",
     "traceback": [
      "\u001b[0;31m---------------------------------------------------------------------------\u001b[0m",
      "\u001b[0;31mTypeError\u001b[0m                                 Traceback (most recent call last)",
      "\u001b[0;32m/tmp/ipykernel_150/3635378008.py\u001b[0m in \u001b[0;36m<module>\u001b[0;34m\u001b[0m\n\u001b[0;32m----> 1\u001b[0;31m \u001b[0mbehavior\u001b[0m\u001b[0;34m.\u001b[0m\u001b[0mplot_pca\u001b[0m\u001b[0;34m(\u001b[0m\u001b[0mmodel\u001b[0m\u001b[0;34m.\u001b[0m\u001b[0mmf\u001b[0m\u001b[0;34m.\u001b[0m\u001b[0mqi\u001b[0m\u001b[0;34m)\u001b[0m\u001b[0;34m\u001b[0m\u001b[0;34m\u001b[0m\u001b[0m\n\u001b[0m",
      "\u001b[0;31mTypeError\u001b[0m: plot_pca() takes 1 positional argument but 2 were given"
     ]
    }
   ],
   "source": [
    "behavior.plot_pca(model.mf.qi)"
   ]
  },
  {
   "cell_type": "code",
   "execution_count": 21,
   "id": "1ce2e571-1acb-42e9-816a-53d903e27218",
   "metadata": {},
   "outputs": [
    {
     "name": "stdout",
     "output_type": "stream",
     "text": [
      "{'高評価したbook_authorがレコメンドされている確率': 0.028, '高評価したpublisherがレコメンドされている確率': 0.0}\n"
     ]
    }
   ],
   "source": [
    "behavior.probability_rated_book_info()"
   ]
  },
  {
   "cell_type": "code",
   "execution_count": 25,
   "id": "e7af0989-8dc9-4ed0-8791-6f726b28bbbe",
   "metadata": {},
   "outputs": [],
   "source": [
    "book_factors = model.mf.qi"
   ]
  },
  {
   "cell_type": "code",
   "execution_count": 40,
   "id": "bc769027-77fc-4db9-9506-99de377dbe5c",
   "metadata": {},
   "outputs": [],
   "source": [
    "from sklearn.preprocessing import StandardScaler\n",
    "from sklearn.decomposition import PCA"
   ]
  },
  {
   "cell_type": "code",
   "execution_count": 54,
   "id": "9a353558-7c02-4e6f-988d-a1c85fb1f1bb",
   "metadata": {},
   "outputs": [],
   "source": [
    "def get_pca(qi):\n",
    "    scaler = StandardScaler()\n",
    "    qi = scaler.fit_transform(qi)\n",
    "    \n",
    "    pca = PCA()\n",
    "    pca.fit(qi)\n",
    "    qi = pca.transform(qi)\n",
    "    \n",
    "    contribution_ratios = pd.DataFrame(pca.explained_variance_ratio_)\n",
    "    cumulative_contribution_ratios = contribution_ratios.cumsum()\n",
    "\n",
    "    cont_cumcont_ratios = pd.concat([contribution_ratios, cumulative_contribution_ratios], axis=1).T\n",
    "    cont_cumcont_ratios.index = ['contribution_ratio', 'cumulative_contribution_ratio']\n",
    "\n",
    "    x_axis = range(1, contribution_ratios.shape[0] + 1)\n",
    "    plt.rcParams['font.size'] = 18\n",
    "\n",
    "    plt.bar(x_axis, contribution_ratios.iloc[:, 0], align='center') \n",
    "    plt.plot(x_axis, cumulative_contribution_ratios.iloc[:, 0], 'r.-')\n",
    "\n",
    "    plt.xlabel('Number of principal components')\n",
    "    plt.ylabel('Contribution ratio(blue),\\nCumulative contribution ratio(red)')\n",
    "    plt.show()"
   ]
  },
  {
   "cell_type": "code",
   "execution_count": 55,
   "id": "274ea03c-27f5-439f-bf6b-db4c81a52ace",
   "metadata": {},
   "outputs": [
    {
     "data": {
      "image/png": "[encoded data removed]",
      "text/plain": [
       "<Figure size 432x288 with 1 Axes>"
      ]
     },
     "metadata": {},
     "output_type": "display_data"
    }
   ],
   "source": [
    "get_pca(model.mf.qi)"
   ]
  },
  {
   "cell_type": "code",
   "execution_count": 60,
   "id": "dbe96b66-cb29-4e2b-9b02-18470732b188",
   "metadata": {},
   "outputs": [
    {
     "data": {
      "image/png": "[encoded data removed]",
      "text/plain": [
       "<Figure size 432x288 with 1 Axes>"
      ]
     },
     "metadata": {},
     "output_type": "display_data"
    }
   ],
   "source": [
    "preb_model = joblib.load('../data/mf.pkl')\n",
    "get_pca(preb_model.qi)"
   ]
  },
  {
   "cell_type": "markdown",
   "id": "95e0ed38-1fd9-4e2f-8ccd-3d262725cfa9",
   "metadata": {},
   "source": [
    "### ・２つ目の寄与率のグラフから過学習していることがわかる。(評価が高く評価数が少ない本に過剰反応していると考えられる)\n",
    "\n",
    "### ・上のグラフからアイテム因子には偏りは見えず、評価指標もRMSEを除き良くなっている。すなわち、過学習することなくモデルの精度を向上できている。\n",
    "しかし、これは本当に良いモデルなのか？  \n",
    "真なるマトリックスを推定することで多様な推薦をすることが強調ベースの特徴だが、ローカルでランキング性能(precision, recallなど)を向上させるということは、「真の嗜好が高いものを上位に並べるのではなく、テストデータで高い嗜好アイテムに対して上位に並べる（ことで真の嗜好が推定される）ようなモデル」を作っているということになるのではないか？どういうことかというと、例えば、今回は各ユーザーに5冊の本を推薦した。このモデルのpresicion, recallは約0.5なので、「テストデータに対して2.5冊良く推薦できているモデル」と言える。この値を増やすようにパラメタを探していくことは本当に良いことなのか？ビジネス施策の手段として機械学習を使うならば、課題設定から、何を持って良い推薦かということがわからなければ、ハイパーパラメータをサーチするのは時間の無駄では\n"
   ]
  }
 ],
 "metadata": {
  "kernelspec": {
   "display_name": "Python 3 (ipykernel)",
   "language": "python",
   "name": "python3"
  },
  "language_info": {
   "codemirror_mode": {
    "name": "ipython",
    "version": 3
   },
   "file_extension": ".py",
   "mimetype": "text/x-python",
   "name": "python",
   "nbconvert_exporter": "python",
   "pygments_lexer": "ipython3",
   "version": "3.7.8"
  }
 },
 "nbformat": 4,
 "nbformat_minor": 5
}
