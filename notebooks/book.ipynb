{
 "cells": [
  {
   "cell_type": "code",
   "execution_count": 1,
   "id": "53cdeaa5-46ec-4307-ad4e-79ede2b348ac",
   "metadata": {},
   "outputs": [],
   "source": [
    "import sys; sys.path.append('..')\n",
    "import warnings; warnings.simplefilter(\"ignore\")\n",
    "import pandas as pd\n",
    "import matplotlib.pyplot as plt\n",
    "import seaborn as sns; sns.set()\n",
    "%matplotlib inline"
   ]
  },
  {
   "cell_type": "code",
   "execution_count": 2,
   "id": "aee40d96-0f91-45dd-89e7-26ac9e4455af",
   "metadata": {},
   "outputs": [
    {
     "data": {
      "text/html": [
       "<div>\n",
       "<style scoped>\n",
       "    .dataframe tbody tr th:only-of-type {\n",
       "        vertical-align: middle;\n",
       "    }\n",
       "\n",
       "    .dataframe tbody tr th {\n",
       "        vertical-align: top;\n",
       "    }\n",
       "\n",
       "    .dataframe thead th {\n",
       "        text-align: right;\n",
       "    }\n",
       "</style>\n",
       "<table border=\"1\" class=\"dataframe\">\n",
       "  <thead>\n",
       "    <tr style=\"text-align: right;\">\n",
       "      <th></th>\n",
       "      <th>ISBN</th>\n",
       "      <th>Book-Title</th>\n",
       "      <th>Book-Author</th>\n",
       "      <th>Year-Of-Publication</th>\n",
       "      <th>Publisher</th>\n",
       "      <th>Image-URL-M</th>\n",
       "    </tr>\n",
       "  </thead>\n",
       "  <tbody>\n",
       "    <tr>\n",
       "      <th>0</th>\n",
       "      <td>0195153448</td>\n",
       "      <td>Classical Mythology</td>\n",
       "      <td>Mark P. O. Morford</td>\n",
       "      <td>2002</td>\n",
       "      <td>Oxford University Press</td>\n",
       "      <td>http://images.amazon.com/images/P/0195153448.0...</td>\n",
       "    </tr>\n",
       "    <tr>\n",
       "      <th>1</th>\n",
       "      <td>0002005018</td>\n",
       "      <td>Clara Callan</td>\n",
       "      <td>Richard Bruce Wright</td>\n",
       "      <td>2001</td>\n",
       "      <td>HarperFlamingo Canada</td>\n",
       "      <td>http://images.amazon.com/images/P/0002005018.0...</td>\n",
       "    </tr>\n",
       "    <tr>\n",
       "      <th>2</th>\n",
       "      <td>0060973129</td>\n",
       "      <td>Decision in Normandy</td>\n",
       "      <td>Carlo D'Este</td>\n",
       "      <td>1991</td>\n",
       "      <td>HarperPerennial</td>\n",
       "      <td>http://images.amazon.com/images/P/0060973129.0...</td>\n",
       "    </tr>\n",
       "    <tr>\n",
       "      <th>3</th>\n",
       "      <td>0374157065</td>\n",
       "      <td>Flu: The Story of the Great Influenza Pandemic...</td>\n",
       "      <td>Gina Bari Kolata</td>\n",
       "      <td>1999</td>\n",
       "      <td>Farrar Straus Giroux</td>\n",
       "      <td>http://images.amazon.com/images/P/0374157065.0...</td>\n",
       "    </tr>\n",
       "    <tr>\n",
       "      <th>4</th>\n",
       "      <td>0393045218</td>\n",
       "      <td>The Mummies of Urumchi</td>\n",
       "      <td>E. J. W. Barber</td>\n",
       "      <td>1999</td>\n",
       "      <td>W. W. Norton &amp;amp; Company</td>\n",
       "      <td>http://images.amazon.com/images/P/0393045218.0...</td>\n",
       "    </tr>\n",
       "  </tbody>\n",
       "</table>\n",
       "</div>"
      ],
      "text/plain": [
       "         ISBN                                         Book-Title  \\\n",
       "0  0195153448                                Classical Mythology   \n",
       "1  0002005018                                       Clara Callan   \n",
       "2  0060973129                               Decision in Normandy   \n",
       "3  0374157065  Flu: The Story of the Great Influenza Pandemic...   \n",
       "4  0393045218                             The Mummies of Urumchi   \n",
       "\n",
       "            Book-Author Year-Of-Publication                   Publisher  \\\n",
       "0    Mark P. O. Morford                2002     Oxford University Press   \n",
       "1  Richard Bruce Wright                2001       HarperFlamingo Canada   \n",
       "2          Carlo D'Este                1991             HarperPerennial   \n",
       "3      Gina Bari Kolata                1999        Farrar Straus Giroux   \n",
       "4       E. J. W. Barber                1999  W. W. Norton &amp; Company   \n",
       "\n",
       "                                         Image-URL-M  \n",
       "0  http://images.amazon.com/images/P/0195153448.0...  \n",
       "1  http://images.amazon.com/images/P/0002005018.0...  \n",
       "2  http://images.amazon.com/images/P/0060973129.0...  \n",
       "3  http://images.amazon.com/images/P/0374157065.0...  \n",
       "4  http://images.amazon.com/images/P/0393045218.0...  "
      ]
     },
     "execution_count": 2,
     "metadata": {},
     "output_type": "execute_result"
    }
   ],
   "source": [
    "book_df = pd.read_csv('../data/Books.csv', usecols=[\"ISBN\", \"Book-Title\", \"Book-Author\", \"Year-Of-Publication\", \"Publisher\", \"Image-URL-M\"])\n",
    "book_df.head()"
   ]
  },
  {
   "cell_type": "code",
   "execution_count": 3,
   "id": "1fddab69-964c-4d6d-be66-f43dedc3bdab",
   "metadata": {},
   "outputs": [
    {
     "name": "stdout",
     "output_type": "stream",
     "text": [
      "レコード数: 271360\n"
     ]
    }
   ],
   "source": [
    "print(f\"レコード数: {len(book_df)}\")"
   ]
  },
  {
   "cell_type": "code",
   "execution_count": 4,
   "id": "89f8aa02-ced0-469f-9976-c1805a24c01e",
   "metadata": {},
   "outputs": [
    {
     "data": {
      "text/plain": [
       "Book-Title\n",
       "Selected Poems                             27\n",
       "Little Women                               24\n",
       "Wuthering Heights                          21\n",
       "Dracula                                    20\n",
       "Adventures of Huckleberry Finn             20\n",
       "                                           ..\n",
       "Hinds Feet On High Places                   1\n",
       "Hinds Feet on High Places                   1\n",
       "Hinds Feet on High Places Women             1\n",
       "Hindsight: A Novel of the Class of 1972     1\n",
       "Ã?Â?thique en toc                           1\n",
       "Length: 242135, dtype: int64"
      ]
     },
     "execution_count": 4,
     "metadata": {},
     "output_type": "execute_result"
    }
   ],
   "source": [
    "# 同じ名前の本があるという紛らわしいこと\n",
    "book_df.groupby('Book-Title').size().sort_values(ascending=False)"
   ]
  },
  {
   "cell_type": "code",
   "execution_count": 5,
   "id": "f14aaa08-aded-40dc-a31d-7b89a4b039ca",
   "metadata": {},
   "outputs": [
    {
     "data": {
      "text/plain": [
       "Year-Of-Publication\n",
       "0                    3570\n",
       "1806                    1\n",
       "1900                    1\n",
       "1901                    7\n",
       "1902                    2\n",
       "                     ... \n",
       "2024                    1\n",
       "2030                    3\n",
       "2037                    1\n",
       "DK Publishing Inc       2\n",
       "Gallimard               1\n",
       "Length: 202, dtype: int64"
      ]
     },
     "execution_count": 5,
     "metadata": {},
     "output_type": "execute_result"
    }
   ],
   "source": [
    "book_df.groupby(\"Year-Of-Publication\").size()"
   ]
  },
  {
   "cell_type": "code",
   "execution_count": 6,
   "id": "dce99885-a3a3-4673-82c0-e0409eea6b41",
   "metadata": {},
   "outputs": [
    {
     "data": {
      "text/plain": [
       "(1960.0, 2006.0)"
      ]
     },
     "execution_count": 6,
     "metadata": {},
     "output_type": "execute_result"
    },
    {
     "data": {
      "image/png": "[encoded data removed]",
      "text/plain": [
       "<Figure size 432x288 with 1 Axes>"
      ]
     },
     "metadata": {
      "needs_background": "light"
     },
     "output_type": "display_data"
    }
   ],
   "source": [
    "# 西暦ではない後ろの２つは、履歴と一緒にあとで消す、とする。0もどうにかする。\n",
    "temp_df = book_df[(book_df[\"Year-Of-Publication\"]!=\"DK Publishing Inc\") & (book_df[\"Year-Of-Publication\"]!=\"Gallimard\")]\n",
    "temp_df = temp_df.astype({\"Year-Of-Publication\": int})\n",
    "temp_df = temp_df[temp_df[\"Year-Of-Publication\"]!=0]\n",
    "\n",
    "pub_dict = temp_df.groupby(\"Year-Of-Publication\").size().to_dict()\n",
    "\n",
    "sns.histplot(temp_df[\"Year-Of-Publication\"])\n",
    "plt.xlim(1960,2006)"
   ]
  },
  {
   "cell_type": "code",
   "execution_count": 7,
   "id": "2da45036-55c1-4d4a-b01e-84af33152306",
   "metadata": {},
   "outputs": [],
   "source": [
    "# nullなauthorレコードは一件しかないのでdropする\n",
    "nan_author_index = book_df[book_df[\"Book-Author\"].isnull()].index\n",
    "book_df.drop(nan_author_index, inplace=True)"
   ]
  },
  {
   "cell_type": "code",
   "execution_count": 8,
   "id": "228318c3-3838-40a4-95c2-f5ce60938142",
   "metadata": {},
   "outputs": [
    {
     "name": "stdout",
     "output_type": "stream",
     "text": [
      "著者の数: 102023\n"
     ]
    }
   ],
   "source": [
    "author_size = len(book_df.groupby('Book-Author').size())\n",
    "print(f\"著者の数: {author_size}\")"
   ]
  },
  {
   "cell_type": "code",
   "execution_count": 9,
   "id": "32fac400-ed6b-4ff5-a5bb-e526ed943cc7",
   "metadata": {},
   "outputs": [
    {
     "data": {
      "text/plain": [
       "count    102023.000000\n",
       "mean          2.659783\n",
       "std           7.908872\n",
       "min           1.000000\n",
       "25%           1.000000\n",
       "50%           1.000000\n",
       "75%           2.000000\n",
       "max         632.000000\n",
       "dtype: float64"
      ]
     },
     "execution_count": 9,
     "metadata": {},
     "output_type": "execute_result"
    }
   ],
   "source": [
    "book_df.groupby('Book-Author').size().describe()"
   ]
  },
  {
   "cell_type": "code",
   "execution_count": 10,
   "id": "c62919bf-2788-41fa-bc22-d3157d0eb576",
   "metadata": {},
   "outputs": [
    {
     "data": {
      "text/plain": [
       "Book-Author\n",
       "Agatha Christie        632\n",
       "William Shakespeare    567\n",
       "Stephen King           524\n",
       "Ann M. Martin          423\n",
       "Carolyn Keene          373\n",
       "Francine Pascal        372\n",
       "Isaac Asimov           330\n",
       "Nora Roberts           315\n",
       "Barbara Cartland       307\n",
       "Charles Dickens        302\n",
       "dtype: int64"
      ]
     },
     "execution_count": 10,
     "metadata": {},
     "output_type": "execute_result"
    }
   ],
   "source": [
    "# 最も本を出した著者トップ１０人\n",
    "book_df.groupby('Book-Author').size().sort_values(ascending=False)[:10]"
   ]
  },
  {
   "cell_type": "code",
   "execution_count": 11,
   "id": "41c66ac5-255e-476a-8301-621539ea55c3",
   "metadata": {},
   "outputs": [
    {
     "data": {
      "text/plain": [
       "Text(0.5, 1.0, '著者の出版数\\u3000箱ひげ図')"
      ]
     },
     "execution_count": 11,
     "metadata": {},
     "output_type": "execute_result"
    },
    {
     "data": {
      "image/png": "[encoded data removed]",
      "text/plain": [
       "<Figure size 432x288 with 1 Axes>"
      ]
     },
     "metadata": {
      "needs_background": "light"
     },
     "output_type": "display_data"
    }
   ],
   "source": [
    "publish_count_list = book_df.groupby('Book-Author').size().to_list()\n",
    "\n",
    "fig, ax = plt.subplots()\n",
    "\n",
    "ax.boxplot(publish_count_list, sym=\"\")\n",
    "ax.set_title('著者の出版数　箱ひげ図')"
   ]
  },
  {
   "cell_type": "code",
   "execution_count": 12,
   "id": "ace9e70d-566d-48b8-af80-8a3f70431bb9",
   "metadata": {},
   "outputs": [
    {
     "data": {
      "text/plain": [
       "Text(0, 0.5, '著者の数')"
      ]
     },
     "execution_count": 12,
     "metadata": {},
     "output_type": "execute_result"
    },
    {
     "data": {
      "image/png": "[encoded data removed]",
      "text/plain": [
       "<Figure size 432x288 with 1 Axes>"
      ]
     },
     "metadata": {
      "needs_background": "light"
     },
     "output_type": "display_data"
    }
   ],
   "source": [
    "fig, ax = plt.subplots()\n",
    "ax.hist(x=publish_count_list, bins=1000)\n",
    "ax.set_xlim(0,15)\n",
    "ax.set_ylim(0,70000)\n",
    "ax.set_title('著者ごとの出版数(７割の著者は1回しか本を出していない)')\n",
    "ax.set_xlabel('本を出した回数')\n",
    "ax.set_ylabel('著者の数')\n"
   ]
  },
  {
   "cell_type": "code",
   "execution_count": 13,
   "id": "e58da005-3336-4633-b9f2-3acd3da680a8",
   "metadata": {},
   "outputs": [
    {
     "name": "stdout",
     "output_type": "stream",
     "text": [
      "出版社が不明の数: 2\n"
     ]
    }
   ],
   "source": [
    "nan_publisher_count = len(book_df[book_df[\"Publisher\"].isnull()])\n",
    "print(f'出版社が不明の数: {nan_publisher_count}')"
   ]
  },
  {
   "cell_type": "code",
   "execution_count": 14,
   "id": "347ea3f9-030c-4b7b-89fa-00e242598169",
   "metadata": {},
   "outputs": [],
   "source": [
    "# nanのレコードは落としておく\n",
    "nan_publisher_index_list = book_df[book_df[\"Publisher\"].isnull()].index\n",
    "book_df.drop(nan_publisher_index_list, inplace=True)"
   ]
  },
  {
   "cell_type": "code",
   "execution_count": 15,
   "id": "983b7105-f2fd-4d73-94f0-dee306616411",
   "metadata": {},
   "outputs": [
    {
     "name": "stdout",
     "output_type": "stream",
     "text": [
      "出版社数:　16806\n"
     ]
    }
   ],
   "source": [
    "publisher_count = len(book_df.groupby(\"Publisher\").size())\n",
    "print(f\"出版社数:　{publisher_count}\")"
   ]
  },
  {
   "cell_type": "code",
   "execution_count": 16,
   "id": "ee84c49e-e510-4f86-ab60-abdf91a31891",
   "metadata": {},
   "outputs": [
    {
     "data": {
      "text/plain": [
       "Publisher\n",
       "Harlequin                   7535\n",
       "Silhouette                  4220\n",
       "Pocket                      3905\n",
       "Ballantine Books            3783\n",
       "Bantam Books                3646\n",
       "Scholastic                  3160\n",
       "Simon &amp; Schuster        2971\n",
       "Penguin Books               2844\n",
       "Berkley Publishing Group    2771\n",
       "Warner Books                2727\n",
       "dtype: int64"
      ]
     },
     "execution_count": 16,
     "metadata": {},
     "output_type": "execute_result"
    }
   ],
   "source": [
    "# 最も本を出した出版社トップ１０\n",
    "book_df.groupby(\"Publisher\").size().sort_values(ascending=False)[:10]"
   ]
  },
  {
   "cell_type": "code",
   "execution_count": 17,
   "id": "4c189f4c-dfda-4bf5-9e4b-3499e66e3aff",
   "metadata": {},
   "outputs": [
    {
     "data": {
      "text/plain": [
       "count    16806.000000\n",
       "mean        16.146436\n",
       "std        127.884518\n",
       "min          1.000000\n",
       "25%          1.000000\n",
       "50%          1.000000\n",
       "75%          4.000000\n",
       "max       7535.000000\n",
       "dtype: float64"
      ]
     },
     "execution_count": 17,
     "metadata": {},
     "output_type": "execute_result"
    }
   ],
   "source": [
    "# 著者と同じくほとんどの出版社は4回しか本を出していない。大企業はごくわずか\n",
    "book_df.groupby(\"Publisher\").size().describe()"
   ]
  },
  {
   "cell_type": "code",
   "execution_count": 18,
   "id": "f901ba34-6f52-4544-bf19-572fe3303065",
   "metadata": {},
   "outputs": [
    {
     "data": {
      "text/plain": [
       "Text(0, 0.5, '出版社の数')"
      ]
     },
     "execution_count": 18,
     "metadata": {},
     "output_type": "execute_result"
    },
    {
     "data": {
      "image/png": "[encoded data removed]",
      "text/plain": [
       "<Figure size 432x288 with 1 Axes>"
      ]
     },
     "metadata": {
      "needs_background": "light"
     },
     "output_type": "display_data"
    }
   ],
   "source": [
    "#大企業を分析\n",
    "publisher_count_list = book_df.groupby('Publisher').size().to_list()\n",
    "\n",
    "fig, ax = plt.subplots()\n",
    "ax.hist(x=publisher_count_list, bins=30)\n",
    "ax.set_xlim(0,8000)\n",
    "ax.set_ylim(0,100)\n",
    "ax.set_title('出版社ごとの出版数(７割の出版社は1~4回しか本を出していない)')\n",
    "ax.set_xlabel('本を出した回数')\n",
    "ax.set_ylabel('出版社の数')"
   ]
  },
  {
   "cell_type": "code",
   "execution_count": 19,
   "id": "53593c80-aa05-4ada-8b0d-8c43535e238e",
   "metadata": {},
   "outputs": [
    {
     "data": {
      "text/plain": [
       "['../data/book.pkl']"
      ]
     },
     "execution_count": 19,
     "metadata": {},
     "output_type": "execute_result"
    }
   ],
   "source": [
    "import joblib\n",
    "joblib.dump(book_df, \"../data/book.pkl\")"
   ]
  },
  {
   "cell_type": "code",
   "execution_count": null,
   "id": "4aa3bc5a-f208-4e57-8dcf-9c45454f1051",
   "metadata": {},
   "outputs": [],
   "source": []
  }
 ],
 "metadata": {
  "kernelspec": {
   "display_name": "Python 3 (ipykernel)",
   "language": "python",
   "name": "python3"
  },
  "language_info": {
   "codemirror_mode": {
    "name": "ipython",
    "version": 3
   },
   "file_extension": ".py",
   "mimetype": "text/x-python",
   "name": "python",
   "nbconvert_exporter": "python",
   "pygments_lexer": "ipython3",
   "version": "3.7.8"
  }
 },
 "nbformat": 4,
 "nbformat_minor": 5
}
