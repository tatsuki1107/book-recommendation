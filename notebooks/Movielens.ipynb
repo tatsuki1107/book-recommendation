{
 "cells": [
  {
   "cell_type": "code",
   "execution_count": 11,
   "id": "98fa4172-96ca-40c6-b806-14bb0c3e51e7",
   "metadata": {},
   "outputs": [],
   "source": [
    "from surprise import Dataset, SVD\n",
    "from surprise.model_selection import GridSearchCV"
   ]
  },
  {
   "cell_type": "code",
   "execution_count": 12,
   "id": "d721a2d0-9683-4df4-870b-305e72c66fe3",
   "metadata": {},
   "outputs": [],
   "source": [
    "data = Dataset.load_builtin('ml-100k')\n",
    "param_grid = {\n",
    "    \"n_epochs\": [5, 10], \n",
    "    \"lr_all\": [0.002, 0.005], \n",
    "    \"reg_all\": [0.4, 0.6]\n",
    "}\n",
    "gs = GridSearchCV(SVD, param_grid, measures=[\"rmse\"], cv=3, n_jobs=-1)\n",
    "gs.fit(data)"
   ]
  },
  {
   "cell_type": "code",
   "execution_count": 18,
   "id": "92b2ebe9-092e-4199-9cb6-d4050e4b8626",
   "metadata": {},
   "outputs": [
    {
     "name": "stdout",
     "output_type": "stream",
     "text": [
      "<surprise.prediction_algorithms.matrix_factorization.SVD object at 0x4067726910>\n"
     ]
    }
   ],
   "source": [
    "print(gs.best_estimator[\"rmse\"])"
   ]
  },
  {
   "cell_type": "code",
   "execution_count": 19,
   "id": "3fd4bbf5-87ea-4b1a-9823-079209e9c084",
   "metadata": {},
   "outputs": [
    {
     "name": "stdout",
     "output_type": "stream",
     "text": [
      "{'n_epochs': 10, 'lr_all': 0.005, 'reg_all': 0.4}\n"
     ]
    }
   ],
   "source": [
    "print(gs.best_params[\"rmse\"])"
   ]
  },
  {
   "cell_type": "code",
   "execution_count": 21,
   "id": "18b6e60f-7c18-4665-911c-e4fcf007aca2",
   "metadata": {},
   "outputs": [
    {
     "name": "stdout",
     "output_type": "stream",
     "text": [
      "0.963275624478093\n"
     ]
    }
   ],
   "source": [
    "print(gs.best_score[\"rmse\"])"
   ]
  },
  {
   "cell_type": "code",
   "execution_count": 30,
   "id": "5dd64c4a-c784-4022-80d4-cdf072ca6bb0",
   "metadata": {},
   "outputs": [
    {
     "data": {
      "text/plain": [
       "<surprise.prediction_algorithms.matrix_factorization.SVD at 0x4067726910>"
      ]
     },
     "execution_count": 30,
     "metadata": {},
     "output_type": "execute_result"
    }
   ],
   "source": [
    "algo = gs.best_estimator[\"rmse\"]\n",
    "algo.fit(data.build_full_trainset())"
   ]
  },
  {
   "cell_type": "code",
   "execution_count": 40,
   "id": "ced5d72b-3848-4a57-aa17-f2f7b0ea7826",
   "metadata": {},
   "outputs": [
    {
     "data": {
      "text/plain": [
       "Prediction(uid='1', iid='1', r_ui=0, est=3.832344569034591, details={'was_impossible': False})"
      ]
     },
     "execution_count": 40,
     "metadata": {},
     "output_type": "execute_result"
    }
   ],
   "source": [
    "algo.predict(\"1\", \"1\", r_ui=0)"
   ]
  },
  {
   "cell_type": "code",
   "execution_count": 47,
   "id": "37207e55-acbe-425e-b1be-b3aa135cf076",
   "metadata": {},
   "outputs": [
    {
     "data": {
      "text/plain": [
       "<surprise.prediction_algorithms.matrix_factorization.SVD at 0x4067726910>"
      ]
     },
     "execution_count": 47,
     "metadata": {},
     "output_type": "execute_result"
    }
   ],
   "source": [
    "algo"
   ]
  },
  {
   "cell_type": "code",
   "execution_count": 49,
   "id": "0f49fce8-e22e-4a55-a239-845572e298aa",
   "metadata": {},
   "outputs": [
    {
     "ename": "AttributeError",
     "evalue": "'DatasetAutoFolds' object has no attribute 'all_ratings'",
     "output_type": "error",
     "traceback": [
      "\u001b[0;31m---------------------------------------------------------------------------\u001b[0m",
      "\u001b[0;31mAttributeError\u001b[0m                            Traceback (most recent call last)",
      "\u001b[0;32m/tmp/ipykernel_257/3452216821.py\u001b[0m in \u001b[0;36m<module>\u001b[0;34m\u001b[0m\n\u001b[0;32m----> 1\u001b[0;31m \u001b[0mdata\u001b[0m\u001b[0;34m.\u001b[0m\u001b[0mall_ratings\u001b[0m\u001b[0;34m\u001b[0m\u001b[0;34m\u001b[0m\u001b[0m\n\u001b[0m",
      "\u001b[0;31mAttributeError\u001b[0m: 'DatasetAutoFolds' object has no attribute 'all_ratings'"
     ]
    }
   ],
   "source": [
    "data.all_ratings"
   ]
  },
  {
   "cell_type": "code",
   "execution_count": null,
   "id": "60b8162e-d757-4ca0-b528-e3ddc1565e75",
   "metadata": {},
   "outputs": [],
   "source": []
  }
 ],
 "metadata": {
  "kernelspec": {
   "display_name": "Python 3 (ipykernel)",
   "language": "python",
   "name": "python3"
  },
  "language_info": {
   "codemirror_mode": {
    "name": "ipython",
    "version": 3
   },
   "file_extension": ".py",
   "mimetype": "text/x-python",
   "name": "python",
   "nbconvert_exporter": "python",
   "pygments_lexer": "ipython3",
   "version": "3.7.8"
  }
 },
 "nbformat": 4,
 "nbformat_minor": 5
}
